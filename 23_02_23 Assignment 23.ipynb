{
 "cells": [
  {
   "cell_type": "markdown",
   "id": "51aacfd5",
   "metadata": {},
   "source": [
    "## Question 1\n"
   ]
  },
  {
   "cell_type": "code",
   "execution_count": 1,
   "id": "ec920c87",
   "metadata": {},
   "outputs": [
    {
     "name": "stdout",
     "output_type": "stream",
     "text": [
      "0     4\n",
      "1     8\n",
      "2    15\n",
      "3    16\n",
      "4    23\n",
      "5    42\n",
      "dtype: int64\n"
     ]
    }
   ],
   "source": [
    "import pandas as pd\n",
    "num=pd.Series([4, 8, 15, 16, 23,42])\n",
    "print(num)"
   ]
  },
  {
   "cell_type": "markdown",
   "id": "305270b9",
   "metadata": {},
   "source": [
    "## Question 2"
   ]
  },
  {
   "cell_type": "code",
   "execution_count": 2,
   "id": "da5155a1",
   "metadata": {},
   "outputs": [
    {
     "name": "stdout",
     "output_type": "stream",
     "text": [
      "0     1\n",
      "1     2\n",
      "2     3\n",
      "3     4\n",
      "4     5\n",
      "5     6\n",
      "6     7\n",
      "7     8\n",
      "8     9\n",
      "9    10\n",
      "dtype: int32\n"
     ]
    }
   ],
   "source": [
    "import numpy as np\n",
    "list1=np.arange(1,11)\n",
    "ser=pd.Series(list1)\n",
    "print(ser)"
   ]
  },
  {
   "cell_type": "markdown",
   "id": "e1900ebc",
   "metadata": {},
   "source": [
    "## Question 3"
   ]
  },
  {
   "cell_type": "code",
   "execution_count": 3,
   "id": "dfd7b74c",
   "metadata": {},
   "outputs": [
    {
     "name": "stdout",
     "output_type": "stream",
     "text": [
      "     Name  Age  Gender\n",
      "0   Alice   25  Female\n",
      "1     Bob   30    Male\n",
      "2  Claire   27    Male\n"
     ]
    }
   ],
   "source": [
    "details={\"Name\":[\"Alice\",\"Bob\",\"Claire\"],\"Age\":[25,30,27],\"Gender\":[\"Female\",\"Male\",\"Male\"]}\n",
    "students=pd.DataFrame(details)\n",
    "print(students)"
   ]
  },
  {
   "cell_type": "markdown",
   "id": "7fac635c",
   "metadata": {},
   "source": [
    "## Question 4"
   ]
  },
  {
   "cell_type": "markdown",
   "id": "08a03e94",
   "metadata": {},
   "source": [
    " - In pandas, a DataFrame is a two-dimensional labeled data structure with columns of potentially different types. It is similar to a spreadsheet or SQL table, where data is organized in rows and columns. The columns in a DataFrame can be of different data types such as integers, floats, strings, or dates.\n",
    "\n",
    " - On the other hand, a Series is a one-dimensional labeled array capable of holding any data type (integers, strings, floats, Python objects, etc.). A DataFrame can be seen as a collection of Series objects, where each column represents a Series."
   ]
  },
  {
   "cell_type": "code",
   "execution_count": 4,
   "id": "b7541aca",
   "metadata": {},
   "outputs": [
    {
     "name": "stdout",
     "output_type": "stream",
     "text": [
      "       name  age gender\n",
      "0      John   28      M\n",
      "1     Marry   31      F\n",
      "2     Peter   25      M\n",
      "3  Samantha   29      F\n",
      "******************************\n",
      "0        John\n",
      "1       Marry\n",
      "2       Peter\n",
      "3    Samantha\n",
      "Name: name, dtype: object\n"
     ]
    }
   ],
   "source": [
    "import pandas as pd\n",
    "\n",
    "data = {\n",
    "    'name': ['John', 'Marry', 'Peter', 'Samantha'],\n",
    "    'age': [28, 31, 25, 29],\n",
    "    'gender': ['M', 'F', 'M', 'F']\n",
    "}\n",
    "\n",
    "\n",
    "df = pd.DataFrame(data)\n",
    "\n",
    "name_series = df['name']\n",
    "\n",
    "print(df)\n",
    "print(\"******************************\")\n",
    "print(name_series)\n"
   ]
  },
  {
   "cell_type": "markdown",
   "id": "51b02063",
   "metadata": {},
   "source": [
    "## Question 5"
   ]
  },
  {
   "cell_type": "markdown",
   "id": "259ffd2b",
   "metadata": {},
   "source": [
    "- head() and tail(): To view the first or last n rows of a DataFrame. For example, df.head(10) would return the first 10 rows of the DataFrame.\n",
    "\n",
    "- info(): To get a summary of the DataFrame, including the data types of each column, the number of non-null values, and the memory usage. This can be useful for getting a quick overview of a large DataFrame.\n",
    "\n",
    "- describe(): To generate descriptive statistics of the DataFrame, such as the count, mean, standard deviation, and quartiles of each column.\n",
    "\n",
    "- drop(): To remove rows or columns from the DataFrame. For example, df.drop(['col1', 'col2'], axis=1) would remove columns 'col1' and 'col2' from the DataFrame.\n",
    "\n",
    "- fillna(): To fill in missing values in the DataFrame with a specified value or method. For example, df.fillna(0) would replace all missing values in the DataFrame with 0.\n",
    "\n",
    "- groupby(): To group rows in the DataFrame by one or more columns and perform aggregate functions on the groups. For example, df.groupby('category').mean() would group the DataFrame by the 'category' column and calculate the mean of each numerical column for each group.\n",
    "\n",
    "- merge(): To merge two or more DataFrames based on a common column or index. For example, pd.merge(df1, df2, on='key') would merge two DataFrames df1 and df2 based on the 'key' column.\n",
    "\n",
    "- pivot_table(): To create a pivot table from the DataFrame based on one or more columns. For example, pd.pivot_table(df, values='value', index='category', columns='date') would create a pivot table that shows the 'value' column for each 'category' and 'date' combination"
   ]
  },
  {
   "cell_type": "code",
   "execution_count": 5,
   "id": "56042f75",
   "metadata": {},
   "outputs": [
    {
     "name": "stdout",
     "output_type": "stream",
     "text": [
      "         age\n",
      "count   4.00\n",
      "mean   28.25\n",
      "std     2.50\n",
      "min    25.00\n",
      "25%    27.25\n",
      "50%    28.50\n",
      "75%    29.50\n",
      "max    31.00\n",
      "************************************\n",
      "<class 'pandas.core.frame.DataFrame'>\n",
      "RangeIndex: 4 entries, 0 to 3\n",
      "Data columns (total 3 columns):\n",
      " #   Column  Non-Null Count  Dtype \n",
      "---  ------  --------------  ----- \n",
      " 0   name    4 non-null      object\n",
      " 1   age     4 non-null      int64 \n",
      " 2   gender  4 non-null      object\n",
      "dtypes: int64(1), object(2)\n",
      "memory usage: 224.0+ bytes\n",
      "None\n"
     ]
    }
   ],
   "source": [
    "print(df.describe())\n",
    "print(\"************************************\")\n",
    "print(df.info())"
   ]
  },
  {
   "cell_type": "markdown",
   "id": "b35322b7",
   "metadata": {},
   "source": [
    "## Question 6"
   ]
  },
  {
   "cell_type": "markdown",
   "id": "dad1004e",
   "metadata": {},
   "source": [
    "Out of Series, DataFrame, and Panel, only the DataFrame is mutable in nature.\n",
    "\n",
    "mutable object is one whose value can be changed after it is created. A DataFrame is mutable because\n",
    "it allows us to add or remove columns, modify existing values, or even add or remove rows'''"
   ]
  },
  {
   "cell_type": "markdown",
   "id": "fcf7feee",
   "metadata": {},
   "source": [
    "## Question 7"
   ]
  },
  {
   "cell_type": "code",
   "execution_count": 6,
   "id": "30844d26",
   "metadata": {},
   "outputs": [
    {
     "name": "stdout",
     "output_type": "stream",
     "text": [
      "    Name  Age\n",
      "0   John   32\n",
      "1   Mary   27\n",
      "2  Peter   41\n",
      "3   Emma   18\n",
      "4  David   24\n"
     ]
    }
   ],
   "source": [
    "#yes you can create a DataFrame using multiple Series, we can use the pandas library in Python\n",
    "names = pd.Series(['John', 'Mary', 'Peter', 'Emma', 'David'])\n",
    "ages = pd.Series([32, 27, 41, 18, 24])\n",
    "det = pd.DataFrame({'Name': names, 'Age': ages})\n",
    "print(det)"
   ]
  }
 ],
 "metadata": {
  "kernelspec": {
   "display_name": "Python 3 (ipykernel)",
   "language": "python",
   "name": "python3"
  },
  "language_info": {
   "codemirror_mode": {
    "name": "ipython",
    "version": 3
   },
   "file_extension": ".py",
   "mimetype": "text/x-python",
   "name": "python",
   "nbconvert_exporter": "python",
   "pygments_lexer": "ipython3",
   "version": "3.9.7"
  }
 },
 "nbformat": 4,
 "nbformat_minor": 5
}
