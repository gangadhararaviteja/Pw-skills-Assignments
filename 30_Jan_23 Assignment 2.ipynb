{
 "cells": [
  {
   "cell_type": "markdown",
   "id": "ace4711c",
   "metadata": {},
   "source": [
    "## Question 1"
   ]
  },
  {
   "cell_type": "code",
   "execution_count": 15,
   "id": "70d7a463",
   "metadata": {},
   "outputs": [
    {
     "name": "stdout",
     "output_type": "stream",
     "text": [
      "102\n",
      "enter valid percentage\n"
     ]
    }
   ],
   "source": [
    "percent=int(input())\n",
    "if percent>=0 and percent<=100:\n",
    "    if percent>=90 and percent<=100:\n",
    "        print(\"Grade A\")\n",
    "    elif percent<=90 and percent>80:\n",
    "        print(\"Grade B\")\n",
    "    elif percent>=60 and percent<=80:\n",
    "        print(\"Grade C\")\n",
    "    elif percent<60:\n",
    "        print(\"Grade D\")\n",
    "else:\n",
    "    print(\"enter valid percentage\")"
   ]
  },
  {
   "cell_type": "markdown",
   "id": "eca2f6f9",
   "metadata": {},
   "source": [
    "## Question2"
   ]
  },
  {
   "cell_type": "code",
   "execution_count": 20,
   "id": "7e692881",
   "metadata": {},
   "outputs": [
    {
     "name": "stdout",
     "output_type": "stream",
     "text": [
      "4000\n",
      "the tax to be paid is:2000.0\n"
     ]
    }
   ],
   "source": [
    "cp=int(input())\n",
    "def Tax(cp):\n",
    "    if cp>0:\n",
    "        if cp>100000:\n",
    "            print(f\"the tax to be paid is:{cp*0.15}\")\n",
    "        elif 50000<cp<=100000:\n",
    "            print(f\"the tax to be paid is:{cp*0.10}\")\n",
    "        else:\n",
    "            print(f\"the tax to be paid is:{cp*0.5}\")\n",
    "    else:\n",
    "        print(\"Enter correct cost price of bike\")\n",
    "Tax(cp)"
   ]
  },
  {
   "cell_type": "markdown",
   "id": "8b9f00bf",
   "metadata": {},
   "source": [
    "## Question 3\n"
   ]
  },
  {
   "cell_type": "code",
   "execution_count": 30,
   "id": "a8801280",
   "metadata": {},
   "outputs": [
    {
     "name": "stdout",
     "output_type": "stream",
     "text": [
      "delhi\n",
      "Red fort is the Monoment of Delhi\n"
     ]
    }
   ],
   "source": [
    "city=input().capitalize()\n",
    "if city==\"Delhi\":\n",
    "    print(\"Red fort is the Monoment of Delhi\")\n",
    "elif city==\"Agra\":\n",
    "    print(\"Taj Mahal is the Monoment of Agra\")\n",
    "elif city=='Jaipur':\n",
    "    print(\"Raj Mahal is the Monoment of Jaipur\")"
   ]
  },
  {
   "cell_type": "markdown",
   "id": "8c929821",
   "metadata": {},
   "source": [
    "## Question 4\n"
   ]
  },
  {
   "cell_type": "code",
   "execution_count": 4,
   "id": "bb5d508d",
   "metadata": {},
   "outputs": [
    {
     "name": "stdout",
     "output_type": "stream",
     "text": [
      "90\n",
      "2\n"
     ]
    }
   ],
   "source": [
    "num=int(input())\n",
    "c=0\n",
    "while num>10:\n",
    "    num=num/3\n",
    "    c+=1\n",
    "print(c)"
   ]
  },
  {
   "cell_type": "markdown",
   "id": "68187821",
   "metadata": {},
   "source": [
    "## Question 5"
   ]
  },
  {
   "cell_type": "markdown",
   "id": "76e36551",
   "metadata": {},
   "source": [
    "Ans: while loop is used when user need to repeat the process untill the specific(termination) condition is satisfied"
   ]
  },
  {
   "cell_type": "markdown",
   "id": "058e5b08",
   "metadata": {},
   "source": [
    "## Question 6"
   ]
  },
  {
   "cell_type": "code",
   "execution_count": 6,
   "id": "5a1d2c08",
   "metadata": {},
   "outputs": [
    {
     "name": "stdout",
     "output_type": "stream",
     "text": [
      "5\n",
      "First Pattern\n",
      "*****\n",
      "****\n",
      "***\n",
      "**\n",
      "*\n",
      "Second Pattern\n",
      "     \n",
      "     * \n",
      "    *  * \n",
      "   *  *  * \n",
      "  *  *  *  * \n",
      " *  *  *  *  * \n",
      "Third Pattern\n",
      "\n",
      "*  \n",
      "*  *  \n",
      "*  *  *  \n",
      "*  *  *  *  \n",
      "*  *  *  *  *  \n"
     ]
    }
   ],
   "source": [
    "num=int(input())\n",
    "i=num\n",
    "print(\"First Pattern\")\n",
    "while i>0:\n",
    "    j=i\n",
    "    while j>0:\n",
    "        print('*',end=\"\")\n",
    "        j=j-1\n",
    "    print(\"\")\n",
    "    i=i-1\n",
    "print(\"Second Pattern\")\n",
    "i=0\n",
    "while i<=num:\n",
    "    j=0\n",
    "    k=num-i\n",
    "    print(k*' ',end=\"\")    \n",
    "    while j<i:\n",
    "        print(' * ',end=\"\")\n",
    "        j+=1\n",
    "    print(\"\")\n",
    "    i+=1\n",
    "print(\"Third Pattern\")\n",
    "i=0\n",
    "while i<=num:\n",
    "    j=0\n",
    "    k=num-i\n",
    "    while j<i:\n",
    "        print(\"*\",\" \",end=\"\")\n",
    "        j+=1\n",
    "    print(\"\")\n",
    "    i+=1"
   ]
  },
  {
   "cell_type": "markdown",
   "id": "9736eda6",
   "metadata": {},
   "source": [
    "## Question 7"
   ]
  },
  {
   "cell_type": "code",
   "execution_count": 9,
   "id": "f91455cf",
   "metadata": {},
   "outputs": [
    {
     "name": "stdout",
     "output_type": "stream",
     "text": [
      "10\n",
      "9\n",
      "8\n",
      "7\n",
      "6\n",
      "5\n",
      "4\n",
      "3\n",
      "2\n",
      "1\n"
     ]
    }
   ],
   "source": [
    "n=10\n",
    "while n>0:\n",
    "    print(n)\n",
    "    n-=1"
   ]
  },
  {
   "cell_type": "markdown",
   "id": "28a3a5db",
   "metadata": {},
   "source": [
    "## Question 8"
   ]
  },
  {
   "cell_type": "code",
   "execution_count": 10,
   "id": "8af1d500",
   "metadata": {},
   "outputs": [
    {
     "name": "stdout",
     "output_type": "stream",
     "text": [
      "10\n",
      "9\n",
      "8\n",
      "7\n",
      "6\n",
      "5\n",
      "4\n",
      "3\n",
      "2\n",
      "1\n"
     ]
    }
   ],
   "source": [
    "n=10\n",
    "while n>0:\n",
    "    print(n)\n",
    "    n-=1"
   ]
  }
 ],
 "metadata": {
  "kernelspec": {
   "display_name": "Python 3 (ipykernel)",
   "language": "python",
   "name": "python3"
  },
  "language_info": {
   "codemirror_mode": {
    "name": "ipython",
    "version": 3
   },
   "file_extension": ".py",
   "mimetype": "text/x-python",
   "name": "python",
   "nbconvert_exporter": "python",
   "pygments_lexer": "ipython3",
   "version": "3.9.7"
  }
 },
 "nbformat": 4,
 "nbformat_minor": 5
}
