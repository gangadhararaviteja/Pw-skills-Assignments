{
 "cells": [
  {
   "cell_type": "markdown",
   "id": "a6e12eff",
   "metadata": {},
   "source": [
    "## Question 1\n"
   ]
  },
  {
   "cell_type": "markdown",
   "id": "44c46456",
   "metadata": {},
   "source": [
    "Statistics is a branch of mathematics that deals with the collection, analysis, interpretation, presentation, and organization of data. It involves the use of quantitative methods to make sense of large sets of data, and to draw conclusions and make predictions based on that data."
   ]
  },
  {
   "cell_type": "markdown",
   "id": "5a311ffd",
   "metadata": {},
   "source": [
    "## Question 2"
   ]
  },
  {
   "cell_type": "markdown",
   "id": "8609a7cf",
   "metadata": {},
   "source": [
    "1. Descriptive Statistics: Descriptive statistics describe or summarize a set of data numerically or graphically, providing information about the central tendency, variability, and distribution of a dataset.\n",
    "   - example:The average score of a test can be calculated by taking the sum of all scores and dividing it by the number of students who took the test. This statistic provides an idea of the central tendency of the data.\n",
    "   \n",
    "2. Inferential Statistics: Inferential statistics are used to make inferences about a population based on a sample of data. They allow us to draw conclusions about a larger group based on a smaller sample.\n",
    "   \n",
    "  - Hypothesis Testing: It is used to determine whether there is a significant difference between two groups, for example, whether a new drug is more effective than an existing drug."
   ]
  },
  {
   "cell_type": "markdown",
   "id": "40206f67",
   "metadata": {},
   "source": [
    "## Question 3"
   ]
  },
  {
   "cell_type": "markdown",
   "id": "add4c3f9",
   "metadata": {},
   "source": [
    "There are four main types of data: nominal, ordinal, interval, and ratio.\n",
    "\n",
    "1. Nominal data refers to data that is categorized without any order or ranking. It is qualitative data that describes characteristics or attributes. Examples include gender, eye color, and country of origin.\n",
    "\n",
    "2. Ordinal data refers to data that can be ranked or ordered but the differences between the values are not meaningful or equal. Examples include education level (elementary, middle school, high school), customer satisfaction (very satisfied, somewhat satisfied, not satisfied), and income level (low, medium, high).\n",
    "\n",
    "3. Interval data refers to data that is measured on a numerical scale with equal intervals between the values, but there is no true zero point. Examples include temperature (measured in Celsius or Fahrenheit), time of day, and year.\n",
    "\n",
    "4. Ratio data refers to data that is measured on a numerical scale with equal intervals between the values and a true zero point. Examples include height, weight, and income."
   ]
  },
  {
   "cell_type": "markdown",
   "id": "75d50568",
   "metadata": {},
   "source": [
    "## Question 4"
   ]
  },
  {
   "cell_type": "markdown",
   "id": "234f2c0e",
   "metadata": {},
   "source": [
    "(i) Grading in exam: A+, A, B+, B, C+, C, D, E\n",
    "   - Qualitative (categorical) data type.  \n",
    "   \n",
    "(ii) Colour of mangoes: yellow, green, orange, red\n",
    "   - Qualitative (categorical) data type.  \n",
    "   \n",
    "(iii) Height data of a class: [178.9, 179, 179.5, 176, 177.2, 178.3, 175.8,...]\n",
    "   - Quantitative (continuous) data type.  \n",
    "   \n",
    "(iv) Number of mangoes exported by a farm: [500, 600, 478, 672, ...]\n",
    "   - Quantitative (discrete) data type"
   ]
  },
  {
   "cell_type": "markdown",
   "id": "687be527",
   "metadata": {},
   "source": [
    "## Question 5"
   ]
  },
  {
   "cell_type": "markdown",
   "id": "3d481e7e",
   "metadata": {},
   "source": [
    "There are four levels of measurement: nominal, ordinal, interval, and ratio.\n",
    "\n",
    "1. Nominal Level:\n",
    " At this level, data is classified into categories or named groups with no inherent order or rank. The categories are usually mutually exclusive and exhaustive. Examples of nominal level variables include gender, race, religion, and political affiliation.\n",
    "\n",
    "2. Ordinal Level:\n",
    " This level of measurement involves data that can be arranged in a specific order or ranking. However, the distance between the values cannot be measured or is not uniform. Examples of ordinal level variables include rank in a competition, education level, and satisfaction level with a product.\n",
    "\n",
    "3. Interval Level:\n",
    " This level of measurement involves data that can be arranged in a specific order, and the distance between the values is equal. However, there is no true zero point, and negative values are possible. Examples of interval level variables include temperature, time, and IQ scores.\n",
    "\n",
    "4. Ratio Level:\n",
    " This level of measurement involves data that can be arranged in a specific order, the distance between the values is equal, and there is a true zero point. Examples of ratio level variables include height, weight, income, and age."
   ]
  },
  {
   "cell_type": "markdown",
   "id": "b3f933f2",
   "metadata": {},
   "source": [
    "## Question 6"
   ]
  },
  {
   "cell_type": "markdown",
   "id": "f42f4fcb",
   "metadata": {},
   "source": [
    "Understanding the level of measurement is crucial when analyzing data because it determines which statistical tests can be used to analyze the data appropriately. The level of measurement refers to the way in which data is measured or classified, and it can be nominal, ordinal, interval, or ratio. \n",
    "\n",
    "\n",
    "Suppose we have a dataset containing the weights of individuals in pounds. In this case, the level of measurement is ratio because weights can be ordered, the differences between the weights are meaningful and equal, and there is a true zero point (i.e., a weight of 0 pounds represents the absence of weight). Using the appropriate statistical tests for the level of measurement, we can perform meaningful analyses and draw valid conclusions from the data.\n",
    "\n",
    "If we were to mistakenly use statistical tests appropriate for a lower level of measurement, such as nominal or ordinal data, the results would be invalid and could lead to erroneous conclusions.Therefore, understanding the level of measurement is crucial for ensuring that the correct statistical methods are used and that the resulting analyses and conclusions are accurate and reliable"
   ]
  },
  {
   "cell_type": "markdown",
   "id": "fd6f1bb5",
   "metadata": {},
   "source": [
    "## Question 7"
   ]
  },
  {
   "cell_type": "markdown",
   "id": "feaae327",
   "metadata": {},
   "source": [
    "Nominal data and ordinal data are two types of categorical data.\n",
    "\n",
    "Nominal data are data points that can be placed into categories, but these categories have no inherent order or rank. Examples of nominal data include gender, eye color, and favorite color. Nominal data can be classified into mutually exclusive categories, but there is no meaningful order or ranking associated with the categories.\n",
    "\n",
    "Ordinal data, on the other hand, are data points that can be placed into categories and have a clear order or ranking associated with them. Examples of ordinal data include education level (e.g., elementary, high school, college), income level (e.g., low, middle, high), and ratings (e.g., poor, fair, good, excellent). Ordinal data can be ranked in order of importance, but the differences between the categories may not be equal.\n",
    "\n",
    "In summary, nominal data are categorical data that have no inherent order, while ordinal data are categorical data that can be ranked or ordered based on their relative importance or value.\n",
    "\n",
    "\n",
    "\n",
    "\n",
    "\n"
   ]
  },
  {
   "cell_type": "markdown",
   "id": "eb818fb2",
   "metadata": {},
   "source": [
    "## Question 8"
   ]
  },
  {
   "cell_type": "markdown",
   "id": "7390106b",
   "metadata": {},
   "source": [
    "One type of plot that can be used to display data in terms of range is a box plot, also known as a box and whisker plot. A box plot displays the range of the data, including the median, quartiles, and any outliers. The box in the plot represents the middle 50% of the data, with the lower and upper edges of the box corresponding to the first and third quartiles, respectively. The line within the box represents the median, and the whiskers extending from the box show the range of the data, typically up to 1.5 times the interquartile range (IQR). Any data points that fall outside of the whiskers are considered outliers and are plotted as individual points. Box plots are useful for identifying the spread and skewness of a data set, as well as identifying any extreme values."
   ]
  },
  {
   "cell_type": "markdown",
   "id": "b4da9b65",
   "metadata": {},
   "source": [
    "## Question 9"
   ]
  },
  {
   "cell_type": "markdown",
   "id": "2cf5d277",
   "metadata": {},
   "source": [
    "1. Descriptive statistics is used to describe and summarize the data using numerical and graphical measures. It includes measures such as mean, median, mode, standard deviation, and variance. These measures help to provide a summary of the data and give insights into the central tendency and variability of the data. Descriptive statistics are used to describe the characteristics of a group of data or population, and they do not involve making any inferences beyond the data itself.\n",
    "\n",
    "  For example, suppose a researcher wants to study the height of students in a class. They collect the data and use descriptive statistics to summarize the data. They may calculate the mean height, the standard deviation, and create a histogram to show the distribution of heights.\n",
    "\n",
    "\n",
    "2. Inferential statistics, on the other hand, involves making inferences about a population based on a sample of data. It involves using statistical methods to draw conclusions or make predictions about a population based on the sample data. Inferential statistics are used to test hypotheses, estimate population parameters, and make predictions about the future.\n",
    "\n",
    "   For example, suppose a researcher wants to study the effect of a new teaching method on student achievement. They randomly select a sample of students and assign them to either the control group or the treatment group. They then collect data on their achievement scores and use inferential statistics to determine if the new teaching method had a significant effect on student achievement compared to the control group"
   ]
  },
  {
   "cell_type": "markdown",
   "id": "c3e33e80",
   "metadata": {},
   "source": [
    "## Question 10"
   ]
  },
  {
   "cell_type": "markdown",
   "id": "331b8b89",
   "metadata": {},
   "source": [
    "Measures of central tendency and variability are used in statistics to summarize and describe datasets. Some of the most common measures of central tendency and variability include:\n",
    "\n",
    "1. Mean: The mean is the sum of all the data points in a dataset divided by the total number of data points. It represents the average value of the dataset. The mean is useful in describing a dataset as it provides a single numerical value that represents the typical value of the dataset. However, it can be sensitive to extreme values in the dataset, which can skew the result.\n",
    "\n",
    "2. Median: The median is the middle value in a dataset when the data is arranged in order from smallest to largest. The median is useful in describing a dataset as it is not affected by extreme values and provides a good measure of the central tendency of the dataset.\n",
    "\n",
    "3. Mode: The mode is the most frequently occurring value in a dataset. The mode is useful in describing a dataset as it provides the most common value in the dataset. However, a dataset can have multiple modes, or it may not have any mode at all.  \n",
    "\n",
    "4. Range: The range is the difference between the largest and smallest values in a dataset. The range is useful in describing a dataset as it provides a measure of the spread of the dataset. However, the range can be sensitive to extreme values and may not provide a good measure of variability.\n",
    "\n",
    "5. Standard deviation: The standard deviation measures the amount of variability or dispersion in a dataset. It is calculated by taking the square root of the variance, which is the average of the squared differences from the mean. The standard deviation is useful in describing a dataset as it provides a measure of how spread out the data is around the mean. It is also used in hypothesis testing to determine if there is a significant difference between two groups."
   ]
  }
 ],
 "metadata": {
  "kernelspec": {
   "display_name": "Python 3 (ipykernel)",
   "language": "python",
   "name": "python3"
  },
  "language_info": {
   "codemirror_mode": {
    "name": "ipython",
    "version": 3
   },
   "file_extension": ".py",
   "mimetype": "text/x-python",
   "name": "python",
   "nbconvert_exporter": "python",
   "pygments_lexer": "ipython3",
   "version": "3.9.7"
  }
 },
 "nbformat": 4,
 "nbformat_minor": 5
}
