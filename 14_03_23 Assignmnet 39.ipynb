{
 "cells": [
  {
   "cell_type": "markdown",
   "id": "2958dda2",
   "metadata": {},
   "source": [
    "## Qestion 1"
   ]
  },
  {
   "cell_type": "code",
   "execution_count": 2,
   "id": "a0a77307",
   "metadata": {},
   "outputs": [
    {
     "name": "stdout",
     "output_type": "stream",
     "text": [
      "4.0 0.10400000000000002\n"
     ]
    }
   ],
   "source": [
    "import numpy as np\n",
    "from scipy.stats import f\n",
    "def variance_ratio_test(x, y):\n",
    "    var_x = np.var(x)\n",
    "    var_y = np.var(y)\n",
    "    vr = var_x/var_y if var_x > var_y else var_y/var_x\n",
    "    df_num = len(x) - 1 if var_x > var_y else len(y) - 1\n",
    "    df_den = len(y) - 1 if var_x > var_y else len(x) - 1\n",
    "    F = vr * df_den/df_num\n",
    "    pval = f.sf(F, df_num, df_den)\n",
    "    return F, pval\n",
    "x = [1, 2, 3, 4, 5]\n",
    "y = [2, 4, 6, 8, 10]\n",
    "F, pval = variance_ratio_test(x, y)\n",
    "print(F, pval)"
   ]
  },
  {
   "cell_type": "markdown",
   "id": "abb7295c",
   "metadata": {},
   "source": [
    "## Question 2"
   ]
  },
  {
   "cell_type": "code",
   "execution_count": 3,
   "id": "fa501da3",
   "metadata": {},
   "outputs": [
    {
     "name": "stdout",
     "output_type": "stream",
     "text": [
      "0.07026656300420833\n"
     ]
    }
   ],
   "source": [
    "from scipy.stats import f\n",
    "\n",
    "def critical_f_value(df_num, df_den, alpha=0.05):\n",
    "    f_crit = f.ppf(alpha/2, df_num, df_den)\n",
    "    return f_crit\n",
    "df_num = 3\n",
    "df_den = 16\n",
    "alpha = 0.05\n",
    "f_crit = critical_f_value(df_num, df_den, alpha)\n",
    "print(f_crit)"
   ]
  },
  {
   "cell_type": "markdown",
   "id": "ac1f01ab",
   "metadata": {},
   "source": [
    "## Question 3"
   ]
  },
  {
   "cell_type": "code",
   "execution_count": 4,
   "id": "81407116",
   "metadata": {},
   "outputs": [
    {
     "name": "stdout",
     "output_type": "stream",
     "text": [
      "F-value: 1.805593011486332\n",
      "Degrees of freedom (numerator, denominator): 19 24\n",
      "p-value: 0.08573643972458238\n"
     ]
    }
   ],
   "source": [
    "import numpy as np\n",
    "from scipy.stats import f\n",
    "np.random.seed(123)\n",
    "mu1 = 0\n",
    "mu2 = 0\n",
    "sigma1 = 2\n",
    "sigma2 = 2\n",
    "n1 = 20\n",
    "n2 = 25\n",
    "x = np.random.normal(mu1, sigma1, n1)\n",
    "y = np.random.normal(mu2, sigma2, n2)\n",
    "var_x = np.var(x)\n",
    "var_y = np.var(y)\n",
    "vr = var_x/var_y if var_x > var_y else var_y/var_x\n",
    "df_num = n1 - 1 if var_x > var_y else n2 - 1\n",
    "df_den = n2 - 1 if var_x > var_y else n1 - 1\n",
    "F = vr * df_den/df_num\n",
    "pval = f.sf(F, df_num, df_den)\n",
    "print(\"F-value:\", F)\n",
    "print(\"Degrees of freedom (numerator, denominator):\", df_num, df_den)\n",
    "print(\"p-value:\", pval)\n"
   ]
  },
  {
   "cell_type": "markdown",
   "id": "e853441b",
   "metadata": {},
   "source": [
    "## Question 4"
   ]
  },
  {
   "cell_type": "code",
   "execution_count": 5,
   "id": "e7e5b610",
   "metadata": {},
   "outputs": [],
   "source": [
    "# Larger population variance (v1²) = 15\n",
    "# Smaller population variance (v2²) = 10\n",
    "# For the population with variance 15: sample variance = 9.91\n",
    "# For the population with variance 10: sample variance = 7.27\n",
    "# Therefore,\n",
    "\n",
    "# F₁ = 9.91 / 7.27 = 1.36\n",
    "# F₂ = 7.27 / 9.91 = 0.73\n",
    "\n",
    "# The critical values for an F-distribution with df1 = 11 and df2 = 11 at a 5% significance level are 0.28 and 3.53.\n",
    "\n",
    "# Since our larger F-statistic (1.36) is less than the critical value (3.53) and our smaller F-statistic (0.73) is greater than the critical value (0.28), we fail to reject the null hypothesis.\n",
    "\n",
    "# Therefore, we cannot conclude that the variances are different."
   ]
  },
  {
   "cell_type": "markdown",
   "id": "4d217ad4",
   "metadata": {},
   "source": [
    "## Question 5"
   ]
  },
  {
   "cell_type": "code",
   "execution_count": 6,
   "id": "f1a13387",
   "metadata": {},
   "outputs": [],
   "source": [
    "# Null hypothesis: The variance of the diameter of the product is 0.005.\n",
    "# Alternative hypothesis: The variance of the diameter of the product is greater than 0.005.\n",
    "# F = (sample variance) / (claimed variance)\n",
    "# F = 0.006 / 0.005 = 1.2\n",
    "# The critical value for an F-distribution with df1 = 24 and df2 = infinity (approximated by a large number) at a 1% significance level is 2.49.\n",
    "# Since our calculated F-statistic (1.2) is less than the critical value (2.49), we fail to reject the null hypothesis.\n",
    "# Therefore, the manufacturer's claim is justified at the 1% significance level."
   ]
  },
  {
   "cell_type": "markdown",
   "id": "72cf4d78",
   "metadata": {},
   "source": [
    "## Question 6"
   ]
  },
  {
   "cell_type": "code",
   "execution_count": 7,
   "id": "1de47f25",
   "metadata": {},
   "outputs": [],
   "source": [
    "import numpy as np\n",
    "\n",
    "def f_dist_mean_var(dfn, dfd):\n",
    "    mean = dfd / (dfd - 2.0) if dfd > 2 else np.nan\n",
    "    variance = (2 * (dfd ** 2) * (dfn + dfd - 2)) / ((dfn * (dfd - 2)) ** 2 * (dfd - 4)) if dfd > 4 else np.nan\n",
    "    return mean, variance"
   ]
  },
  {
   "cell_type": "markdown",
   "id": "1d2a21d7",
   "metadata": {},
   "source": [
    "## Question 7"
   ]
  },
  {
   "cell_type": "code",
   "execution_count": 9,
   "id": "6fb8905c",
   "metadata": {},
   "outputs": [],
   "source": [
    "# F = s12 / s22\n",
    "# F = 25 / 20 = 1.25\n",
    "# F*alpha/2(n1-1,n2-1) = F0.05(9,14) = 2.60\n",
    "# Since the calculated F-statistic of 1.25 is less than the critical value of 2.60, we fail to reject the null hypothesis. \n",
    "# Based on the results of the F-test, we cannot reject the null hypothesis that the variances of the two populations are equal at the 10% significance level."
   ]
  },
  {
   "cell_type": "markdown",
   "id": "182860fc",
   "metadata": {},
   "source": [
    "## Question 8"
   ]
  },
  {
   "cell_type": "code",
   "execution_count": 10,
   "id": "50c33ca5",
   "metadata": {},
   "outputs": [
    {
     "name": "stdout",
     "output_type": "stream",
     "text": [
      "F-value: 1.4551907719609583\n",
      "Degrees of freedom (numerator, denominator): 6 5\n",
      "p-value: 0.34874078739687414\n",
      "The variances are not significantly different.\n"
     ]
    }
   ],
   "source": [
    "from scipy.stats import f\n",
    "alpha = 0.05\n",
    "A = [24, 25, 28, 23, 22, 20, 27]\n",
    "B = [31, 33, 35, 30, 32, 36]\n",
    "squared_dev_A = sum([(x - sum(A)/len(A))**2 for x in A])\n",
    "squared_dev_B = sum([(x - sum(B)/len(B))**2 for x in B])\n",
    "var_A = squared_dev_A/(len(A) - 1)\n",
    "var_B = squared_dev_B/(len(B) - 1)\n",
    "F = var_A/var_B\n",
    "df1 = len(A) - 1\n",
    "df2 = len(B) - 1\n",
    "p_value = f.sf(F, df1, df2)\n",
    "print(\"F-value:\", F)\n",
    "print(\"Degrees of freedom (numerator, denominator):\", df1, df2)\n",
    "print(\"p-value:\", p_value)\n",
    "if p_value < alpha:\n",
    "    print(\"The variances are significantly different.\")\n",
    "else:\n",
    "    print(\"The variances are not significantly different.\")"
   ]
  },
  {
   "cell_type": "markdown",
   "id": "aaca1d5e",
   "metadata": {},
   "source": [
    "## Question 9"
   ]
  },
  {
   "cell_type": "code",
   "execution_count": 11,
   "id": "68c659df",
   "metadata": {},
   "outputs": [
    {
     "name": "stdout",
     "output_type": "stream",
     "text": [
      "F-value: 1.9442622950819677\n",
      "Degrees of freedom (numerator, denominator): 5 5\n",
      "p-value: 0.2415521774535344\n",
      "The variances are not significantly different.\n"
     ]
    }
   ],
   "source": [
    "from scipy.stats import f\n",
    "alpha = 0.01\n",
    "A = [80, 85, 90, 92, 87, 83]\n",
    "B = [75, 78, 82, 79, 81, 84]\n",
    "squared_dev_A = sum([(x - sum(A)/len(A))**2 for x in A])\n",
    "squared_dev_B = sum([(x - sum(B)/len(B))**2 for x in B])\n",
    "var_A = squared_dev_A/(len(A) - 1)\n",
    "var_B = squared_dev_B/(len(B) - 1)\n",
    "F = var_A/var_B\n",
    "df1 = len(A) - 1\n",
    "df2 = len(B) - 1\n",
    "\n",
    "p_value = f.sf(F, df1, df2)\n",
    "\n",
    "print(\"F-value:\", F)\n",
    "print(\"Degrees of freedom (numerator, denominator):\", df1, df2)\n",
    "print(\"p-value:\", p_value)\n",
    "if p_value < alpha:\n",
    "    print(\"The variances are significantly different.\")\n",
    "else:\n",
    "    print(\"The variances are not significantly different.\")\n"
   ]
  }
 ],
 "metadata": {
  "kernelspec": {
   "display_name": "Python 3 (ipykernel)",
   "language": "python",
   "name": "python3"
  },
  "language_info": {
   "codemirror_mode": {
    "name": "ipython",
    "version": 3
   },
   "file_extension": ".py",
   "mimetype": "text/x-python",
   "name": "python",
   "nbconvert_exporter": "python",
   "pygments_lexer": "ipython3",
   "version": "3.9.7"
  }
 },
 "nbformat": 4,
 "nbformat_minor": 5
}
