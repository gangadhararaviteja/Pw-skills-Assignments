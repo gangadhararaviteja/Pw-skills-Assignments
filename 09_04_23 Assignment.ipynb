{
 "cells": [
  {
   "cell_type": "markdown",
   "id": "b61847fc",
   "metadata": {},
   "source": [
    "## Question 1"
   ]
  },
  {
   "cell_type": "markdown",
   "id": "78f5343c",
   "metadata": {},
   "source": [
    "Bayes theorem states that the probability of a hypothesis (H) given some observed evidence (E) is proportional to the probability of the evidence given the hypothesis, multiplied by the prior probability of the hypothesis. Mathematically, this can be expressed as:\n",
    "\n",
    "P(H|E) = P(E|H) * P(H) / P(E)"
   ]
  },
  {
   "cell_type": "markdown",
   "id": "593ee165",
   "metadata": {},
   "source": [
    "## Question 2"
   ]
  },
  {
   "cell_type": "markdown",
   "id": "c1ec912f",
   "metadata": {},
   "source": [
    "The formula for Bayes' theorem is:\n",
    "\n",
    "P(A|B) = P(B|A) * P(A) / P(B)\n",
    "\n",
    "Where:\n",
    "\n",
    "P(A|B) is the probability of event A occurring given that event B has occurred.  \n",
    "P(B|A) is the probability of event B occurring given that event A has occurred.  \n",
    "P(A) is the prior probability of event A.  \n",
    "P(B) is the prior probability of event B."
   ]
  },
  {
   "cell_type": "markdown",
   "id": "494950f6",
   "metadata": {},
   "source": [
    "## Question 3"
   ]
  },
  {
   "cell_type": "markdown",
   "id": "79ba486e",
   "metadata": {},
   "source": [
    "Bayes' theorem is used in many different fields to make predictions or inferences based on uncertain data. Here are some examples of how it is used in practice:\n",
    "\n",
    "1. Medical diagnosis: Bayes' theorem is used in medical diagnosis to determine the probability that a patient has a particular disease given their symptoms and other medical data. For example, if a patient presents with a cough and fever, Bayes' theorem can be used to calculate the probability that they have a particular respiratory illness.\n",
    "\n",
    "2. Spam filtering: Bayes' theorem is used in spam filtering to determine the probability that an email is spam based on its content and other features. A spam filter might use Bayesian classification to classify incoming emails as either spam or not spam based on their content.\n",
    "\n",
    "3. Fault diagnosis: Bayes' theorem is used in fault diagnosis to determine the probability that a particular component in a system has failed given observed symptoms or data. For example, in a complex machine like an aircraft or a car, Bayes' theorem can be used to diagnose a failed component based on observed symptoms and sensor data."
   ]
  },
  {
   "cell_type": "markdown",
   "id": "29f0ee0a",
   "metadata": {},
   "source": [
    "## Question 4"
   ]
  },
  {
   "cell_type": "markdown",
   "id": "2318eb11",
   "metadata": {},
   "source": [
    "Bayes' theorem is a mathematical formula that relates conditional probabilities. In fact, Bayes' theorem is simply a rearrangement of the definition of conditional probability.\n",
    "\n",
    "Conditional probability is the probability of an event A given that another event B has occurred. It is denoted as P(A|B), which means the probability of A given B. Bayes' theorem allows us to calculate the probability of A given B by using the probability of B given A and the prior probability of A.\n",
    "\n",
    "In other words, Bayes' theorem shows how the conditional probability of A given B is related to the conditional probability of B given A, as well as the prior probability of A and the prior probability of B.\n",
    "\n",
    "Bayes' theorem is widely used in statistics, machine learning, and other fields that involve making predictions or inferences based on uncertain data. It allows us to update our beliefs about a hypothesis as new evidence becomes available, making it a powerful tool for reasoning under uncertainty."
   ]
  },
  {
   "cell_type": "markdown",
   "id": "0a23e183",
   "metadata": {},
   "source": [
    "## Question 5"
   ]
  },
  {
   "cell_type": "markdown",
   "id": "e28e024d",
   "metadata": {},
   "source": [
    "The choice of which type of Naive Bayes classifier to use depends on the nature of the problem and the type of data being analyzed. Here are some guidelines for choosing the right type of Naive Bayes classifier:\n",
    "\n",
    "Gaussian Naive Bayes: This classifier assumes that the features follow a Gaussian (normal) distribution. It is suitable for continuous numerical data where the distribution of the features can be approximated by a Gaussian distribution.\n",
    "\n",
    "Multinomial Naive Bayes: This classifier is used for discrete data such as text, where the features are typically counts of word occurrences. It assumes that the features are generated from a multinomial distribution.\n",
    "\n",
    "Bernoulli Naive Bayes: This classifier is similar to Multinomial Naive Bayes but is used when the features are binary or Boolean. It assumes that the features are generated from a Bernoulli distribution."
   ]
  },
  {
   "cell_type": "markdown",
   "id": "b3f48a71",
   "metadata": {},
   "source": [
    "## Question 6"
   ]
  },
  {
   "cell_type": "code",
   "execution_count": 1,
   "id": "9fb5334b",
   "metadata": {},
   "outputs": [
    {
     "name": "stdout",
     "output_type": "stream",
     "text": [
      "Predicted class: B\n"
     ]
    }
   ],
   "source": [
    "from sklearn.naive_bayes import GaussianNB\n",
    "import numpy as np\n",
    "\n",
    "X_train = np.array([[1, 1], [1, 2], [1, 2], [1, 3], [2, 3], [2, 2], [2, 3], [2, 4], [3, 3], [3, 4], [3, 4], [3, 4]])\n",
    "y_train = np.array(['A', 'A', 'A', 'A', 'A', 'B', 'B', 'B', 'B', 'B', 'B', 'A'])\n",
    "\n",
    "clf = GaussianNB()\n",
    "\n",
    "clf.fit(X_train, y_train)\n",
    "\n",
    "X_test = np.array([[3, 4]])\n",
    "\n",
    "y_pred = clf.predict(X_test)\n",
    "\n",
    "print(\"Predicted class:\", y_pred[0])\n"
   ]
  }
 ],
 "metadata": {
  "kernelspec": {
   "display_name": "Python 3 (ipykernel)",
   "language": "python",
   "name": "python3"
  },
  "language_info": {
   "codemirror_mode": {
    "name": "ipython",
    "version": 3
   },
   "file_extension": ".py",
   "mimetype": "text/x-python",
   "name": "python",
   "nbconvert_exporter": "python",
   "pygments_lexer": "ipython3",
   "version": "3.11.0"
  }
 },
 "nbformat": 4,
 "nbformat_minor": 5
}
