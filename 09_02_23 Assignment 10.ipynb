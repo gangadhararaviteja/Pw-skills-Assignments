{
 "cells": [
  {
   "cell_type": "markdown",
   "id": "c69345bc",
   "metadata": {},
   "source": [
    "## Question 1"
   ]
  },
  {
   "cell_type": "code",
   "execution_count": 1,
   "id": "c35fcf19",
   "metadata": {},
   "outputs": [],
   "source": [
    "class vehicle:\n",
    "    def __init__(self,name_of_vehicle,max_speed,average_of_vehicle):\n",
    "        self.name_of_vehicle=name_of_vehicle\n",
    "        self.max_speed=max_speed\n",
    "        self.average_of_vehicle=average_of_vehicle\n",
    "    def name(self):\n",
    "        return self.name_of_vehicle\n",
    "    def speed(self):\n",
    "        return self.max_speed\n",
    "    def avreage(self):\n",
    "        return self.average_of_vehicle"
   ]
  },
  {
   "cell_type": "markdown",
   "id": "bdffcfcd",
   "metadata": {},
   "source": [
    "## Question 2 "
   ]
  },
  {
   "cell_type": "code",
   "execution_count": 2,
   "id": "f138fc0c",
   "metadata": {},
   "outputs": [
    {
     "data": {
      "text/plain": [
       "('toyota', 100)"
      ]
     },
     "execution_count": 2,
     "metadata": {},
     "output_type": "execute_result"
    }
   ],
   "source": [
    "class car(vehicle):\n",
    "        \n",
    "    def max_capacity(self,capacity):\n",
    "        return self.name_of_vehicle,capacity\n",
    "    \n",
    "a=car(\"toyota\",250,100)\n",
    "a.max_capacity(100)"
   ]
  },
  {
   "cell_type": "markdown",
   "id": "25dde7d5",
   "metadata": {},
   "source": [
    "## Question 3"
   ]
  },
  {
   "cell_type": "markdown",
   "id": "85939eb1",
   "metadata": {},
   "source": [
    "Ans: When a class is derived from more than one base class it is called multiple Inheritance. The derived class inherits all the features of the base case."
   ]
  },
  {
   "cell_type": "code",
   "execution_count": 3,
   "id": "85ab7d37",
   "metadata": {},
   "outputs": [
    {
     "name": "stdout",
     "output_type": "stream",
     "text": [
      "this is class 1\n",
      "this is class 2\n",
      "this is class 3\n"
     ]
    }
   ],
   "source": [
    "class class1:\n",
    "    def test1(self):\n",
    "        print(\"this is class 1\")\n",
    "class class2:\n",
    "    def test2(self):\n",
    "        print(\"this is class 2\")\n",
    "class class3(class1,class2):\n",
    "    def test3(self):\n",
    "        print(\"this is class 3\")\n",
    "        \n",
    "        \n",
    "b=class3()\n",
    "b.test1()\n",
    "b.test2()\n",
    "b.test3()"
   ]
  },
  {
   "cell_type": "markdown",
   "id": "082244af",
   "metadata": {},
   "source": [
    "##  Question 4"
   ]
  },
  {
   "cell_type": "markdown",
   "id": "eb707b37",
   "metadata": {},
   "source": [
    "- Getter: A method that allows you to access an attribute in a given class.\n",
    "- Setter: A method that allows you to set or mutate the value of an attribute in a class"
   ]
  },
  {
   "cell_type": "code",
   "execution_count": 4,
   "id": "dcda58be",
   "metadata": {},
   "outputs": [
    {
     "name": "stdout",
     "output_type": "stream",
     "text": [
      "the default given age:19\n",
      "age after setting new age:20\n"
     ]
    }
   ],
   "source": [
    "class std_details:\n",
    "    def __init__(self,name,age):\n",
    "        self.__name=name\n",
    "        self.__age=age\n",
    "    ## This is getter\n",
    "    def get_age(self):\n",
    "        return self.__age\n",
    "    \n",
    "    ## This is setter\n",
    "    def set_age(self,x):\n",
    "        self.__age=x\n",
    "    \n",
    "c=std_details(\"ravi\",19)\n",
    "print(f\"the default given age:{c.get_age()}\")\n",
    "c.set_age(20)\n",
    "print(f'age after setting new age:{c.get_age()}')"
   ]
  },
  {
   "cell_type": "markdown",
   "id": "b422ac31",
   "metadata": {},
   "source": [
    "##  Question 5"
   ]
  },
  {
   "cell_type": "markdown",
   "id": "7bfbd631",
   "metadata": {},
   "source": [
    "Method overriding in Python is when you have two methods with the same name that each perform different tasks. This is an important feature of inheritance in Python. In method overriding, the child class can change its functions that are defined by its ancestral classes."
   ]
  },
  {
   "cell_type": "code",
   "execution_count": 5,
   "id": "d62d8b28",
   "metadata": {},
   "outputs": [
    {
     "name": "stdout",
     "output_type": "stream",
     "text": [
      "this is class A\n",
      "this is class B\n"
     ]
    }
   ],
   "source": [
    "class class_A:\n",
    "    def first(self):\n",
    "        print(\"this is class A\")\n",
    "        \n",
    "class class_B(class_A):\n",
    "    def first(self):\n",
    "        print(\"this is class B\")\n",
    "        \n",
    "        \n",
    "r=class_A()\n",
    "r.first()\n",
    "r=class_B()\n",
    "r.first()"
   ]
  }
 ],
 "metadata": {
  "kernelspec": {
   "display_name": "Python 3 (ipykernel)",
   "language": "python",
   "name": "python3"
  },
  "language_info": {
   "codemirror_mode": {
    "name": "ipython",
    "version": 3
   },
   "file_extension": ".py",
   "mimetype": "text/x-python",
   "name": "python",
   "nbconvert_exporter": "python",
   "pygments_lexer": "ipython3",
   "version": "3.9.7"
  }
 },
 "nbformat": 4,
 "nbformat_minor": 5
}
