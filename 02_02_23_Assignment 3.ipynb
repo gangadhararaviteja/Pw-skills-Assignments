{
 "cells": [
  {
   "cell_type": "markdown",
   "id": "543fc493",
   "metadata": {},
   "source": [
    "## Question 1"
   ]
  },
  {
   "cell_type": "markdown",
   "id": "a1c10834",
   "metadata": {},
   "source": [
    "Ans: Tuple items are ordered, unchangeable, and allow duplicate values.\n",
    "     Yes,Tuples are immutable"
   ]
  },
  {
   "cell_type": "markdown",
   "id": "7688db60",
   "metadata": {},
   "source": [
    "## Question 2"
   ]
  },
  {
   "cell_type": "markdown",
   "id": "f49e1dfb",
   "metadata": {},
   "source": [
    "Ans: (i)Count"
   ]
  },
  {
   "cell_type": "code",
   "execution_count": 1,
   "id": "36751fbd",
   "metadata": {},
   "outputs": [
    {
     "data": {
      "text/plain": [
       "2"
      ]
     },
     "execution_count": 1,
     "metadata": {},
     "output_type": "execute_result"
    }
   ],
   "source": [
    "tuple=(1,2,3,5,6,8,0,3,4,2)\n",
    "tuple.count(2)"
   ]
  },
  {
   "cell_type": "markdown",
   "id": "5f4b2339",
   "metadata": {},
   "source": [
    "(ii) Index"
   ]
  },
  {
   "cell_type": "code",
   "execution_count": 2,
   "id": "01d5214f",
   "metadata": {},
   "outputs": [
    {
     "data": {
      "text/plain": [
       "4"
      ]
     },
     "execution_count": 2,
     "metadata": {},
     "output_type": "execute_result"
    }
   ],
   "source": [
    "tuple.index(6)"
   ]
  },
  {
   "cell_type": "markdown",
   "id": "b8edbe0d",
   "metadata": {},
   "source": [
    "There are only two meathods in tuples compared to list beacuse they  are immutable,that means once a tuple is created it cannot be modified."
   ]
  },
  {
   "cell_type": "markdown",
   "id": "6623ca14",
   "metadata": {},
   "source": [
    "## Question 3"
   ]
  },
  {
   "cell_type": "markdown",
   "id": "80b352f7",
   "metadata": {},
   "source": [
    "Ans: \"Set\" does not allow duplicates"
   ]
  },
  {
   "cell_type": "code",
   "execution_count": 4,
   "id": "cbca88e8",
   "metadata": {},
   "outputs": [
    {
     "name": "stdout",
     "output_type": "stream",
     "text": [
      "{1, 2, 3, 4}\n"
     ]
    }
   ],
   "source": [
    "list1= [1, 1, 1, 2, 1, 3, 1, 4, 2, 1, 2, 2, 2, 3, 2, 4, 3, 1, 3, 2, 3, 3, 3, 4, 4, 1, 4, 2, 4, 3, 4, 4]\n",
    "set1=set(list1)\n",
    "print(set1)"
   ]
  },
  {
   "cell_type": "markdown",
   "id": "b0a6cd53",
   "metadata": {},
   "source": [
    "## Question 4"
   ]
  },
  {
   "cell_type": "markdown",
   "id": "119239b0",
   "metadata": {},
   "source": [
    "Ans:  ***update() adds all missing elements to the existing set and also removes duplicates.***\n",
    "  ***union() creates a new set by adding two sets,returns new set.***"
   ]
  },
  {
   "cell_type": "code",
   "execution_count": 9,
   "id": "b3c6e11d",
   "metadata": {},
   "outputs": [
    {
     "name": "stdout",
     "output_type": "stream",
     "text": [
      "{1, 2, 3, 4, 5, 6, 7}\n"
     ]
    },
    {
     "data": {
      "text/plain": [
       "{1, 2, 3, 4, 5, 6, 7}"
      ]
     },
     "execution_count": 9,
     "metadata": {},
     "output_type": "execute_result"
    }
   ],
   "source": [
    "x={1,2,3,4}\n",
    "y={4,5,6,7}\n",
    "x.update(y)\n",
    "print(x)\n",
    "x.union(y)"
   ]
  },
  {
   "cell_type": "markdown",
   "id": "92b687fd",
   "metadata": {},
   "source": [
    "## Question 5"
   ]
  },
  {
   "cell_type": "markdown",
   "id": "ab0dfb4a",
   "metadata": {},
   "source": [
    "Ans: The dictionary is an unordered collection that contains key:value pairs separated by commas inside curly brackets.dictionary is unordered"
   ]
  },
  {
   "cell_type": "code",
   "execution_count": 10,
   "id": "5130767a",
   "metadata": {},
   "outputs": [
    {
     "name": "stdout",
     "output_type": "stream",
     "text": [
      "{'name': 'ravi', 'age': 19, 'regno': 41611049}\n"
     ]
    }
   ],
   "source": [
    "dict1={\"name\":\"ravi\",\"age\":19,\"regno\":41611049}\n",
    "print(dict1)"
   ]
  },
  {
   "cell_type": "markdown",
   "id": "7f5b5ce7",
   "metadata": {},
   "source": [
    "## Question 6"
   ]
  },
  {
   "cell_type": "markdown",
   "id": "618894c4",
   "metadata": {},
   "source": [
    "Ans: Yes we can create nested dictionary"
   ]
  },
  {
   "cell_type": "code",
   "execution_count": 12,
   "id": "7d98c536",
   "metadata": {},
   "outputs": [
    {
     "name": "stdout",
     "output_type": "stream",
     "text": [
      "{'name': 'ravi', 'dept': 'cse', 'contact-deatils': {'phoneno': 9908601345, 'email': 'ravi@gamil.com'}}\n"
     ]
    }
   ],
   "source": [
    "dict2={\"name\":\"ravi\",\"dept\":\"cse\",\"contact-deatils\":{\"phoneno\":9908601345,\"email\":\"ravi@gamil.com\"}}\n",
    "print(dict2)"
   ]
  },
  {
   "cell_type": "markdown",
   "id": "3c6df1a9",
   "metadata": {},
   "source": [
    "## Question 7"
   ]
  },
  {
   "cell_type": "code",
   "execution_count": 16,
   "id": "ceea9dc6",
   "metadata": {},
   "outputs": [
    {
     "name": "stdout",
     "output_type": "stream",
     "text": [
      "{'language': 'Python', 'course': 'Data Science Masters', 'Topics': ['Python', 'Machine Learning', 'Deep Learning']}\n"
     ]
    }
   ],
   "source": [
    "dict3= {'language' : 'Python', 'course': 'Data Science Masters'}\n",
    "dict3.setdefault(\"Topics\",[\"Python\", \"Machine Learning\", \"Deep Learning\"])\n",
    "print(dict3)"
   ]
  },
  {
   "cell_type": "markdown",
   "id": "f51f897b",
   "metadata": {},
   "source": [
    "## Question 8"
   ]
  },
  {
   "cell_type": "markdown",
   "id": "c79bf6ee",
   "metadata": {},
   "source": [
    "Ans: items,keys,values are three view objects"
   ]
  },
  {
   "cell_type": "code",
   "execution_count": 20,
   "id": "15c5f889",
   "metadata": {},
   "outputs": [
    {
     "name": "stdout",
     "output_type": "stream",
     "text": [
      "dict_items([('Sport', 'Cricket'), ('Teams', ['India', 'Australia', 'England', 'South Africa', 'Sri Lanka', 'New Zealand'])])\n",
      "dict_keys(['Sport', 'Teams'])\n",
      "dict_values(['Cricket', ['India', 'Australia', 'England', 'South Africa', 'Sri Lanka', 'New Zealand']])\n"
     ]
    }
   ],
   "source": [
    "dict4= {'Sport': 'Cricket' , 'Teams': ['India', 'Australia', 'England', 'South Africa', 'Sri Lanka', 'New Zealand']}\n",
    "print(dict4.items())\n",
    "print(dict4.keys())\n",
    "print(dict4.values())"
   ]
  }
 ],
 "metadata": {
  "kernelspec": {
   "display_name": "Python 3 (ipykernel)",
   "language": "python",
   "name": "python3"
  },
  "language_info": {
   "codemirror_mode": {
    "name": "ipython",
    "version": 3
   },
   "file_extension": ".py",
   "mimetype": "text/x-python",
   "name": "python",
   "nbconvert_exporter": "python",
   "pygments_lexer": "ipython3",
   "version": "3.9.7"
  }
 },
 "nbformat": 4,
 "nbformat_minor": 5
}
