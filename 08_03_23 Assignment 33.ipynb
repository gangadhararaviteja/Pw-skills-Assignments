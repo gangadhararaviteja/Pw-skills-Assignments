{
 "cells": [
  {
   "cell_type": "markdown",
   "id": "c5ed4695",
   "metadata": {},
   "source": [
    "## Question 1"
   ]
  },
  {
   "cell_type": "markdown",
   "id": "9a83a9e3",
   "metadata": {},
   "source": [
    "A Probability Density Function (PDF) is a function that describes the probability distribution of a continuous random variable. It is used to specify the probability of the random variable falling within a particular range of values, as opposed to taking on a specific value."
   ]
  },
  {
   "cell_type": "markdown",
   "id": "7ce7fcea",
   "metadata": {},
   "source": [
    "## Question 2"
   ]
  },
  {
   "cell_type": "markdown",
   "id": "925c44f3",
   "metadata": {},
   "source": [
    "1. Bernoulli Dristibution\n",
    "2. Binomial Dristibution\n",
    "3. Gausian/normal Dristibution\n",
    "4. Uniform Dristibution\n",
    "5. poissson Dristibution\n",
    "6. power law Dristibution\n"
   ]
  },
  {
   "cell_type": "markdown",
   "id": "49a4f2cc",
   "metadata": {},
   "source": [
    "## Question 3"
   ]
  },
  {
   "cell_type": "code",
   "execution_count": 2,
   "id": "08c710a0",
   "metadata": {},
   "outputs": [
    {
     "data": {
      "text/plain": [
       "2.2120916882928263"
      ]
     },
     "execution_count": 2,
     "metadata": {},
     "output_type": "execute_result"
    }
   ],
   "source": [
    "import math\n",
    "def pdf(mean,std,x):\n",
    "    p=math.exp(-0.5*((x-mean)/std)**2)/std*math.sqrt(2*math.pi)\n",
    "    return p\n",
    "    \n",
    "pdf(0,1,0.5)"
   ]
  },
  {
   "cell_type": "markdown",
   "id": "2fcbcbad",
   "metadata": {},
   "source": [
    "## Question 4"
   ]
  },
  {
   "cell_type": "markdown",
   "id": "d718db46",
   "metadata": {},
   "source": [
    "Properties:-  \n",
    "1. The number of trials (n) is fixed and predetermined.\n",
    "2. Each trial is independent of the others.\n",
    "3. The probability of success (p) is constant for each trial.\n",
    "4. The outcomes of each trial are binary (success or failure).\n",
    "5. The distribution is discrete, meaning that the number of successes can only take on integer values.\n",
    "6. The mean (or expected value) of the distribution is np.\n",
    "7. The variance of the distribution is np(1-p).\n",
    "8. The shape of the distribution depends on the values of n and p, but it is generally bell-shaped.  \n",
    "\n",
    "examples of events where the binomial distribution can be applied are:\n",
    "1. Tossing a cion\n",
    "2. Manufacturing defects"
   ]
  },
  {
   "cell_type": "markdown",
   "id": "ff10f305",
   "metadata": {},
   "source": [
    "## Question 5"
   ]
  },
  {
   "cell_type": "code",
   "execution_count": 4,
   "id": "b79be06a",
   "metadata": {},
   "outputs": [
    {
     "data": {
      "image/png": "[encoded data removed]",
      "text/plain": [
       "<Figure size 640x480 with 1 Axes>"
      ]
     },
     "metadata": {},
     "output_type": "display_data"
    }
   ],
   "source": [
    "import numpy as np\n",
    "import matplotlib.pyplot as plt\n",
    "n = 1000\n",
    "p = 0.4\n",
    "sample = np.random.binomial(n, p, size=1000)\n",
    "plt.hist(sample, bins=20, edgecolor='black')\n",
    "plt.xlabel('Number of successes')\n",
    "plt.ylabel('Frequency')\n",
    "plt.title('Binomial Distribution')\n",
    "plt.show()"
   ]
  },
  {
   "cell_type": "markdown",
   "id": "cfcd31a7",
   "metadata": {},
   "source": [
    "## Question 6"
   ]
  },
  {
   "cell_type": "code",
   "execution_count": 6,
   "id": "664e414b",
   "metadata": {},
   "outputs": [
    {
     "data": {
      "text/plain": [
       "0.9160820579686966"
      ]
     },
     "execution_count": 6,
     "metadata": {},
     "output_type": "execute_result"
    }
   ],
   "source": [
    "import math\n",
    "def poisson_cdf(mean, k):\n",
    "    if mean <= 0:\n",
    "        raise ValueError(\"Mean must be positive.\")\n",
    "    if k < 0:\n",
    "        return 0.0\n",
    "    \n",
    "    cdf = 0.0\n",
    "    for i in range(k+1):\n",
    "        cdf += (math.exp(-mean) * (mean ** i)) / math.factorial(i)\n",
    "    \n",
    "    return cdf\n",
    "\n",
    "poisson_cdf(3,5)"
   ]
  },
  {
   "cell_type": "markdown",
   "id": "d0f6f3b2",
   "metadata": {},
   "source": [
    "## Question 7"
   ]
  },
  {
   "cell_type": "markdown",
   "id": "454ca7d2",
   "metadata": {},
   "source": [
    "Both the binomial distribution and Poisson distribution are probability distributions that describe the number of occurrences of an event in a given situation. However, they are different in a few ways:\n",
    "\n",
    "1. Probability of success: The binomial distribution is used when there are a fixed number of trials and each trial can only have two outcomes (success or failure). The probability of success (p) is constant across all trials. The Poisson distribution, on the other hand, is used when the number of occurrences is rare, and the probability of occurrence (λ) is constant across time and space.\n",
    "\n",
    "2. Number of trials: The binomial distribution deals with a fixed number of trials (n), while the Poisson distribution is used to model the number of occurrences in a given period of time or space, regardless of the number of trials.\n",
    "\n",
    "3. Mean and variance: For a binomial distribution, the mean is μ = np, and the variance is σ^2 = np(1-p), where n is the number of trials and p is the probability of success. For a Poisson distribution, the mean and variance are both equal to λ.\n",
    "\n",
    "4. Continuous vs. discrete: The Poisson distribution is a discrete distribution, meaning that it only takes on integer values, while the binomial distribution can take on both integer and non-integer values.\n",
    "\n"
   ]
  },
  {
   "cell_type": "markdown",
   "id": "558e53e5",
   "metadata": {},
   "source": [
    "## Question 8"
   ]
  },
  {
   "cell_type": "code",
   "execution_count": 8,
   "id": "4ec8c873",
   "metadata": {},
   "outputs": [
    {
     "name": "stdout",
     "output_type": "stream",
     "text": [
      "Sample mean: 4.919\n",
      "Sample variance: 5.030439\n"
     ]
    }
   ],
   "source": [
    "import numpy as np\n",
    "np.random.seed(123)\n",
    "\n",
    "sample = np.random.poisson(lam=5, size=1000)\n",
    "\n",
    "sample_mean = np.mean(sample)\n",
    "sample_variance = np.var(sample)\n",
    "\n",
    "print(\"Sample mean:\", sample_mean)\n",
    "print(\"Sample variance:\", sample_variance)"
   ]
  },
  {
   "cell_type": "markdown",
   "id": "af7819cf",
   "metadata": {},
   "source": [
    "## Question 9"
   ]
  },
  {
   "cell_type": "markdown",
   "id": "d760e3f9",
   "metadata": {},
   "source": [
    "In both the binomial and Poisson distributions, the mean and variance are closely related.\n",
    "\n",
    "For the binomial distribution, which models the number of successes in a fixed number of independent trials with a constant probability of success\n",
    "\n",
    "- mean=n*p\n",
    "- variance = n*p*(1-p)\n",
    "\n",
    "So, the variance is directly related to both the number of trials and the probability of success. As the number of trials increases, the variance also increases. As the probability of success approaches 0 or 1, the variance also approaches 0.\n",
    "\n",
    "For the Poisson distribution, which models the number of events in a fixed interval of time or space  \n",
    "\n",
    "- mean = lambda\n",
    "- Variance = lambda  \n",
    "\n",
    "So, the variance is equal to the mean in this case. This means that the Poisson distribution has a fixed shape and is not influenced by the specific value of lambda, only by its magnitude. As the rate of events increases, both the mean and variance increase, but the shape of the distribution remains the same."
   ]
  },
  {
   "cell_type": "markdown",
   "id": "7cb4ea25",
   "metadata": {},
   "source": [
    "## Question 10"
   ]
  },
  {
   "cell_type": "markdown",
   "id": "a1a5a5f2",
   "metadata": {},
   "source": [
    "In a normal distribution, also known as a Gaussian distribution, the least frequent data appears at the tails of the distribution, which are the extreme ends of the curve. The curve is symmetrical around its mean, which is the most common value or the center of the distribution. The tails of the curve represent the less common values farther away from the mean.\n",
    "\n",
    "The normal distribution is characterized by its mean and standard deviation. The mean determines the center of the curve, while the standard deviation determines the spread or width of the curve. About 68% of the data falls within one standard deviation of the mean, about 95% of the data falls within two standard deviations of the mean, and about 99.7% of the data falls within three standard deviations of the mean.\n",
    "\n",
    "The data that appears in the tails of the distribution, beyond three standard deviations from the mean, is considered to be very rare or unusual. These data points are called outliers and can be indicative of some extreme event or measurement error.\n"
   ]
  },
  {
   "cell_type": "code",
   "execution_count": null,
   "id": "dc362f46",
   "metadata": {},
   "outputs": [],
   "source": []
  }
 ],
 "metadata": {
  "kernelspec": {
   "display_name": "Python 3 (ipykernel)",
   "language": "python",
   "name": "python3"
  },
  "language_info": {
   "codemirror_mode": {
    "name": "ipython",
    "version": 3
   },
   "file_extension": ".py",
   "mimetype": "text/x-python",
   "name": "python",
   "nbconvert_exporter": "python",
   "pygments_lexer": "ipython3",
   "version": "3.9.7"
  }
 },
 "nbformat": 4,
 "nbformat_minor": 5
}
