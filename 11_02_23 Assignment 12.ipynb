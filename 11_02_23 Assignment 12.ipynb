{
 "cells": [
  {
   "cell_type": "markdown",
   "id": "ba8e4319",
   "metadata": {},
   "source": [
    "## Question 1"
   ]
  },
  {
   "cell_type": "markdown",
   "id": "88e68499",
   "metadata": {},
   "source": [
    "- Exceptions are raised when the program is syntactically correct, but the code resulted in an error.\n",
    "\n",
    "- Syntax Error is caused by the wrong syntax in the code.It leads to termination of program."
   ]
  },
  {
   "cell_type": "markdown",
   "id": "9f1f5471",
   "metadata": {},
   "source": [
    "## Question 2 "
   ]
  },
  {
   "cell_type": "markdown",
   "id": "980d9d20",
   "metadata": {},
   "source": [
    "If exception is not handled code stops Running at Exception"
   ]
  },
  {
   "cell_type": "code",
   "execution_count": 1,
   "id": "79c33bc5",
   "metadata": {},
   "outputs": [
    {
     "name": "stdout",
     "output_type": "stream",
     "text": [
      "begin\n"
     ]
    },
    {
     "ename": "NameError",
     "evalue": "name 'hi' is not defined",
     "output_type": "error",
     "traceback": [
      "\u001b[1;31m---------------------------------------------------------------------------\u001b[0m",
      "\u001b[1;31mNameError\u001b[0m                                 Traceback (most recent call last)",
      "Cell \u001b[1;32mIn [1], line 2\u001b[0m\n\u001b[0;32m      1\u001b[0m \u001b[38;5;28mprint\u001b[39m(\u001b[38;5;124m\"\u001b[39m\u001b[38;5;124mbegin\u001b[39m\u001b[38;5;124m\"\u001b[39m)\n\u001b[1;32m----> 2\u001b[0m \u001b[43mhi\u001b[49m\n\u001b[0;32m      3\u001b[0m \u001b[38;5;28mprint\u001b[39m(\u001b[38;5;124m\"\u001b[39m\u001b[38;5;124mend\u001b[39m\u001b[38;5;124m\"\u001b[39m)\n",
      "\u001b[1;31mNameError\u001b[0m: name 'hi' is not defined"
     ]
    }
   ],
   "source": [
    "print(\"begin\")\n",
    "hi\n",
    "print(\"end\")"
   ]
  },
  {
   "cell_type": "markdown",
   "id": "b4797dcb",
   "metadata": {},
   "source": [
    "## Question 3 "
   ]
  },
  {
   "cell_type": "code",
   "execution_count": 2,
   "id": "6f27122c",
   "metadata": {},
   "outputs": [
    {
     "name": "stdout",
     "output_type": "stream",
     "text": [
      "name 'hello' is not defined\n"
     ]
    }
   ],
   "source": [
    "try:\n",
    "    print(hello)\n",
    "except Exception as e:\n",
    "    print(e)"
   ]
  },
  {
   "cell_type": "markdown",
   "id": "ec9e32b8",
   "metadata": {},
   "source": [
    "## Question 4"
   ]
  },
  {
   "cell_type": "code",
   "execution_count": 3,
   "id": "6d8c6059",
   "metadata": {},
   "outputs": [
    {
     "name": "stdout",
     "output_type": "stream",
     "text": [
      "3\n",
      "the sum is found\n"
     ]
    }
   ],
   "source": [
    "# A. Try and Else(else block will run only if try block run without error)\n",
    "try:\n",
    "    print(1+2)\n",
    "except Exception as e:\n",
    "    print(e)\n",
    "else:\n",
    "    print(\"the sum is found\")"
   ]
  },
  {
   "cell_type": "code",
   "execution_count": 4,
   "id": "670ef06e",
   "metadata": {},
   "outputs": [
    {
     "name": "stdout",
     "output_type": "stream",
     "text": [
      "name 'a' is not defined\n",
      "this is the final statement\n"
     ]
    }
   ],
   "source": [
    "#B. Finally (it will always run irrespective of try,exceot,else)\n",
    "try:\n",
    "    print(a)\n",
    "except Exception as e:\n",
    "    print(e)\n",
    "else:\n",
    "    print(\"no error\")\n",
    "finally:\n",
    "    print(\"this is the final statement\")"
   ]
  },
  {
   "cell_type": "code",
   "execution_count": 5,
   "id": "32e3c558",
   "metadata": {},
   "outputs": [
    {
     "name": "stdout",
     "output_type": "stream",
     "text": [
      "201\n"
     ]
    },
    {
     "ename": "Exception",
     "evalue": "enter valid age",
     "output_type": "error",
     "traceback": [
      "\u001b[1;31m---------------------------------------------------------------------------\u001b[0m",
      "\u001b[1;31mException\u001b[0m                                 Traceback (most recent call last)",
      "Cell \u001b[1;32mIn [5], line 4\u001b[0m\n\u001b[0;32m      2\u001b[0m age\u001b[38;5;241m=\u001b[39m\u001b[38;5;28mint\u001b[39m(\u001b[38;5;28minput\u001b[39m())\n\u001b[0;32m      3\u001b[0m \u001b[38;5;28;01mif\u001b[39;00m age\u001b[38;5;241m<\u001b[39m\u001b[38;5;241m0\u001b[39m \u001b[38;5;129;01mor\u001b[39;00m age\u001b[38;5;241m>\u001b[39m\u001b[38;5;241m200\u001b[39m:\n\u001b[1;32m----> 4\u001b[0m     \u001b[38;5;28;01mraise\u001b[39;00m \u001b[38;5;167;01mException\u001b[39;00m(\u001b[38;5;124m\"\u001b[39m\u001b[38;5;124menter valid age\u001b[39m\u001b[38;5;124m\"\u001b[39m)\n",
      "\u001b[1;31mException\u001b[0m: enter valid age"
     ]
    }
   ],
   "source": [
    "#C. raise(used to raise exception)\n",
    "age=int(input())\n",
    "if age<0 or age>200:\n",
    "    raise Exception(\"enter valid age\")"
   ]
  },
  {
   "cell_type": "markdown",
   "id": "964a0341",
   "metadata": {},
   "source": [
    "##  Question 5"
   ]
  },
  {
   "cell_type": "markdown",
   "id": "246e6d7e",
   "metadata": {},
   "source": [
    "The custom exception hierarchy allows you to catch exceptions at multiple levels, like the standard exception classes."
   ]
  },
  {
   "cell_type": "code",
   "execution_count": 6,
   "id": "411e396f",
   "metadata": {},
   "outputs": [
    {
     "ename": "SampleError",
     "evalue": "this is an error",
     "output_type": "error",
     "traceback": [
      "\u001b[1;31m---------------------------------------------------------------------------\u001b[0m",
      "\u001b[1;31mSampleError\u001b[0m                               Traceback (most recent call last)",
      "Cell \u001b[1;32mIn [6], line 4\u001b[0m\n\u001b[0;32m      2\u001b[0m     \u001b[38;5;28;01mdef\u001b[39;00m \u001b[38;5;21m__init__\u001b[39m(\u001b[38;5;28mself\u001b[39m,msg):\n\u001b[0;32m      3\u001b[0m         \u001b[38;5;28mself\u001b[39m\u001b[38;5;241m.\u001b[39mmsg\u001b[38;5;241m=\u001b[39mmsg\n\u001b[1;32m----> 4\u001b[0m \u001b[38;5;28;01mraise\u001b[39;00m SampleError(\u001b[38;5;124m\"\u001b[39m\u001b[38;5;124mthis is an error\u001b[39m\u001b[38;5;124m\"\u001b[39m)\n",
      "\u001b[1;31mSampleError\u001b[0m: this is an error"
     ]
    }
   ],
   "source": [
    "class SampleError(Exception):\n",
    "    def __init__(self,msg):\n",
    "        self.msg=msg\n",
    "raise SampleError(\"this is an error\")"
   ]
  },
  {
   "cell_type": "markdown",
   "id": "fd89ddc8",
   "metadata": {},
   "source": [
    "## Question 6 "
   ]
  },
  {
   "cell_type": "code",
   "execution_count": 7,
   "id": "6ebfd881",
   "metadata": {},
   "outputs": [
    {
     "name": "stdout",
     "output_type": "stream",
     "text": [
      "-10\n",
      "age cannot be nagtive\n"
     ]
    }
   ],
   "source": [
    "class customerror(Exception):\n",
    "    def __init__(self,msg):\n",
    "        self.msg=msg\n",
    "try:\n",
    "    age=int(input())\n",
    "    if age<0:\n",
    "        raise customerror(\"age cannot be nagtive\")\n",
    "    elif age>200:\n",
    "        raise customerror(\"enter valid age\")\n",
    "except Exception as e:\n",
    "    print(e)"
   ]
  }
 ],
 "metadata": {
  "kernelspec": {
   "display_name": "Python 3 (ipykernel)",
   "language": "python",
   "name": "python3"
  },
  "language_info": {
   "codemirror_mode": {
    "name": "ipython",
    "version": 3
   },
   "file_extension": ".py",
   "mimetype": "text/x-python",
   "name": "python",
   "nbconvert_exporter": "python",
   "pygments_lexer": "ipython3",
   "version": "3.9.7"
  }
 },
 "nbformat": 4,
 "nbformat_minor": 5
}
