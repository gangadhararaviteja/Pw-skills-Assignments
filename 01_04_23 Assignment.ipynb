{
 "cells": [
  {
   "cell_type": "markdown",
   "id": "0cd82cb6",
   "metadata": {},
   "source": [
    "## Question 1"
   ]
  },
  {
   "cell_type": "markdown",
   "id": "aa66e087",
   "metadata": {},
   "source": [
    "Linear regression is used when the target variable is continuous, and the relationship between the input variables and the output variable is linear. It is used to predict the numerical value of a continuous target variable based on one or more input variables. For example, linear regression can be used to predict the price of a house based on its size, location, and number of bedrooms.\n",
    "\n",
    "Logistic regression, on the other hand, is used when the target variable is binary or categorical. It is used to predict the probability of an event occurring, given one or more input variables. For example, logistic regression can be used to predict whether a customer will buy a product or not based on their age, income, and buying history.\n",
    "\n",
    "A scenario where logistic regression would be more appropriate is in predicting whether a patient has a disease or not based on their medical history and test results. The target variable in this case is binary (disease or no disease), and the input variables are continuous or categorical. Logistic regression can be used to model the probability of the patient having the disease based on their input variables. This can help doctors make more informed decisions about patient care and treatment options."
   ]
  },
  {
   "cell_type": "markdown",
   "id": "852f2a39",
   "metadata": {},
   "source": [
    "## Question 2"
   ]
  },
  {
   "cell_type": "markdown",
   "id": "82df2f75",
   "metadata": {},
   "source": [
    "The cost function used in logistic regression is the cross-entropy loss function. It is used to measure the difference between the predicted probability and the actual class label of the target variable.\n",
    "\n",
    "The cross-entropy loss function is defined as:\n",
    "\n",
    "J(θ) = (-1/m) ∑ [y*log(h(x;θ)) + (1-y)*log(1-h(x;θ))]\n",
    "\n",
    "The goal of optimization is to minimize the cost function J(θ) by finding the optimal values of the model parameters θ. The most common optimization algorithm used in logistic regression is gradient descent.\n",
    "\n",
    "In gradient descent, the model parameters are updated iteratively based on the gradient of the cost function with respect to the parameters. The update rule for the parameters θ is:\n",
    "\n",
    "θ = θ - α ∇J(θ)"
   ]
  },
  {
   "cell_type": "markdown",
   "id": "01edc41a",
   "metadata": {},
   "source": [
    "## Question 3"
   ]
  },
  {
   "cell_type": "markdown",
   "id": "f1c31c9a",
   "metadata": {},
   "source": [
    "Regularization is a technique used in machine learning to prevent overfitting, which occurs when a model is trained too well on the training data and performs poorly on new, unseen data. In logistic regression, regularization involves adding a penalty term to the cost function that encourages the model to have smaller weights or coefficients.\n",
    "\n",
    "There are two common types of regularization used in logistic regression:\n",
    "\n",
    "L1 regularization (also known as Lasso regularization): This type of regularization adds a penalty term proportional to the absolute value of the weights. The cost function becomes:\n",
    "\n",
    "L1 regularization encourages the model to have sparse weights, meaning that some weights will be exactly zero. This can help with feature selection, as the model will ignore less important features that have small weights."
   ]
  },
  {
   "cell_type": "markdown",
   "id": "37529bc9",
   "metadata": {},
   "source": [
    "## Question 4"
   ]
  },
  {
   "cell_type": "markdown",
   "id": "6cec0b6d",
   "metadata": {},
   "source": [
    "The ROC (Receiver Operating Characteristic) curve is a graphical plot that illustrates the performance of a binary classification model, such as logistic regression, at different classification thresholds.\n",
    "\n",
    "To construct the ROC curve, we plot the True Positive Rate (TPR) on the y-axis against the False Positive Rate (FPR) on the x-axis, at different classification thresholds. TPR is the ratio of true positives to the total number of actual positive examples, while FPR is the ratio of false positives to the total number of actual negative examples.\n",
    "\n",
    "The ROC curve can be used to evaluate the performance of a logistic regression model by comparing the AUC to a baseline or other models. A higher AUC indicates better performance, with an AUC of 1 indicating perfect classification. Additionally, the ROC curve can help us choose the optimal classification threshold for our model, depending on the tradeoff between TPR and FPR that we desire."
   ]
  },
  {
   "cell_type": "markdown",
   "id": "c598b0fa",
   "metadata": {},
   "source": [
    "## Question 5"
   ]
  },
  {
   "cell_type": "markdown",
   "id": "f00c23d4",
   "metadata": {},
   "source": [
    "some common techniques for feature selection in logistic regression:\n",
    "\n",
    "Correlation analysis\n",
    "\n",
    "Univariate feature selection\n",
    "\n",
    "Recursive feature elimination (RFE)\n",
    "\n",
    "Regularization"
   ]
  },
  {
   "cell_type": "markdown",
   "id": "eb805eb7",
   "metadata": {},
   "source": [
    "## Question 6"
   ]
  },
  {
   "cell_type": "markdown",
   "id": "ee6d8fec",
   "metadata": {},
   "source": [
    "Here are some strategies for handling imbalanced datasets in logistic regression:\n",
    "\n",
    "Resampling\n",
    "\n",
    "Class weights\n",
    "\n",
    "Ensemble methods\n",
    "\n",
    "Threshold tuning"
   ]
  },
  {
   "cell_type": "markdown",
   "id": "6abd1acd",
   "metadata": {},
   "source": [
    "## Question 7"
   ]
  },
  {
   "cell_type": "markdown",
   "id": "b0054228",
   "metadata": {},
   "source": [
    "Multicollinearity\n",
    "\n",
    "Outliers\n",
    "\n",
    "Missing data\n",
    "\n",
    "Overfitting"
   ]
  }
 ],
 "metadata": {
  "kernelspec": {
   "display_name": "Python 3 (ipykernel)",
   "language": "python",
   "name": "python3"
  },
  "language_info": {
   "codemirror_mode": {
    "name": "ipython",
    "version": 3
   },
   "file_extension": ".py",
   "mimetype": "text/x-python",
   "name": "python",
   "nbconvert_exporter": "python",
   "pygments_lexer": "ipython3",
   "version": "3.10.6"
  }
 },
 "nbformat": 4,
 "nbformat_minor": 5
}
