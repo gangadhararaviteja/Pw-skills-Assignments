{
 "cells": [
  {
   "cell_type": "markdown",
   "id": "30921aac",
   "metadata": {},
   "source": [
    "## Question 1"
   ]
  },
  {
   "cell_type": "markdown",
   "id": "7550331f",
   "metadata": {},
   "source": [
    "Here are the key steps involved in building an end-to-end web application, from development to deployment on the cloud:\n",
    "\n",
    "Requirements gathering\n",
    "\n",
    "Design and architecture\n",
    "\n",
    "Front-end development\n",
    "\n",
    "Back-end development\n",
    "\n",
    "Testing\n",
    "\n",
    "Deployment\n",
    "\n",
    "Monitoring\n",
    "\n",
    "Maintenance"
   ]
  },
  {
   "cell_type": "markdown",
   "id": "2b3183b7",
   "metadata": {},
   "source": [
    "## Question 2"
   ]
  },
  {
   "cell_type": "markdown",
   "id": "2a07455a",
   "metadata": {},
   "source": [
    "Here are the key differences between the two:\n",
    "\n",
    "Infrastructure: Traditional web hosting relies on a single server to host the website or application. In contrast, cloud hosting uses a network of servers to distribute the workload and provide redundancy and scalability.\n",
    "\n",
    "Scalability: With traditional web hosting, scaling up the infrastructure to handle increased traffic can be challenging and time-consuming. With cloud hosting, scaling up or down can be done quickly and easily by adding or removing servers as needed.\n",
    "\n",
    "Cost: Traditional web hosting typically involves paying a fixed monthly or annual fee for a set amount of resources, regardless of whether they are fully utilized or not. Cloud hosting, on the other hand, allows you to pay only for the resources you use, which can be more cost-effective.\n",
    "\n",
    "Availability: Traditional web hosting is generally less reliable than cloud hosting since it relies on a single server. If that server goes down, the website or application will become unavailable. In contrast, cloud hosting uses multiple servers, so even if one server goes down, the website or application can still be accessed.\n",
    "\n",
    "Security: With traditional web hosting, you are responsible for securing the server and the website or application running on it. With cloud hosting, the cloud provider is responsible for securing the infrastructure, and you are responsible for securing your application."
   ]
  },
  {
   "cell_type": "markdown",
   "id": "4ee5bb13",
   "metadata": {},
   "source": [
    "## Question 3"
   ]
  },
  {
   "cell_type": "markdown",
   "id": "c858b390",
   "metadata": {},
   "source": [
    "Choosing the right cloud provider for your application deployment can be a crucial decision that impacts the performance, cost, and scalability of your application. Here are some factors to consider when choosing a cloud provider:\n",
    "\n",
    "Cost: Cloud providers offer various pricing models, such as pay-as-you-go, reserved instances, and spot instances. You should consider the cost of the cloud provider and the pricing model that best suits your application's usage pattern.\n",
    "\n",
    "Performance: The performance of the cloud provider can significantly impact your application's response time and availability. You should consider the cloud provider's network bandwidth, latency, and uptime SLA.\n",
    "\n",
    "Scalability: Your application's scalability requirements should match the cloud provider's ability to scale up or down based on demand. You should consider the cloud provider's auto-scaling capabilities, load balancing, and availability zones.\n",
    "\n",
    "Security: Your application's security requirements should align with the cloud provider's security measures. You should consider the cloud provider's compliance certifications, network security, access control, and data encryption policies.\n",
    "\n",
    "Integration: The cloud provider should be compatible with your application's technology stack and offer easy integration with other services such as databases, message queues, and container services.\n",
    "\n",
    "Support: The cloud provider's support should match your application's criticality and urgency requirements. You should consider the cloud provider's support channels, response time, and availability.\n",
    "\n",
    "Vendor lock-in: You should consider the potential vendor lock-in when choosing a cloud provider. You should choose a cloud provider that offers easy migration to other cloud providers or on-premise hosting if required."
   ]
  },
  {
   "cell_type": "markdown",
   "id": "b578a9bd",
   "metadata": {},
   "source": [
    "## Question 4"
   ]
  },
  {
   "cell_type": "markdown",
   "id": "9b7f4379",
   "metadata": {},
   "source": [
    "Designing and building a responsive user interface for a web application involves creating a layout that can adjust to different screen sizes and devices, while still maintaining a consistent user experience. Here are some best practices to follow:\n",
    "\n",
    "Use a grid system: A grid system helps to create a flexible layout that can adjust to different screen sizes. Use a responsive grid system like Bootstrap or Foundation to create a consistent layout that can scale across devices.\n",
    "\n",
    "Prioritize content: Prioritize the most important content on your web application and ensure that it's easily accessible on smaller screens. Use progressive disclosure techniques to hide less important content behind menus or expandable sections.\n",
    "\n",
    "Optimize images: Large images can slow down the loading time of your web application, especially on mobile devices. Optimize images for web and use techniques like lazy loading to reduce the initial load time.\n",
    "\n",
    "Use typography wisely: Choose typography that is legible on different screen sizes and ensure that it's easily readable on smaller screens. Use a responsive font size and avoid using too many font styles to maintain a consistent look and feel.\n",
    "\n",
    "Consider touch interactions: Ensure that the user interface is optimized for touch interactions on mobile devices. Use larger buttons and spacing between interactive elements to make it easier for users to interact with your web application.\n",
    "\n",
    "Test on different devices: Test your web application on different devices and screen sizes to ensure that it's responsive and works correctly. Use tools like BrowserStack or Sauce Labs to test your web application on different devices."
   ]
  },
  {
   "cell_type": "markdown",
   "id": "b04d8568",
   "metadata": {},
   "source": [
    "## Question 5"
   ]
  },
  {
   "cell_type": "markdown",
   "id": "9d70d721",
   "metadata": {},
   "source": [
    "at first we do data collection process that is we collect the data,then we perform EDA i.e EXPLORATORY DATA ANALYSIS and further we move on to feature engineering that is we scale,standardize the data and finally our data will be in clean format and rady for model training.we import RIDGECV from SCIKIT-LEARN library which is used to predict continous target variables.we train our model with the data such that it take required input fields and predict fwi.\n",
    "\n",
    "our model is now prepared.Now we PICKLE the model in the format of .pkl such that it takes input fields as an input and predict fwi as an output.we dump this model in pkl file.and then we use flask as a framework such that it integrates our model with the user interface."
   ]
  }
 ],
 "metadata": {
  "kernelspec": {
   "display_name": "Python 3 (ipykernel)",
   "language": "python",
   "name": "python3"
  },
  "language_info": {
   "codemirror_mode": {
    "name": "ipython",
    "version": 3
   },
   "file_extension": ".py",
   "mimetype": "text/x-python",
   "name": "python",
   "nbconvert_exporter": "python",
   "pygments_lexer": "ipython3",
   "version": "3.10.6"
  }
 },
 "nbformat": 4,
 "nbformat_minor": 5
}
