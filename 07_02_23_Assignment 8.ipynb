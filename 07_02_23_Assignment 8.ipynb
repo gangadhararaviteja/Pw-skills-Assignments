{
 "cells": [
  {
   "cell_type": "markdown",
   "id": "52fed5f3",
   "metadata": {},
   "source": [
    "## Question 1"
   ]
  },
  {
   "cell_type": "code",
   "execution_count": 1,
   "id": "29ed0f55",
   "metadata": {},
   "outputs": [
    {
     "name": "stdout",
     "output_type": "stream",
     "text": [
      "RAvi@#$123\n",
      "Valid Password\n"
     ]
    }
   ],
   "source": [
    "def password():\n",
    "    p=input()\n",
    "    p=str(p)\n",
    "    l=0\n",
    "    u=0\n",
    "    n=0\n",
    "    s=0\n",
    "    list1=[\"!\",\"@\",\"#\",\"$\",\"%\",\"^\",\"&\",\"*\",\"(\",\")\",\":\",\"<\",\">\",\"?\",\"{\",\"}\",\"[\",\"]\",\";\",\",\",\".\",\"/\"]\n",
    "    if len(p)>=10:\n",
    "        for i in p:\n",
    "            if i.isupper()==True:\n",
    "                u+=1\n",
    "            if i.islower()==True:\n",
    "                l+=1\n",
    "            if i.isdigit()==True:\n",
    "                n+=1\n",
    "            for j in list1:\n",
    "                if i==j:\n",
    "                    s+=1\n",
    "    \n",
    "        if u>=2 and l>=2 and n>=1 and s>=3:\n",
    "            print(\"Valid Password\")\n",
    "        else:\n",
    "            print(\"Invalid Password\")\n",
    "    else:\n",
    "        print(\"Invalid Password\")\n",
    "       \n",
    "password()   "
   ]
  },
  {
   "cell_type": "markdown",
   "id": "174015ae",
   "metadata": {},
   "source": [
    "## Question 2"
   ]
  },
  {
   "cell_type": "markdown",
   "id": "b15220d8",
   "metadata": {},
   "source": [
    "(i)Check if the string starts with a particular letter"
   ]
  },
  {
   "cell_type": "code",
   "execution_count": 2,
   "id": "52271ba4",
   "metadata": {},
   "outputs": [
    {
     "data": {
      "text/plain": [
       "'True'"
      ]
     },
     "execution_count": 2,
     "metadata": {},
     "output_type": "execute_result"
    }
   ],
   "source": [
    "string=\"ravi\"\n",
    "p=lambda x:\"True\" if x[0]==\"r\" else \"False\"\n",
    "p(string)"
   ]
  },
  {
   "cell_type": "markdown",
   "id": "cc7a42a3",
   "metadata": {},
   "source": [
    "(ii) Check if the string is numeric"
   ]
  },
  {
   "cell_type": "code",
   "execution_count": 3,
   "id": "e335b072",
   "metadata": {},
   "outputs": [
    {
     "data": {
      "text/plain": [
       "'True'"
      ]
     },
     "execution_count": 3,
     "metadata": {},
     "output_type": "execute_result"
    }
   ],
   "source": [
    "string1=\"123456\"\n",
    "q=lambda x:\"True\" if x.isdigit()==True else \"False\"\n",
    "q(string1)"
   ]
  },
  {
   "cell_type": "markdown",
   "id": "8a0a097d",
   "metadata": {},
   "source": [
    "(iii)Sort a list of tuples having fruit names and their quantity. [(\"mango\",99),(\"orange\",80), (\"grapes\", 1000)]"
   ]
  },
  {
   "cell_type": "code",
   "execution_count": 4,
   "id": "a5fcd0c3",
   "metadata": {},
   "outputs": [
    {
     "name": "stdout",
     "output_type": "stream",
     "text": [
      "[('orange', 80), ('mango', 99), ('grapes', 1000)]\n"
     ]
    }
   ],
   "source": [
    "list1=[(\"mango\",99),(\"orange\",80),(\"grapes\", 1000)]\n",
    "list1.sort(key= lambda x:x[1])\n",
    "print(list1)"
   ]
  },
  {
   "cell_type": "markdown",
   "id": "acdcfa24",
   "metadata": {},
   "source": [
    "(iv) Find the squares of numbers from 1 to 10"
   ]
  },
  {
   "cell_type": "code",
   "execution_count": 5,
   "id": "d335b147",
   "metadata": {},
   "outputs": [
    {
     "name": "stdout",
     "output_type": "stream",
     "text": [
      "[1, 4, 9, 16, 25, 36, 49, 64, 81, 100]\n"
     ]
    }
   ],
   "source": [
    "list2=list(map(lambda x:x**2,[1,2,3,4,5,6,7,8,9,10]))\n",
    "print(list2)"
   ]
  },
  {
   "cell_type": "markdown",
   "id": "c1cdc2f8",
   "metadata": {},
   "source": [
    "(v) Find the cube root of numbers from 1 to 10"
   ]
  },
  {
   "cell_type": "code",
   "execution_count": 6,
   "id": "368746ad",
   "metadata": {},
   "outputs": [
    {
     "name": "stdout",
     "output_type": "stream",
     "text": [
      "[0.3333333333333333, 0.6666666666666666, 1.0, 1.3333333333333333, 1.6666666666666667, 2.0, 2.3333333333333335, 2.6666666666666665, 3.0, 3.3333333333333335]\n"
     ]
    }
   ],
   "source": [
    "list3=list(map(lambda x:x**1/3,[1,2,3,4,5,6,7,8,9,10]))\n",
    "print(list3)"
   ]
  },
  {
   "cell_type": "markdown",
   "id": "5515eba0",
   "metadata": {},
   "source": [
    "(vi) Check if a given number is even"
   ]
  },
  {
   "cell_type": "code",
   "execution_count": 7,
   "id": "966107b4",
   "metadata": {},
   "outputs": [
    {
     "name": "stdout",
     "output_type": "stream",
     "text": [
      "10\n",
      "even\n"
     ]
    }
   ],
   "source": [
    "a=int(input())\n",
    "x=lambda : \"even\" if a%2==0 else \"odd\"\n",
    "print(x())"
   ]
  },
  {
   "cell_type": "markdown",
   "id": "1d546afe",
   "metadata": {},
   "source": [
    "(vi)Filter odd numbers from the given list.\n",
    "[1,2,3,4,5,6,7,8,9,10]"
   ]
  },
  {
   "cell_type": "code",
   "execution_count": 8,
   "id": "119a122f",
   "metadata": {},
   "outputs": [
    {
     "data": {
      "text/plain": [
       "[1, 3, 5, 7, 9]"
      ]
     },
     "execution_count": 8,
     "metadata": {},
     "output_type": "execute_result"
    }
   ],
   "source": [
    "list(filter(lambda x: x%2!=0,[1,2,3,4,5,6,7,8,9,10]))"
   ]
  },
  {
   "cell_type": "markdown",
   "id": "fe78619e",
   "metadata": {},
   "source": [
    "(vii) Sort a list of integers into positive and negative integers lists.\n",
    "[1,2,3,4,5,6,-1,-2,-3,-4,-5,0]"
   ]
  },
  {
   "cell_type": "code",
   "execution_count": 9,
   "id": "4b9dfc32",
   "metadata": {},
   "outputs": [
    {
     "name": "stdout",
     "output_type": "stream",
     "text": [
      "possitive:[1, 2, 3, 4, 5, 6]\n",
      "negative:[-1, -2, -3, -4, -5]\n"
     ]
    }
   ],
   "source": [
    "print(f\"possitive:{list(filter(lambda x: x>0,[1,2,3,4,5,6,-1,-2,-3,-4,-5,0]))}\")\n",
    "print(f\"negative:{list(filter(lambda x: x<0,[1,2,3,4,5,6,-1,-2,-3,-4,-5,0]))}\")"
   ]
  }
 ],
 "metadata": {
  "kernelspec": {
   "display_name": "Python 3 (ipykernel)",
   "language": "python",
   "name": "python3"
  },
  "language_info": {
   "codemirror_mode": {
    "name": "ipython",
    "version": 3
   },
   "file_extension": ".py",
   "mimetype": "text/x-python",
   "name": "python",
   "nbconvert_exporter": "python",
   "pygments_lexer": "ipython3",
   "version": "3.9.7"
  }
 },
 "nbformat": 4,
 "nbformat_minor": 5
}
