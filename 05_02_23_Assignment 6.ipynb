{
 "cells": [
  {
   "cell_type": "markdown",
   "id": "0d063cf3",
   "metadata": {},
   "source": [
    "## Question 1"
   ]
  },
  {
   "cell_type": "markdown",
   "id": "51933bcd",
   "metadata": {},
   "source": [
    "Ans: A class can be defined as a template/blueprint that describes the behavior/state that the object      of its type support.\n",
    "     An object is an instance of a class   "
   ]
  },
  {
   "cell_type": "markdown",
   "id": "c7b5dcf6",
   "metadata": {},
   "source": [
    "## Question 2"
   ]
  },
  {
   "cell_type": "markdown",
   "id": "fc213c99",
   "metadata": {},
   "source": [
    "Ans: The four pillars of OOPs are Inheritance, Polymorphism, Encapsulation and Abstraction."
   ]
  },
  {
   "cell_type": "markdown",
   "id": "79187502",
   "metadata": {},
   "source": [
    "## Question 3"
   ]
  },
  {
   "cell_type": "markdown",
   "id": "593dca4d",
   "metadata": {},
   "source": [
    "Ans: The __init__ method lets the class initialize the object's attributes and serves no other purpose. It is only used within classes"
   ]
  },
  {
   "cell_type": "markdown",
   "id": "38a4eb4d",
   "metadata": {},
   "source": [
    "## Question 4"
   ]
  },
  {
   "cell_type": "markdown",
   "id": "24501d2e",
   "metadata": {},
   "source": [
    "Ans: The self variable is used to represent the instance of the class which is often used in object-oriented programming. It works as a reference to the object"
   ]
  },
  {
   "cell_type": "markdown",
   "id": "370004c5",
   "metadata": {},
   "source": [
    "## Question 5"
   ]
  },
  {
   "cell_type": "markdown",
   "id": "08542568",
   "metadata": {},
   "source": [
    "Ans: Inheritance is a mechanism in which one class acquires the property of another class"
   ]
  }
 ],
 "metadata": {
  "kernelspec": {
   "display_name": "Python 3 (ipykernel)",
   "language": "python",
   "name": "python3"
  },
  "language_info": {
   "codemirror_mode": {
    "name": "ipython",
    "version": 3
   },
   "file_extension": ".py",
   "mimetype": "text/x-python",
   "name": "python",
   "nbconvert_exporter": "python",
   "pygments_lexer": "ipython3",
   "version": "3.9.7"
  }
 },
 "nbformat": 4,
 "nbformat_minor": 5
}
