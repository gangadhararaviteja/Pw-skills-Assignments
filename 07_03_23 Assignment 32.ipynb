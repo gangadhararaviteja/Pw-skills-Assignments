{
 "cells": [
  {
   "cell_type": "markdown",
   "id": "d19741ed",
   "metadata": {},
   "source": [
    "## Question 1"
   ]
  },
  {
   "cell_type": "markdown",
   "id": "448d8090",
   "metadata": {},
   "source": [
    "The three measures of central tendency are:\n",
    "\n",
    "1. Mean: The mean is the most commonly used measure of central tendency. It is calculated by summing all the values in a dataset and dividing the total by the number of values. The mean is sensitive to extreme values and is affected by outliers.\n",
    "\n",
    "2. Median: The median is the middle value in a dataset when the values are arranged in order. It is a robust measure of central tendency and is not affected by extreme values or outliers.\n",
    "\n",
    "3. Mode: The mode is the value that occurs most frequently in a dataset. It is useful when dealing with categorical data or discrete values. There can be more than one mode in a dataset, or there may be no mode if no value occurs more frequently than any other."
   ]
  },
  {
   "cell_type": "markdown",
   "id": "ccfc9ae3",
   "metadata": {},
   "source": [
    "## Question 2"
   ]
  },
  {
   "cell_type": "markdown",
   "id": "5a456981",
   "metadata": {},
   "source": [
    "The mean, also known as the arithmetic mean or average, is calculated by summing all the values in a dataset and then dividing by the total number of values. The mean is sensitive to extreme values and can be skewed by outliers.\n",
    "\n",
    "The median is the middle value in a dataset when it is ordered from smallest to largest. If there is an even number of values, the median is calculated by taking the average of the two middle values. The median is less sensitive to extreme values than the mean and is a better representation of the central value in a skewed distribution.\n",
    "\n",
    "The mode is the value that appears most frequently in a dataset. A dataset can have multiple modes or no mode at all. The mode is useful for identifying the most common value in a dataset.\n",
    "\n",
    "When choosing a measure of central tendency, it's important to consider the nature of the data and the purpose of the analysis. For example, if a dataset has extreme values or a skewed distribution, the median may be a better measure of central tendency than the mean."
   ]
  },
  {
   "cell_type": "markdown",
   "id": "7b6ff568",
   "metadata": {},
   "source": [
    "## Question 3"
   ]
  },
  {
   "cell_type": "code",
   "execution_count": 5,
   "id": "4373742f",
   "metadata": {},
   "outputs": [
    {
     "name": "stdout",
     "output_type": "stream",
     "text": [
      "the mean of the data is 177.01875\n",
      "the median of the data is 177.0\n",
      "the mode of the data is ModeResult(mode=array([177.]), count=array([3]))\n"
     ]
    },
    {
     "name": "stderr",
     "output_type": "stream",
     "text": [
      "C:\\Users\\User\\AppData\\Local\\Temp\\ipykernel_3372\\2678357178.py:6: FutureWarning: Unlike other reduction functions (e.g. `skew`, `kurtosis`), the default behavior of `mode` typically preserves the axis it acts along. In SciPy 1.11.0, this behavior will change: the default value of `keepdims` will become False, the `axis` over which the statistic is taken will be eliminated, and the value None will no longer be accepted. Set `keepdims` to True or False to avoid this warning.\n",
      "  print(\"the mode of the data is\",stats.mode(height_data))\n"
     ]
    }
   ],
   "source": [
    "height_data=[178,177,176,177,178.2,178,175,179,180,175,178.9,176.2,177,172.5,178,176.5]\n",
    "import numpy as np\n",
    "from scipy import stats\n",
    "print(\"the mean of the data is\",np.mean(height_data))\n",
    "print(\"the median of the data is\",np.median(height_data))\n",
    "print(\"the mode of the data is\",stats.mode(height_data))"
   ]
  },
  {
   "cell_type": "markdown",
   "id": "b73ada38",
   "metadata": {},
   "source": [
    "## Question 4"
   ]
  },
  {
   "cell_type": "code",
   "execution_count": 6,
   "id": "3a8eef76",
   "metadata": {},
   "outputs": [
    {
     "name": "stdout",
     "output_type": "stream",
     "text": [
      "The standard deviation odf th data is:  1.7885814036548633\n"
     ]
    }
   ],
   "source": [
    "height_data=[178,177,176,177,178.2,178,175,179,180,175,178.9,176.2,177,172.5,178,176.5]\n",
    "print(\"The standard deviation odf th data is: \",np.std(height_data))"
   ]
  },
  {
   "cell_type": "markdown",
   "id": "eb25be45",
   "metadata": {},
   "source": [
    "## Question 5"
   ]
  },
  {
   "cell_type": "markdown",
   "id": "29256061",
   "metadata": {},
   "source": [
    "Measures of dispersion such as range, variance, and standard deviation are used to describe the spread or variability of a dataset.\n",
    "\n",
    "Range is the difference between the maximum and minimum values in a dataset. It provides a rough estimate of the spread of the data, but it can be affected by outliers. For example, if we have a dataset of test scores: {60, 70, 80, 90, 100}, the range would be 40 (100-60).\n",
    "\n",
    "Variance is a measure of how spread out the data is from the mean. It calculates the average squared difference of each data point from the mean of the dataset. For example, if we have the same dataset of test scores {60, 70, 80, 90, 100}, the variance would be 200.\n",
    "\n",
    "Standard deviation is the square root of the variance and provides a measure of the spread of the data in the same units as the original data. It is more commonly used than variance because it is easier to interpret. For example, if we have the same dataset of test scores {60, 70, 80, 90, 100}, the standard deviation would be approximately 14.14."
   ]
  },
  {
   "cell_type": "markdown",
   "id": "91528a1f",
   "metadata": {},
   "source": [
    "## Question 6"
   ]
  },
  {
   "cell_type": "markdown",
   "id": "56928ba1",
   "metadata": {},
   "source": [
    "A Venn diagram is a visual representation of the relationships between sets of things. It is composed of overlapping circles or other shapes, with each circle representing a set and the overlapping regions representing the intersection of the sets.\n",
    "\n",
    "The purpose of a Venn diagram is to illustrate the commonalities and differences between sets of data or concepts. By using circles or other shapes to represent sets and shading or labeling the overlapping regions, a Venn diagram can help to clarify the relationships between different sets."
   ]
  },
  {
   "cell_type": "markdown",
   "id": "9b7d4698",
   "metadata": {},
   "source": [
    "## Question 7"
   ]
  },
  {
   "cell_type": "code",
   "execution_count": 7,
   "id": "9d17b5ac",
   "metadata": {},
   "outputs": [
    {
     "name": "stdout",
     "output_type": "stream",
     "text": [
      "intersection: {2, 6}\n",
      "union: {0, 2, 3, 4, 5, 6, 7, 8, 10}\n"
     ]
    }
   ],
   "source": [
    "A = {2,3,4,5,6,7}\n",
    "B = {0,2,6,8,10}\n",
    "print(\"intersection:\",A & B)\n",
    "print(\"union:\",A | B)"
   ]
  },
  {
   "cell_type": "markdown",
   "id": "a23c8263",
   "metadata": {},
   "source": [
    "## Question 8"
   ]
  },
  {
   "cell_type": "markdown",
   "id": "77ea015c",
   "metadata": {},
   "source": [
    "Skewness is a measure of the asymmetry of a distribution of data. A distribution is said to be skewed if one of its tails is longer than the other.\n",
    "\n",
    "If the tail is longer on the positive side, the distribution is said to be positively skewed or right-skewed. In a positively skewed distribution, the mean is greater than the median, and the mode is less than the median.\n",
    "\n",
    "If the tail is longer on the negative side, the distribution is said to be negatively skewed or left-skewed. In a negatively skewed distribution, the mean is less than the median, and the mode is greater than the median."
   ]
  },
  {
   "cell_type": "markdown",
   "id": "47b7d0a5",
   "metadata": {},
   "source": [
    "## Question 9"
   ]
  },
  {
   "cell_type": "markdown",
   "id": "1302cc7a",
   "metadata": {},
   "source": [
    "When data is right-skewed, the tail of the distribution is longer on the right-hand side, meaning that there are a few extreme values on the high end that are pulling the mean to the right.\n",
    "\n",
    "The median, on the other hand, is less influenced by extreme values and is instead the middle value in the ordered data set.\n",
    "\n",
    "Therefore, in a right-skewed distribution, the median is typically lower than the mean. Specifically, the median will be to the left of the mean."
   ]
  },
  {
   "cell_type": "markdown",
   "id": "88482243",
   "metadata": {},
   "source": [
    "## Question 10"
   ]
  },
  {
   "cell_type": "markdown",
   "id": "991bb110",
   "metadata": {},
   "source": [
    "Covariance and correlation are both measures of the relationship between two variables in statistical analysis.\n",
    "\n",
    "Covariance measures the direction and magnitude of the linear relationship between two variables. It is calculated by finding the average of the product of the deviations of each variable from their respective means. A positive covariance indicates that the two variables tend to increase or decrease together, while a negative covariance indicates that they tend to move in opposite directions.\n",
    "\n",
    "Correlation, on the other hand, measures the strength and direction of the linear relationship between two variables. It is a standardized version of covariance, which means that it is normalized to always be between -1 and 1. A correlation of +1 indicates a perfect positive relationship, a correlation of -1 indicates a perfect negative relationship, and a correlation of 0 indicates no relationship at all."
   ]
  },
  {
   "cell_type": "markdown",
   "id": "9c342693",
   "metadata": {},
   "source": [
    "## Question 11"
   ]
  },
  {
   "cell_type": "markdown",
   "id": "5c9a9cd2",
   "metadata": {},
   "source": [
    "The formula for calculating the sample mean is:\n",
    "\n",
    "sample mean = (sum of all values in the sample) / (number of values in the sample)\n",
    "\n",
    "example:\n",
    "\n",
    "data={5, 7, 9, 12, 15}\n",
    "\n",
    "5 + 7 + 9 + 12 + 15 = 48\n",
    "\n",
    "n=5\n",
    "\n",
    "48 / 5 = 9.6\n",
    "\n",
    "Therefore, the sample mean of this dataset is 9.6.\n",
    "\n",
    "\n",
    "\n",
    "\n"
   ]
  },
  {
   "cell_type": "markdown",
   "id": "e6a3fcb6",
   "metadata": {},
   "source": [
    "## Question 12"
   ]
  },
  {
   "cell_type": "markdown",
   "id": "f029a0d0",
   "metadata": {},
   "source": [
    "For a normal distribution, the three measures of central tendency (mean, median, and mode) are all equal. This is because the normal distribution is symmetric around its mean, so the median and mode will also be at the mean."
   ]
  },
  {
   "cell_type": "markdown",
   "id": "48bca355",
   "metadata": {},
   "source": [
    "## Question 13"
   ]
  },
  {
   "cell_type": "markdown",
   "id": "725c5780",
   "metadata": {},
   "source": [
    "Covariance measures how two variables vary together. Specifically, it measures the degree to which the values of two variables move in the same direction. A positive covariance indicates that the two variables tend to increase or decrease together, while a negative covariance indicates that they tend to move in opposite directions. However, the magnitude of the covariance depends on the scale of the variables and therefore can be difficult to interpret. A large covariance may indicate a strong relationship between the two variables, but it may also be due to the fact that the variables have large variances.\n",
    "\n",
    "Correlation, on the other hand, measures the strength and direction of the linear relationship between two variables. Unlike covariance, correlation is standardized, meaning that it is always between -1 and 1, regardless of the scale of the variables. A correlation coefficient of 1 indicates a perfect positive relationship, a correlation coefficient of -1 indicates a perfect negative relationship, and a correlation coefficient of 0 indicates no linear relationship between the two variables. Correlation is a more informative measure than covariance because it can be interpreted directly and is not affected by the scale of the variables."
   ]
  },
  {
   "cell_type": "markdown",
   "id": "f583103a",
   "metadata": {},
   "source": [
    "## Question 14"
   ]
  },
  {
   "cell_type": "markdown",
   "id": "c9fbe002",
   "metadata": {},
   "source": [
    "Outliers are extreme values in a dataset that are significantly different from the majority of the data points. Outliers can affect measures of central tendency and dispersion, such as mean, median, mode, range, variance, and standard deviation.\n",
    "\n",
    "The effect of outliers on measures of central tendency and dispersion depends on the nature and number of the outliers. Outliers can shift the center of the distribution and increase the spread of the data, leading to biased estimates of central tendency and dispersion.\n",
    "\n",
    "For example, let's consider the following dataset of exam scores:\n",
    "\n",
    "85, 90, 92, 87, 88, 95, 89, 91, 94, 87, 90, 88, 86, 92, 98, 99, 100, 78\n",
    "\n",
    "The mean score of this dataset is 89.44, the median score is 90, and the mode is 88. The range of the data is 22, the variance is 47.89, and the standard deviation is 6.91.\n",
    "\n",
    "Now, let's add an outlier to the dataset:\n",
    "\n",
    "85, 90, 92, 87, 88, 95, 89, 91, 94, 87, 90, 88, 86, 92, 98, 99, 100, 78, 120\n",
    "\n",
    "The mean score of this dataset is now 93.68, the median score is still 90, but the mode is no longer meaningful. The range of the data is 42, the variance is 603.15, and the standard deviation is 24.56. We can see that the outlier has significantly affected the mean, variance, and standard deviation, making them larger than the values in the original dataset.\n",
    "\n",
    "In summary, outliers can distort measures of central tendency and dispersion and lead to biased estimates of the true values of the data. It is important to identify and handle outliers appropriately to avoid misleading conclusions from the analysis."
   ]
  }
 ],
 "metadata": {
  "kernelspec": {
   "display_name": "Python 3 (ipykernel)",
   "language": "python",
   "name": "python3"
  },
  "language_info": {
   "codemirror_mode": {
    "name": "ipython",
    "version": 3
   },
   "file_extension": ".py",
   "mimetype": "text/x-python",
   "name": "python",
   "nbconvert_exporter": "python",
   "pygments_lexer": "ipython3",
   "version": "3.9.7"
  }
 },
 "nbformat": 4,
 "nbformat_minor": 5
}
