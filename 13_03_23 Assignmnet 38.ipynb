{
 "cells": [
  {
   "cell_type": "markdown",
   "id": "13f105df",
   "metadata": {},
   "source": [
    "## Question 1"
   ]
  },
  {
   "cell_type": "code",
   "execution_count": 2,
   "id": "66510e26",
   "metadata": {},
   "outputs": [],
   "source": [
    "# Assumptions:\n",
    "#     1.independence\n",
    "#     2.normality\n",
    "#     3.homegeneity\n",
    "# If any of these assumptions are violated, the validity of the ANOVA results may be affected. For example:\n",
    "# voilation of independence\n",
    "# voilation of normality\n",
    "# voilation of homogeneity"
   ]
  },
  {
   "cell_type": "markdown",
   "id": "6e2251d2",
   "metadata": {},
   "source": [
    "## Question 2"
   ]
  },
  {
   "cell_type": "code",
   "execution_count": 3,
   "id": "7a62def5",
   "metadata": {},
   "outputs": [],
   "source": [
    "# One-way ANOVA: One-way ANOVA is used when there is one independent variable with three or more levels, and one dependent variable.\n",
    "# Two-way ANOVA: Two-way ANOVA is used when there are two independent variables, and one dependent variable.\n",
    "# Repeated measures ANOVA: Repeated measures ANOVA is used when the same individuals are measured multiple times under different conditions. "
   ]
  },
  {
   "cell_type": "markdown",
   "id": "c421c94d",
   "metadata": {},
   "source": [
    "## Question 3"
   ]
  },
  {
   "cell_type": "code",
   "execution_count": 4,
   "id": "53c1d21f",
   "metadata": {},
   "outputs": [],
   "source": [
    "# The partitioning of variance in ANOVA refers to the process of decomposing the total variance observed in the data into different sources of variation."
   ]
  },
  {
   "cell_type": "markdown",
   "id": "008a7f8b",
   "metadata": {},
   "source": [
    "## Question 4"
   ]
  },
  {
   "cell_type": "code",
   "execution_count": 6,
   "id": "1d0bae87",
   "metadata": {},
   "outputs": [],
   "source": [
    "import pandas as pd\n",
    "from scipy import stats\n",
    "def func(filepath):\n",
    "    data = pd.read_csv(filepath)\n",
    "    SST = ((data['y'] - data['y'].mean())**2).sum()\n",
    "    _, SSR, df = statsmodels.stats.anova.anova_lm(statsmodels.formula.api.ols('y ~ group', data=data).fit(), typ=2)\n",
    "\n",
    "    SSE = SST - SSR\n",
    "\n",
    "    print('SST:', SST)\n",
    "    print('SSE:', SSE)\n",
    "    print('SSR:', SSR)\n"
   ]
  },
  {
   "cell_type": "markdown",
   "id": "e79ff4e4",
   "metadata": {},
   "source": [
    "## Question 5"
   ]
  },
  {
   "cell_type": "code",
   "execution_count": 7,
   "id": "8c12b4e4",
   "metadata": {},
   "outputs": [],
   "source": [
    "import pandas as pd\n",
    "from scipy.stats import f_oneway\n",
    "def func(filepath):\n",
    "    data = pd.read_csv(filepath)\n",
    "    A_mean = data.groupby('A')['y'].mean()\n",
    "    B_mean = data.groupby('B')['y'].mean()\n",
    "    A_effect = sum([(A_mean[i] - data['y'].mean())**2 for i in A_mean.index])\n",
    "    B_effect = sum([(B_mean[i] - data['y'].mean())**2 for i in B_mean.index])\n",
    "\n",
    "    AB_mean = data.groupby(['A', 'B'])['y'].mean()"
   ]
  },
  {
   "cell_type": "markdown",
   "id": "6b58af9e",
   "metadata": {},
   "source": [
    "## Question 6"
   ]
  },
  {
   "cell_type": "code",
   "execution_count": 8,
   "id": "e41dec79",
   "metadata": {},
   "outputs": [],
   "source": [
    "# based on the results of the one-way ANOVA with an F-statistic of 5.23 and a p-value of 0.02, we can conclude that there is a significant difference between the group means. However, further analysis is needed to determine which specific groups are different from each other."
   ]
  },
  {
   "cell_type": "markdown",
   "id": "2559b3e7",
   "metadata": {},
   "source": [
    "## Question 7"
   ]
  },
  {
   "cell_type": "code",
   "execution_count": 10,
   "id": "e912e917",
   "metadata": {},
   "outputs": [],
   "source": [
    "# Here are some common methods for handling missing data in a repeated measures ANOVA:\n",
    "# Complete Case Analysis (CCA): CCA involves analyzing only the complete cases, i.e., the observations that have data for all the time points.\n",
    "# Last Observation Carried Forward (LOCF): LOCF involves imputing missing data by carrying forward the last observed value for each participant.\n",
    "# Mean Substitution: Mean substitution involves replacing missing data with the mean of the available data for that participant. \n",
    "# Multiple Imputation (MI): MI involves creating multiple plausible imputed datasets using a statistical model that accounts for the missing data. "
   ]
  },
  {
   "cell_type": "markdown",
   "id": "bf6fe749",
   "metadata": {},
   "source": [
    "## Question 8"
   ]
  },
  {
   "cell_type": "code",
   "execution_count": 11,
   "id": "6a70356c",
   "metadata": {},
   "outputs": [],
   "source": [
    "# Tukey's Honestly Significant Difference (HSD) test: This test is used when there are three or more groups and is recommended when the sample sizes are equal. \n",
    "# Bonferroni correction: This test is used to control the FWER and is more conservative than other post-hoc tests.\n",
    "# Scheffe's test: This test is used when there are unequal sample sizes or variances and is the most conservative of all post-hoc tests. \n",
    "# Fisher's Least Significant Difference (LSD) test: This test is used when there are two groups, and the variances are assumed to be equal."
   ]
  },
  {
   "cell_type": "markdown",
   "id": "c7179e82",
   "metadata": {},
   "source": [
    "## Question 9"
   ]
  },
  {
   "cell_type": "code",
   "execution_count": 13,
   "id": "bddeadcf",
   "metadata": {},
   "outputs": [
    {
     "name": "stdout",
     "output_type": "stream",
     "text": [
      "F-statistic: 30.033777139100614\n",
      "p-value: 1.1576789498492775e-11\n"
     ]
    }
   ],
   "source": [
    "import numpy as np\n",
    "from scipy.stats import f_oneway\n",
    "np.random.seed(123)\n",
    "diet_A = np.random.normal(loc=10, scale=2, size=50)\n",
    "diet_B = np.random.normal(loc=8, scale=3, size=50)\n",
    "diet_C = np.random.normal(loc=6, scale=1.5, size=50)\n",
    "f_stat, p_val = f_oneway(diet_A, diet_B, diet_C)\n",
    "print(\"F-statistic:\", f_stat)\n",
    "print(\"p-value:\", p_val)"
   ]
  },
  {
   "cell_type": "markdown",
   "id": "7302528b",
   "metadata": {},
   "source": [
    "## Question 10"
   ]
  },
  {
   "cell_type": "code",
   "execution_count": 9,
   "id": "d1068417",
   "metadata": {},
   "outputs": [],
   "source": [
    "import numpy as np\n",
    "from scipy.stats import f_oneway\n",
    "np.random.seed(1234)\n",
    "def func():\n",
    "    n = 30\n",
    "    program = np.repeat(['A', 'B', 'C'], n)\n",
    "    experience = np.tile(['novice', 'experienced'], n*3)\n",
    "    time = np.random.normal(10, 2, n*3*2)\n",
    "    data = np.column_stack((time, program, experience))\n",
    "    novice_data = data[data[:, 2] == 'novice'][:, 0]\n",
    "    exp_data = data[data[:, 2] == 'experienced'][:, 0]\n",
    "    progA_data = data[data[:, 1] == 'A'][:, 0]\n",
    "    progB_data = data[data[:, 1] == 'B'][:, 0]\n",
    "    progC_data = data[data[:, 1] == 'C'][:, 0]\n",
    "\n",
    "    program_f, program_p = f_oneway(progA_data, progB_data, progC_data)\n",
    "    experience_f, experience_p = f_oneway(novice_data, exp_data)\n",
    "\n",
    "    novice_progA_data = data[(data[:, 1] == 'A') & (data[:, 2] == 'novice')][:, 0]\n",
    "    exp_progA_data = data[(data[:, 1] == 'A') & (data[:, 2] == 'experienced')][:, 0]\n",
    "    novice_progB_data = data[(data[:, 1] == 'B') & (data[:, 2] == 'novice')][:, 0]\n",
    "    exp_progB_data = data[(data[:, 1] == 'B') & (data[:, 2] == 'experienced')][:, 0]\n",
    "    novice_progC_data = data[(data[:, 1] == 'C') & (data[:, 2] == 'novice')][:, 0]\n",
    "    exp_progC_data = data[(data[:, 1] == 'C') & (data[:, 2] == 'experienced')][:, 0]\n",
    "\n",
    "    interaction_f, interaction_p = f_oneway(novice_progA_data, exp_progA_data,\n",
    "                                             novice_progB_data, exp_progB_data,\n",
    "                                             novice_progC_data, exp_progC_data)\n",
    "\n",
    "    print(f\"Program main effect: F = {program_f:.2f}, p = {program_p:.4f}\")\n",
    "    print(f\"Experience main effect: F = {experience_f:.2f}, p = {experience_p:.4f}\")\n",
    "    print(f\"Interaction effect: F = {interaction_f:.2f}, p = {interaction_p:.4f}\")"
   ]
  },
  {
   "cell_type": "markdown",
   "id": "3ac25990",
   "metadata": {},
   "source": [
    "## Question 11"
   ]
  },
  {
   "cell_type": "code",
   "execution_count": 10,
   "id": "49197d56",
   "metadata": {},
   "outputs": [
    {
     "name": "stdout",
     "output_type": "stream",
     "text": [
      "Two-sample t-test: t = -2.96, p = 0.0035\n",
      "Paired t-test: t = 3.09, p = 0.0026\n",
      "Experimental group scores are significantly higher than control group scores.\n"
     ]
    }
   ],
   "source": [
    "import numpy as np\n",
    "from scipy.stats import ttest_ind, ttest_rel\n",
    "np.random.seed(1234)\n",
    "control_scores = np.random.normal(70, 10, 100)\n",
    "exp_scores = np.random.normal(75, 10, 100)\n",
    "\n",
    "t_stat, p_val = ttest_ind(control_scores, exp_scores)\n",
    "print(f\"Two-sample t-test: t = {t_stat:.2f}, p = {p_val:.4f}\")\n",
    "\n",
    "if p_val < 0.05:\n",
    "    control_mean = np.mean(control_scores)\n",
    "    exp_mean = np.mean(exp_scores)\n",
    "    if control_mean > exp_mean:\n",
    "        t_stat, p_val = ttest_rel(control_scores, exp_scores)\n",
    "        print(f\"Paired t-test: t = {t_stat:.2f}, p = {p_val:.4f}\")\n",
    "        print(\"Control group scores are significantly higher than experimental group scores.\")\n",
    "    elif control_mean < exp_mean:\n",
    "        t_stat, p_val = ttest_rel(exp_scores, control_scores)\n",
    "        print(f\"Paired t-test: t = {t_stat:.2f}, p = {p_val:.4f}\")\n",
    "        print(\"Experimental group scores are significantly higher than control group scores.\")\n"
   ]
  },
  {
   "cell_type": "markdown",
   "id": "8d22ecb1",
   "metadata": {},
   "source": [
    "## Question 12"
   ]
  },
  {
   "cell_type": "code",
   "execution_count": 14,
   "id": "8e882df6",
   "metadata": {},
   "outputs": [
    {
     "name": "stdout",
     "output_type": "stream",
     "text": [
      "Repeated measures ANOVA results:\n",
      "F-statistic: 0.0\n",
      "p-value: 1.0\n",
      "\n",
      "Post hoc results:\n",
      "Multiple Comparison of Means - Tukey HSD, FWER=0.05\n",
      "==================================================\n",
      "group1 group2 meandiff p-adj  lower  upper  reject\n",
      "--------------------------------------------------\n",
      "     A      B      0.0   1.0 -1.2983 1.2983  False\n",
      "     A      C      0.0   1.0 -1.2983 1.2983  False\n",
      "     B      C      0.0   1.0 -1.2983 1.2983  False\n",
      "--------------------------------------------------\n"
     ]
    }
   ],
   "source": [
    "import pandas as pd\n",
    "from scipy import stats\n",
    "\n",
    "data = {'Store': ['A']*30 + ['B']*30 + ['C']*30,\n",
    "        'Day': list(range(1,31))*3,\n",
    "        'Sales': [10, 12, 8, 11, 14, 9, 9, 10, 13, 7, 10, 15, 10, 8, 12, 13, 10, 11, 9, 11, 16, 8, 10, 12, 9, 11, 10, 12, 10, 9]*3}\n",
    "df = pd.DataFrame(data)\n",
    "\n",
    "rm_anova = stats.f_oneway(df[df['Store'] == 'A']['Sales'], df[df['Store'] == 'B']['Sales'], df[df['Store'] == 'C']['Sales'])\n",
    "\n",
    "print(\"Repeated measures ANOVA results:\")\n",
    "print(\"F-statistic:\", rm_anova.statistic)\n",
    "print(\"p-value:\", rm_anova.pvalue)\n",
    "\n",
    "from statsmodels.stats.multicomp import pairwise_tukeyhsd\n",
    "posthoc = pairwise_tukeyhsd(df['Sales'], df['Store'])\n",
    "\n",
    "print(\"\\nPost hoc results:\")\n",
    "print(posthoc)"
   ]
  }
 ],
 "metadata": {
  "kernelspec": {
   "display_name": "Python 3 (ipykernel)",
   "language": "python",
   "name": "python3"
  },
  "language_info": {
   "codemirror_mode": {
    "name": "ipython",
    "version": 3
   },
   "file_extension": ".py",
   "mimetype": "text/x-python",
   "name": "python",
   "nbconvert_exporter": "python",
   "pygments_lexer": "ipython3",
   "version": "3.9.7"
  }
 },
 "nbformat": 4,
 "nbformat_minor": 5
}
