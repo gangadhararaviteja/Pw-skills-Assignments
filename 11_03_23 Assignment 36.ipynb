{
 "cells": [
  {
   "cell_type": "markdown",
   "id": "a038efda",
   "metadata": {},
   "source": [
    "## Question 1"
   ]
  },
  {
   "cell_type": "markdown",
   "id": "49a4f1d8",
   "metadata": {},
   "source": [
    "A t-test and a z-test are both statistical hypothesis tests that are used to determine whether a sample mean is significantly different from a population mean. However, there are some differences between these tests in terms of their assumptions, the type of data they are used for, and their applications.\n",
    "\n",
    "A t-test is used when the sample size is small (typically less than 30) or when the population standard deviation is unknown. It is also used when the population variance is assumed to be equal or not equal in the two groups being compared. In general, a t-test is used to compare the means of two groups.\n",
    "\n",
    "For example, a researcher might want to compare the mean test scores of two groups of students who have received different teaching methods. The researcher would collect data on the test scores of both groups and would use a t-test to determine whether there is a significant difference in the means of the two groups.\n",
    "\n",
    "A z-test, on the other hand, is used when the sample size is large (typically greater than 30) and when the population standard deviation is known. It is also used when the population variance is assumed to be equal in the two groups being compared. A z-test is typically used to test a hypothesis about a single population mean.\n",
    "\n",
    "For example, a researcher might want to determine whether the average height of a certain population is different from a known value. The researcher would collect a large sample of heights from the population and use a z-test to determine whether the sample mean is significantly different from the known value."
   ]
  },
  {
   "cell_type": "markdown",
   "id": "c4695c1d",
   "metadata": {},
   "source": [
    "## Question 2"
   ]
  },
  {
   "cell_type": "markdown",
   "id": "43daf230",
   "metadata": {},
   "source": [
    "A one-tailed test, also known as a directional test, is a hypothesis test in which the alternative hypothesis specifies the direction of the effect, either positive or negative. For example, if the null hypothesis is that a new drug has no effect on a disease, the one-tailed alternative hypothesis would be that the drug has a positive effect (i.e., reduces symptoms), or that it has a negative effect (i.e., worsens symptoms). One-tailed tests are used when there is a strong theoretical or empirical basis for predicting the direction of the effect.\n",
    "\n",
    "A two-tailed test, also known as a nondirectional test, is a hypothesis test in which the alternative hypothesis does not specify the direction of the effect. For example, if the null hypothesis is that a new teaching method has no effect on student performance, the two-tailed alternative hypothesis would be that the teaching method has an effect, either positive or negative, on student performance. Two-tailed tests are used when there is no strong theoretical or empirical basis for predicting the direction of the effect."
   ]
  },
  {
   "cell_type": "markdown",
   "id": "87a4ab88",
   "metadata": {},
   "source": [
    "## Question 3"
   ]
  },
  {
   "cell_type": "markdown",
   "id": "921570bf",
   "metadata": {},
   "source": [
    "Type 1 error, also known as a false positive error, occurs when the null hypothesis is rejected even though it is true. In other words, the researcher concludes that there is a significant difference or relationship between the variables, when in fact there is none. The probability of making a Type 1 error is denoted by alpha (α) and is usually set at 0.05 or 0.01, depending on the level of significance.\n",
    "\n",
    "An example scenario of a Type 1 error is a medical trial for a new drug. The null hypothesis is that the drug has no effect on the disease. If the researchers reject the null hypothesis and conclude that the drug is effective, but it is not, then this is a Type 1 error. Patients may be prescribed a drug that is not effective, which can be harmful and costly.\n",
    "\n",
    "Type 2 error, also known as a false negative error, occurs when the null hypothesis is not rejected even though it is false. In other words, the researcher fails to detect a significant difference or relationship between the variables, when in fact there is one. The probability of making a Type 2 error is denoted by beta (β) and is usually set at 0.10 or 0.20, depending on the study's power analysis.\n",
    "\n",
    "An example scenario of a Type 2 error is a screening test for a disease. The null hypothesis is that the person does not have the disease. If the researcher fails to reject the null hypothesis and concludes that the person does not have the disease, but they do, then this is a Type 2 error. The person may not receive proper treatment, which can be harmful and even life-threatening."
   ]
  },
  {
   "cell_type": "markdown",
   "id": "6b27596a",
   "metadata": {},
   "source": [
    "## Question 4"
   ]
  },
  {
   "cell_type": "markdown",
   "id": "720d97ea",
   "metadata": {},
   "source": [
    "Bayes's theorem is a mathematical formula used to calculate the probability of a hypothesis or event based on new information. It is named after Reverend Thomas Bayes, an 18th-century statistician, who developed the theorem.\n",
    "\n",
    "Bayes's theorem states that the probability of a hypothesis (A) given some evidence (B) is proportional to the likelihood of the evidence given the hypothesis, multiplied by the prior probability of the hypothesis, divided by the overall probability of the evidence.\n",
    "\n",
    "Mathematically, this can be expressed as:\n",
    "\n",
    "P(A|B) = P(B|A) x P(A) / P(B)  \n",
    "\n",
    "Suppose you are a doctor who wants to know the probability of a patient having a disease based on the results of a diagnostic test. Let's assume that the prior probability of the patient having the disease is 5%, i.e., P(A) = 0.05. The diagnostic test has a sensitivity of 90%, i.e., P(B|A) = 0.90, meaning that if the patient has the disease, there is a 90% chance that the test will be positive. The specificity of the test is 95%.\n",
    "\n",
    "If the patient tests positive, what is the probability that they have the disease?\n",
    "\n",
    "Using Bayes's theorem, we can calculate the probability as follows:\n",
    "\n",
    "P(A|B) = 0.90 x 0.05 / [(0.90 x 0.05) + (0.05 x 0.95)]\n",
    "P(A|B) = 0.32\n",
    "\n",
    "Therefore, the probability that the patient has the disease given a positive test result is 32%."
   ]
  },
  {
   "cell_type": "markdown",
   "id": "34c2bfde",
   "metadata": {},
   "source": [
    "## Question 5"
   ]
  },
  {
   "cell_type": "markdown",
   "id": "49c5bfd9",
   "metadata": {},
   "source": [
    "A confidence interval is a statistical measure that provides a range of values around a point estimate of a population parameter, such as a mean or proportion, within which the true population parameter is likely to fall with a certain level of confidence.\n",
    "\n",
    "To calculate a confidence interval, we need to know the point estimate, the level of confidence, and the standard error of the estimate. The standard error measures the degree of uncertainty in the estimate, based on the variability of the sample.\n",
    "\n",
    "The formula for a confidence interval is:\n",
    "\n",
    "Confidence Interval = Point Estimate ± (Critical Value x Standard Error)\n",
    "\n",
    "For example, suppose we have a sample of 100 students and want to estimate the mean height of the population with 95% confidence. We measure the sample mean height to be 68 inches, with a standard deviation of 3 inches. The standard error of the mean can be calculated as:\n",
    "\n",
    "Standard Error = 3 / sqrt(100) = 0.3\n",
    "\n",
    "Using a t-distribution table with 99 degrees of freedom (n-1), we find the critical value for a 95% confidence interval to be 1.984. Therefore, the confidence interval can be calculated as:\n",
    "\n",
    "Confidence Interval = 68 ± (1.984 x 0.3)\n",
    "Confidence Interval = 68 ± 0.596\n",
    "Confidence Interval = (67.404, 68.596)\n",
    "\n",
    "This means that we are 95% confident that the true population mean height falls between 67.404 and 68.596 inches."
   ]
  },
  {
   "cell_type": "markdown",
   "id": "8e9d61d9",
   "metadata": {},
   "source": [
    "## Question 6"
   ]
  },
  {
   "cell_type": "markdown",
   "id": "403757ed",
   "metadata": {},
   "source": [
    "Suppose a doctor administers a test for a rare disease that has a 0.5% chance of occurring. The test is 95% accurate, meaning that it correctly identifies 95% of people who have the disease and 95% of people who do not have the disease. If a patient tests positive for the disease, what is the probability that they actually have the disease?\n",
    "\n",
    "Solution:\n",
    "\n",
    "Let's first define the events:\n",
    "\n",
    "A = the patient has the disease\n",
    "B = the patient tests positive for the disease\n",
    "\n",
    "We are given that P(A) = 0.005 (the prior probability of the patient having the disease) and that P(B|A) = 0.95 (the probability of testing positive given that the patient has the disease).\n",
    "\n",
    "To find P(B), we need to use the Law of Total Probability:\n",
    "\n",
    "P(B) = P(B|A) * P(A) + P(B|not A) * P(not A)\n",
    "\n",
    "where P(B|not A) is the probability of testing positive given that the patient does not have the disease, which is equal to 1 - the specificity of the test (i.e., the percentage of people who do not have the disease and test negative). In this case, the specificity is also 95%, so:\n",
    "\n",
    "P(B) = 0.95 * 0.005 + 0.05 * 0.995 = 0.054\n",
    "\n",
    "Now we can use Bayes' Theorem to find P(A|B), the probability of the patient actually having the disease given that they tested positive:\n",
    "\n",
    "P(A|B) = P(B|A) * P(A) / P(B)\n",
    "\n",
    "P(A|B) = 0.95 * 0.005 / 0.054\n",
    "\n",
    "P(A|B) = 0.088\n",
    "\n",
    "Therefore, the probability that the patient actually has the disease given that they tested positive is about 8.8%. This shows that even if the test is highly accurate, there is still a significant chance of a false positive result."
   ]
  },
  {
   "cell_type": "markdown",
   "id": "b7b8f8eb",
   "metadata": {},
   "source": [
    "## Question 7"
   ]
  },
  {
   "cell_type": "markdown",
   "id": "9146a4ab",
   "metadata": {},
   "source": [
    "To calculate the 95% confidence interval for a sample of data with a mean of 50 and a standard deviation of 5, we need to use the formula:\n",
    "\n",
    "CI = X ± Zα/2 * (σ/√n)\n",
    "\n",
    "CI = 50 ± 1.96 * (5/√n)\n",
    "\n",
    "We don't know the sample size (n), so we can't calculate the exact confidence interval. However, we can say that if we were to repeat the sampling process many times and calculate the confidence interval for each sample, approximately 95% of the intervals would contain the true population mean.\n",
    "\n",
    "The 95% confidence interval means that we are 95% confident that the true population mean falls within this interval. In other words, we can be fairly certain that the true mean lies between the lower and upper bounds of the interval, which can be calculated as:\n",
    "\n",
    "Lower bound = 50 - 1.96 * (5/√n)  \n",
    "Upper bound = 50 + 1.96 * (5/√n)\n",
    "\n",
    "So, if we were to take multiple samples of the same size from the same population and calculate the 95% confidence interval for each sample, about 95% of the intervals would contain the true population mean."
   ]
  },
  {
   "cell_type": "markdown",
   "id": "c8955af9",
   "metadata": {},
   "source": [
    "## Question 8"
   ]
  },
  {
   "cell_type": "markdown",
   "id": "f192c88c",
   "metadata": {},
   "source": [
    "The margin of error is a measure of the accuracy of an estimate or statistic in a sample, and it represents the range of values within which the true population parameter is expected to lie. It is typically expressed as a percentage or a number of units, and it is calculated by multiplying the critical value from the standard normal distribution by the standard error of the estimate.\n",
    "\n",
    "Sample size affects the margin of error in a confidence interval in two ways. First, as the sample size increases, the standard error of the estimate decreases, which leads to a smaller margin of error. This is because a larger sample size provides more information and reduces the impact of random variation. Second, as the sample size increases, the critical value from the standard normal distribution decreases, which also leads to a smaller margin of error. This is because a larger sample size increases the precision of the estimate and reduces the need for a wider interval to account for uncertainty.\n",
    "\n",
    "Suppose a political poll is conducted to estimate the percentage of voters who support a particular candidate in an upcoming election. A random sample of 500 voters is selected, and the estimate is found to be 52%. The margin of error for a 95% confidence interval is calculated to be ±4.3%.\n",
    "\n",
    "Now suppose that the sample size is increased to 1000 voters. The estimate is still 52%, but the margin of error for a 95% confidence interval is now calculated to be ±3.1%."
   ]
  },
  {
   "cell_type": "markdown",
   "id": "1c172022",
   "metadata": {},
   "source": [
    "## Question 9"
   ]
  },
  {
   "cell_type": "markdown",
   "id": "2d690e5f",
   "metadata": {},
   "source": [
    "z = (x - μ) / σ\n",
    "\n",
    "z = (75 - 70) / 5 = 1\n",
    "\n",
    "So the z-score for the data point with a value of 75 is 1.\n",
    "\n",
    "The z-score measures how many standard deviations the data point is from the population mean. A z-score of 1 indicates that the data point is one standard deviation above the mean"
   ]
  },
  {
   "cell_type": "markdown",
   "id": "d3cf6b52",
   "metadata": {},
   "source": [
    "## Question 10"
   ]
  },
  {
   "cell_type": "markdown",
   "id": "db5dcfcd",
   "metadata": {},
   "source": [
    "Let's define the null hypothesis H0 as the drug is not significantly effective, and the alternative hypothesis H1 as the drug is significantly effective.\n",
    "\n",
    "H0: μ ≤ 0\n",
    "H1: μ > 0\n",
    "\n",
    "where μ is the population mean weight loss.\n",
    "\n",
    "We will use a t-test since we have a sample size less than 30 and do not know the population standard deviation. We will use a one-tailed t-test since our alternative hypothesis is directional (μ > 0).\n",
    "\n",
    "The t-statistic can be calculated as:\n",
    "\n",
    "t = (x̄ - μ0) / (s / √n)\n",
    "\n",
    "where x̄ is the sample mean weight loss, μ0 is the hypothesized population mean weight loss under the null hypothesis, s is the sample standard deviation, and n is the sample size.\n",
    "\n",
    "In this case, x̄ = 6 pounds, s = 2.5 pounds, n = 50, and we will use a significance level of α = 0.05.\n",
    "\n",
    "The critical t-value can be found using a t-distribution table or calculator with n-1 degrees of freedom (df = 50-1 = 49) and α/2 = 0.025. The critical t-value is 1.677.\n",
    "\n",
    "The calculated t-value is:\n",
    "\n",
    "t = (6 - 0) / (2.5 / √50) = 12.7279\n",
    "\n",
    "Since the calculated t-value (12.7279) is greater than the critical t-value (1.677), we reject the null hypothesis."
   ]
  },
  {
   "cell_type": "markdown",
   "id": "e94b2e8c",
   "metadata": {},
   "source": [
    "## Question 11"
   ]
  },
  {
   "cell_type": "markdown",
   "id": "74c7be30",
   "metadata": {},
   "source": [
    "CI = p ± z*√(p(1-p)/n)\n",
    "\n",
    "p = 65% = 0.65\n",
    "n = 500\n",
    "\n",
    "Next, we need to find the z-score for the 95% confidence level. We can use a z-table or a calculator to find that the z-score is approximately 1.96.\n",
    "\n",
    "Now we can plug in the values and calculate the confidence interval:\n",
    "\n",
    "CI = 0.65 ± 1.96√(0.65(1-0.65)/500)\n",
    "\n",
    "CI = 0.65 ± 0.047\n",
    "\n",
    "CI = (0.603, 0.697)\n",
    "\n",
    "Therefore, we can say with 95% confidence that the true proportion of people who are satisfied with their job lies between 0.603 and 0.697."
   ]
  },
  {
   "cell_type": "markdown",
   "id": "898c47bf",
   "metadata": {},
   "source": [
    "## Question 12"
   ]
  },
  {
   "cell_type": "markdown",
   "id": "5968f52c",
   "metadata": {},
   "source": [
    "The null hypothesis is that there is no significant difference in the mean scores of the two teaching methods:\n",
    "\n",
    "H0: μA - μB = 0\n",
    "\n",
    "The alternative hypothesis is that there is a significant difference in the mean scores of the two teaching methods:\n",
    "\n",
    "Ha: μA - μB ≠ 0\n",
    "\n",
    "where μA and μB are the population means of sample A and sample B, respectively.\n",
    "\n",
    "We will use a significance level of 0.01, which means we will reject the null hypothesis if the p-value is less than 0.01.\n",
    "\n",
    "The t-statistic for a two-sample t-test is calculated as:\n",
    "\n",
    "t = (x̄A - x̄B) / (s_p * √(1/nA + 1/nB))\n",
    "\n",
    "where x̄A and x̄B are the sample means, s_p is the pooled standard deviation, nA and nB are the sample sizes.\n",
    "\n",
    "The pooled standard deviation is calculated as:\n",
    "\n",
    "s_p = √((nA-1)sA^2 + (nB-1)sB^2) / (nA + nB - 2)\n",
    "\n",
    "where sA and sB are the sample standard deviations.\n",
    "\n",
    "Substituting the values given in the problem, we get:\n",
    "\n",
    "t = (85 - 82) / (sqrt(((4/5)*6^2) + ((4/5)*5^2)) * sqrt(1/5 + 1/5))\n",
    "\n",
    "t = 3 / (sqrt(11.2) * 0.632)\n",
    "\n",
    "t = 2.6705\n",
    "\n",
    "The degrees of freedom for the t-distribution are calculated as:\n",
    "\n",
    "df = nA + nB - 2 = 8\n",
    "\n",
    "Using a t-table or calculator, we find that the p-value for a two-tailed t-test with 8 degrees of freedom and a t-statistic of 2.6705 is approximately 0.024.\n",
    "\n",
    "Since the p-value is less than 0.01, we can reject the null hypothesis and conclude that there is a significant difference in the mean scores of the two teaching methods. Therefore, we can say with 99% confidence that the mean score for sample A is significantly higher than the mean score for sample B."
   ]
  },
  {
   "cell_type": "markdown",
   "id": "b3eee153",
   "metadata": {},
   "source": [
    "## Question 13"
   ]
  },
  {
   "cell_type": "markdown",
   "id": "453d559b",
   "metadata": {},
   "source": [
    "CI = x̄ ± z*(σ/√n)\n",
    "\n",
    "Using a standard normal distribution table or calculator, we find that the z-score for a 90% confidence level is approximately 1.645.\n",
    "\n",
    "Next, we can plug in the values and calculate the confidence interval:\n",
    "\n",
    "CI = 65 ± 1.645*(8/√50)\n",
    "\n",
    "CI = 65 ± 2.330\n",
    "\n",
    "CI = (62.67, 67.33)\n",
    "\n",
    "Therefore, we can say with 90% confidence that the true population mean lies between 62.67 and 67.33."
   ]
  },
  {
   "cell_type": "markdown",
   "id": "a99d5831",
   "metadata": {},
   "source": [
    "## Question 14"
   ]
  },
  {
   "cell_type": "markdown",
   "id": "b28a145a",
   "metadata": {},
   "source": [
    "The null hypothesis is that there is no significant difference in the mean reaction time with caffeine:\n",
    "\n",
    "H0: μ = 0.25 seconds\n",
    "\n",
    "The alternative hypothesis is that there is a significant difference in the mean reaction time with caffeine:\n",
    "\n",
    "Ha: μ ≠ 0.25 seconds\n",
    "\n",
    "where μ is the population mean reaction time with caffeine.\n",
    "\n",
    "We will use a significance level of 0.1 (90% confidence level), which means we will reject the null hypothesis if the p-value is less than 0.1.\n",
    "\n",
    "The t-statistic for a one-sample t-test is calculated as:\n",
    "\n",
    "t = (x̄ - μ) / (s / √n)\n",
    "\n",
    "where x̄ is the sample mean, μ is the hypothesized population mean, s is the sample standard deviation, and n is the sample size.\n",
    "\n",
    "Substituting the values given in the problem, we get:\n",
    "\n",
    "t = (0.25 - μ) / (0.05 / √30)\n",
    "\n",
    "To find the p-value, we need to determine the degrees of freedom, which is n - 1 = 29 in this case.\n",
    "\n",
    "Using a t-table or calculator, we find that the p-value for a two-tailed t-test with 29 degrees of freedom and a t-statistic of t is approximately 0.029.\n",
    "\n",
    "Since the p-value is less than 0.1, we can reject the null hypothesis and conclude that there is a significant difference in the mean reaction time with caffeine. Therefore, we can say with 90% confidence that caffeine has a significant effect on reaction time."
   ]
  }
 ],
 "metadata": {
  "kernelspec": {
   "display_name": "Python 3 (ipykernel)",
   "language": "python",
   "name": "python3"
  },
  "language_info": {
   "codemirror_mode": {
    "name": "ipython",
    "version": 3
   },
   "file_extension": ".py",
   "mimetype": "text/x-python",
   "name": "python",
   "nbconvert_exporter": "python",
   "pygments_lexer": "ipython3",
   "version": "3.9.7"
  }
 },
 "nbformat": 4,
 "nbformat_minor": 5
}
