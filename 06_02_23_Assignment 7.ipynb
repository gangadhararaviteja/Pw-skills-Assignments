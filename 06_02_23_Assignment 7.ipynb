{
 "cells": [
  {
   "cell_type": "markdown",
   "id": "0c52ab40",
   "metadata": {},
   "source": [
    "## Question 1"
   ]
  },
  {
   "cell_type": "code",
   "execution_count": 1,
   "id": "dd4cc5fe",
   "metadata": {},
   "outputs": [
    {
     "name": "stdout",
     "output_type": "stream",
     "text": [
      "[1, 2, 3, 4, 44, 55, 66, 34, 56, 78, 89, 34, 1, 2, 3, 1, 4, 34, 55, 67, 78, 89, 45, 22, 61, 34, 56]\n"
     ]
    }
   ],
   "source": [
    "list1 = [1,2,3,4, [44,55,66, True], False, (34,56,78,89,34), {1,2,3,3,2,1}, {1:34, \"key2\": [55, 67, 78, 89], 4: (45,\n",
    "22, 61, 34)}, [56, 'data science'], 'Machine Learning']\n",
    "def new_list(a):\n",
    "    list2=[]\n",
    "    for i in a:\n",
    "        if type(i)==int:\n",
    "            list2.append(i)\n",
    "        elif type(i)==list or type(i)==tuple or type(i)==set:\n",
    "            for j in i:\n",
    "                if type(j)==int:\n",
    "                    list2.append(j)\n",
    "        elif type(i)==dict:\n",
    "                for j in i.keys():\n",
    "                    if type(j)==int:\n",
    "                        list2.append(j)\n",
    "                for k in i.values():\n",
    "                    if type(k)==int:\n",
    "                        list2.append(k)\n",
    "                    if type(k)==list or type(k)==tuple or type(k)==set:\n",
    "                        for l in k:\n",
    "                            if type(l)==int:\n",
    "                                list2.append(l)\n",
    "    print(list2)\n",
    "                \n",
    "            \n",
    "new_list(list1)"
   ]
  },
  {
   "cell_type": "markdown",
   "id": "24e7c87f",
   "metadata": {},
   "source": [
    "## Question 2"
   ]
  },
  {
   "cell_type": "code",
   "execution_count": 2,
   "id": "cddee923",
   "metadata": {},
   "outputs": [
    {
     "name": "stdout",
     "output_type": "stream",
     "text": [
      "r$dzmg$gl$yvxlnv$z$wzgz$hxrvmgrhg"
     ]
    }
   ],
   "source": [
    "def convertion(s):\n",
    "    s=s.lower()\n",
    "    for i in s:\n",
    "        if ord(i)==32:\n",
    "            print(\"$\",end=\"\")\n",
    "        elif i.islower()==True and ord(i)!=32:\n",
    "            a=ord(i)\n",
    "            b=(122-a)+97\n",
    "            print(chr(b),end=\"\")\n",
    "        \n",
    "convertion(\"I want to become a Data Scientist\")    "
   ]
  }
 ],
 "metadata": {
  "kernelspec": {
   "display_name": "Python 3 (ipykernel)",
   "language": "python",
   "name": "python3"
  },
  "language_info": {
   "codemirror_mode": {
    "name": "ipython",
    "version": 3
   },
   "file_extension": ".py",
   "mimetype": "text/x-python",
   "name": "python",
   "nbconvert_exporter": "python",
   "pygments_lexer": "ipython3",
   "version": "3.9.7"
  }
 },
 "nbformat": 4,
 "nbformat_minor": 5
}
