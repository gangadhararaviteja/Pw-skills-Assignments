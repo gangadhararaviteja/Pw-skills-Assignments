{
 "cells": [
  {
   "cell_type": "markdown",
   "id": "ba9d10c9",
   "metadata": {},
   "source": [
    "## Question 1"
   ]
  },
  {
   "cell_type": "markdown",
   "id": "93abe878",
   "metadata": {},
   "source": [
    "PMF:\n",
    "A probability mass function (PMF) gives the probability of a discrete random variable taking on a specific value. It is a function that maps each possible value of the random variable to a probability between 0 and 1. The sum of all probabilities is equal to 1.\n",
    "\n",
    "For example, consider the roll of a fair six-sided die. The PMF of this random variable would be:\n",
    "\n",
    "This PMF tells us that the probability of rolling a 1 on the die is 1/6, the probability of rolling a 2 is 1/6, and so on.\n",
    "\n",
    "PDF:\n",
    "A probability density function (PDF) gives the probability of a continuous random variable taking on a specific value or range of values. It is a function that describes the distribution of a continuous random variable. Unlike a PMF, the PDF does not give the probability of a specific value but instead gives the probability density at each point.\n",
    "\n",
    "For example, consider the height of adult males in a certain population. The PDF of this random variable would be a function that describes the likelihood of a male being a certain height"
   ]
  },
  {
   "cell_type": "markdown",
   "id": "272e3567",
   "metadata": {},
   "source": [
    "## Question 2"
   ]
  },
  {
   "cell_type": "markdown",
   "id": "388c1294",
   "metadata": {},
   "source": [
    "A Cumulative Density Function (CDF) is a mathematical function that describes the probability of a random variable taking a value less than or equal to a particular value. In other words, it gives the cumulative probability of a random variable up to a certain point.\n",
    "\n",
    "The CDF is defined for a continuous random variable as the integral of its probability density function (PDF), while for a discrete random variable, it is the sum of the probabilities of all values up to a particular point.\n",
    "\n",
    "CDFs are used to calculate the probabilities of events that involve a range of values. For example, if we want to know the probability of getting heads between 1 and 3 times in 5 coin tosses, we can use the CDF to calculate this probability. The CDF is a useful tool for calculating probabilities in statistical analysis and hypothesis testing."
   ]
  },
  {
   "cell_type": "markdown",
   "id": "c2b47b7d",
   "metadata": {},
   "source": [
    "## Question 3"
   ]
  },
  {
   "cell_type": "markdown",
   "id": "c04c2131",
   "metadata": {},
   "source": [
    "The normal distribution is a continuous probability distribution that is widely used in statistics and data analysis. It is a bell-shaped curve that is symmetric around the mean value. Here are some examples of situations where the normal distribution might be used as a model:\n",
    "\n",
    "1. Heights of individuals in a population\n",
    "2. Weights of products manufactured in a factory\n",
    "3. IQ scores in a population\n",
    "4. Scores on standardized tests such as the SAT or GRE\n",
    "5. Errors in measurement or observation\n",
    "\n",
    "\n",
    "The normal distribution is characterized by two parameters: the mean (μ) and the standard deviation (σ). The mean determines the location of the peak of the distribution, while the standard deviation determines the spread of the distribution.\n",
    "\n",
    "If μ is small, the peak of the distribution will be to the left, and if μ is large, the peak will be to the right. If σ is small, the distribution will be narrow and tall, while if σ is large, the distribution will be wide and flat.\n",
    "\n",
    "The standard normal distribution is a special case of the normal distribution where the mean is zero (μ = 0) and the standard deviation is one (σ = 1). The standard normal distribution is important in statistics because it allows us to convert any normal distribution into a standard normal distribution by using a process called standardization. This makes it easier to calculate probabilities and compare different normal distributions."
   ]
  },
  {
   "cell_type": "markdown",
   "id": "544e7f6a",
   "metadata": {},
   "source": [
    "## Question 4"
   ]
  },
  {
   "cell_type": "markdown",
   "id": "18ed554c",
   "metadata": {},
   "source": [
    "The normal distribution is one of the most important probability distributions in statistics and data analysis. It is a continuous probability distribution that is symmetric around the mean, and many real-world phenomena follow this distribution. Here are some reasons why the normal distribution is important:\n",
    "\n",
    "- It provides a useful model for many natural phenomena: The normal distribution is often used to model real-world phenomena because it is a good approximation of many natural processes. For example, human height and weight, IQ scores, blood pressure, and many other physical and biological attributes are often distributed normally.\n",
    "\n",
    "- It simplifies statistical analysis: Many statistical techniques, such as hypothesis testing and confidence intervals, assume that the data follow a normal distribution. If the data are not normally distributed, the results of these tests may be incorrect. Therefore, it is important to check if the data follow a normal distribution before applying these techniques.\n",
    "\n",
    "- It allows for easy comparison of data: Since the normal distribution is well-defined, it is easy to compare data that follow this distribution. For example, if we know that the mean and standard deviation of a particular attribute are normal, we can easily compare different groups or populations based on this attribute.\n",
    "\n",
    "Some real-life examples of phenomena that follow a normal distribution include:\n",
    "\n",
    "1. The heights of people in a population\n",
    "2. The weights of products manufactured in a factory\n",
    "3. The test scores of a large group of students\n",
    "4. The IQ scores of a population\n",
    "5. The amount of rainfall in a particular area over a long period of time\n",
    "\n",
    "In summary, the normal distribution is an important probability distribution that is widely used in statistical analysis and modeling. Many natural phenomena follow this distribution, making it a useful tool for data analysis and interpretation.\n",
    "\n",
    "\n",
    "\n",
    "\n"
   ]
  },
  {
   "cell_type": "markdown",
   "id": "6c693702",
   "metadata": {},
   "source": [
    "## Question 5"
   ]
  },
  {
   "cell_type": "markdown",
   "id": "44dfb172",
   "metadata": {},
   "source": [
    "The Bernoulli distribution is a discrete probability distribution that models a random experiment with only two possible outcomes, usually called \"success\" and \"failure\". It is named after Swiss mathematician Jacob Bernoulli. The Bernoulli distribution is characterized by a single parameter, p, which is the probability of a success. The probability of a failure is then 1-p.\n",
    "\n",
    "The main difference between the Bernoulli distribution and the binomial distribution is that the Bernoulli distribution models a single trial of a random experiment, while the binomial distribution models the number of successes in a fixed number of independent trials of the same experiment. In other words, the Bernoulli distribution is a special case of the binomial distribution where the number of trials is equal to 1."
   ]
  },
  {
   "cell_type": "markdown",
   "id": "a699ff06",
   "metadata": {},
   "source": [
    "## Question 6"
   ]
  },
  {
   "cell_type": "markdown",
   "id": "0a605fbb",
   "metadata": {},
   "source": [
    "To find the probability that a randomly selected observation will be greater than 60, we need to standardize the value of 60 using the z-score formula and then look up the corresponding area under the normal curve.\n",
    "\n",
    "The z-score formula is:\n",
    "\n",
    "z = (x - μ) / σ  \n",
    "\n",
    "z = (60 - 50) / 10 = 1\n",
    "\n",
    "This means that 60 is 1 standard deviation above the mean of 50.\n",
    "\n",
    "We can then look up the area to the right of z = 1 in a standard normal distribution table or calculator. The area to the right of z = 1 is approximately 0.1587.\n",
    "\n",
    "Therefore, the probability that a randomly selected observation from this dataset will be greater than 60 is approximately 0.1587 or 15.87%."
   ]
  },
  {
   "cell_type": "markdown",
   "id": "808d50a2",
   "metadata": {},
   "source": [
    "## Question 7"
   ]
  },
  {
   "cell_type": "markdown",
   "id": "1ccc31bf",
   "metadata": {},
   "source": [
    "The uniform distribution is a probability distribution that assigns equal probability to all outcomes in a given range. In other words, it models a situation where all possible outcomes are equally likely.\n",
    "\n",
    "A simple example of a uniform distribution is rolling a fair die. There are six possible outcomes, each of which has an equal probability of occurring. Each of these outcomes has a probability of 1/6 or approximately 0.1667.\n",
    "\n",
    "The probability density function (PDF) of the uniform distribution is:\n",
    "\n",
    "f(x) = 1 / (b - a)\n",
    "\n",
    "where a is the minimum value in the range and b is the maximum value in the range. The PDF of the uniform distribution is a constant function between a and b, and 0 elsewhere.\n",
    "\n",
    "For example, if we have a uniform distribution between 0 and 10, the PDF would be:\n",
    "\n",
    "f(x) = 1 / (10 - 0) = 0.1 for 0 ≤ x ≤ 10\n",
    "f(x) = 0 elsewhere\n",
    "\n",
    "The cumulative distribution function (CDF) of the uniform distribution is:\n",
    "\n",
    "F(x) = 0 for x < a\n",
    "F(x) = (x - a) / (b - a) for a ≤ x ≤ b\n",
    "F(x) = 1 for x > b\n",
    "\n",
    "For example, if we have a uniform distribution between 0 and 10, the CDF would be:\n",
    "\n",
    "F(x) = 0 for x < 0\n",
    "F(x) = x / 10 for 0 ≤ x ≤ 10\n",
    "F(x) = 1 for x > 10\n",
    "\n",
    "In summary, the uniform distribution is a probability distribution that assigns equal probability to all outcomes in a given range. It has a constant PDF between the minimum and maximum values in the range, and a CDF that increases linearly between these values.\n",
    "\n",
    "\n",
    "\n",
    "\n"
   ]
  },
  {
   "cell_type": "markdown",
   "id": "051725b0",
   "metadata": {},
   "source": [
    "## Question 8"
   ]
  },
  {
   "cell_type": "markdown",
   "id": "371c5f57",
   "metadata": {},
   "source": [
    "The z-score (also known as the standard score) is a measure of the number of standard deviations that a data point is from the mean of its distribution. It is a way of standardizing a value to the standard normal distribution with a mean of 0 and a standard deviation of 1.\n",
    "\n",
    "The formula for calculating the z-score is:\n",
    "\n",
    "z = (x - μ) / σ\n",
    "\n",
    "The z-score is important because it allows us to compare values from different normal distributions on the same scale. By standardizing the data to the standard normal distribution, we can calculate the probability of observing a value as extreme or more extreme than the one we are interested in. We can also compare observations from different samples or populations that have different means and standard deviations."
   ]
  },
  {
   "cell_type": "markdown",
   "id": "d653f7a7",
   "metadata": {},
   "source": [
    "## Question 9"
   ]
  },
  {
   "cell_type": "markdown",
   "id": "0f4f904a",
   "metadata": {},
   "source": [
    "The Central Limit Theorem (CLT) is a fundamental concept in statistics that states that the distribution of the sample means of a sufficiently large number of independent and identically distributed (iid) random variables will be approximately normal, regardless of the distribution of the original random variables.\n",
    "\n",
    "The significance of the Central Limit Theorem is that it allows us to make statistical inferences about a population based on a sample. By knowing the distribution of the sample means, we can calculate the probability of obtaining a certain sample mean or a more extreme value, and use this information to make conclusions about the population mean."
   ]
  },
  {
   "cell_type": "markdown",
   "id": "ac846552",
   "metadata": {},
   "source": [
    "## Question 10"
   ]
  },
  {
   "cell_type": "markdown",
   "id": "a78a8315",
   "metadata": {},
   "source": [
    "The Central Limit Theorem (CLT) relies on the following assumptions:\n",
    "\n",
    "1. Independence: The observations in the sample are independent of each other. In other words, the value of one observation does not affect the value of another observation.\n",
    "\n",
    "2. Sample size: The sample size is sufficiently large. There is no clear cutoff for what constitutes a \"sufficiently large\" sample size, but as a general rule of thumb, a sample size of at least 30 is often considered sufficient.\n",
    "\n",
    "3. Identically distributed: The observations in the sample are drawn from the same population and have the same distribution.\n",
    "\n",
    "4. Finite variance: The population variance exists and is finite."
   ]
  }
 ],
 "metadata": {
  "kernelspec": {
   "display_name": "Python 3 (ipykernel)",
   "language": "python",
   "name": "python3"
  },
  "language_info": {
   "codemirror_mode": {
    "name": "ipython",
    "version": 3
   },
   "file_extension": ".py",
   "mimetype": "text/x-python",
   "name": "python",
   "nbconvert_exporter": "python",
   "pygments_lexer": "ipython3",
   "version": "3.9.7"
  }
 },
 "nbformat": 4,
 "nbformat_minor": 5
}
