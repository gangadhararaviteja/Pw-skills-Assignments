{
 "cells": [
  {
   "cell_type": "markdown",
   "id": "4bae2867",
   "metadata": {},
   "source": [
    "## Question 1"
   ]
  },
  {
   "cell_type": "markdown",
   "id": "ccb16a08",
   "metadata": {},
   "source": [
    "Artificial Intelligence (AI):\n",
    "Artificial Intelligence refers to the ability of machines to perform tasks that typically require human intelligence, such as problem-solving, learning, decision-making, and recognizing speech and images.One example of AI in action is a self-driving car, which uses sensors and algorithms to navigate roads, avoid obstacles, and respond to changing traffic conditions.  \n",
    "\n",
    "Machine Learning (ML):\n",
    "Machine Learning is a subset of AI that involves training machines to recognize patterns in data and make predictions based on that data.An example of machine learning in action is a recommendation system used by companies like Amazon or Netflix, which uses past customer behavior and preferences to suggest new products or content  \n",
    "\n",
    "Deep Learning:\n",
    "Deep Learning is a subset of machine learning that uses neural networks to model complex patterns in large amounts of data. Deep learning algorithms are designed to automatically extract features from data, and they can learn to recognize complex patterns and relationships in images, speech, and other types of data. An example of deep learning in action is image recognition software used by social media platforms like Facebook, which uses deep learning to identify people's faces in photos and automatically tag them"
   ]
  },
  {
   "cell_type": "markdown",
   "id": "87c5e2f3",
   "metadata": {},
   "source": [
    "## Question 2"
   ]
  },
  {
   "cell_type": "markdown",
   "id": "d7cef0ad",
   "metadata": {},
   "source": [
    "Supervised learning is a type of machine learning algorithm in which the model is trained on a labeled dataset. In supervised learning, the algorithm learns to make predictions based on input features and labeled outputs. Some examples of supervised learning include:\n",
    "\n",
    "1. Classification: A model is trained to classify data into different categories. For example, an email spam filter can be trained to classify emails as spam or not spam.\n",
    "\n",
    "2. Regression: A model is trained to predict a continuous output value. For example, a model can be trained to predict the price of a house based on features like square footage, number of bedrooms, etc."
   ]
  },
  {
   "cell_type": "markdown",
   "id": "8235fce8",
   "metadata": {},
   "source": [
    "## Question 3"
   ]
  },
  {
   "cell_type": "markdown",
   "id": "8e76adbe",
   "metadata": {},
   "source": [
    "Unsupervised learning is a type of machine learning algorithm where the model is trained on an unlabeled dataset. Unlike supervised learning, there are no predefined output labels, and the algorithm has to learn patterns and relationships in the data on its own. Here are some examples of unsupervised learning:\n",
    "\n",
    "Clustering: In clustering, the algorithm groups similar data points together into clusters. For example, clustering can be used to segment customers based on their purchase behavior.\n",
    "\n",
    "Dimensionality reduction: In dimensionality reduction, the algorithm reduces the number of features or variables in the dataset. For example, principal component analysis (PCA) can be used to reduce the dimensionality of a high-dimensional dataset while retaining as much information as possible."
   ]
  },
  {
   "cell_type": "markdown",
   "id": "c7697ad7",
   "metadata": {},
   "source": [
    "## Question 4"
   ]
  },
  {
   "cell_type": "markdown",
   "id": "5e344f6b",
   "metadata": {},
   "source": [
    "AI, ML, DL, and DS are all related to the field of data science, but they have different meanings and applications. Here's a brief overview of the differences between these terms:\n",
    "\n",
    "Artificial Intelligence (AI): AI refers to the broad field of computer science that aims to create machines that can perform tasks that would typically require human intelligence. AI involves building intelligent algorithms and systems that can learn from data and adapt to new situations.\n",
    "\n",
    "Machine Learning (ML): ML is a subfield of AI that involves the use of algorithms to enable machines to learn from data without being explicitly programmed. In ML, the algorithm learns from labeled data to make predictions or decisions about new data.\n",
    "\n",
    "Deep Learning (DL): DL is a subfield of ML that uses neural networks to enable machines to learn from unstructured data. DL algorithms are designed to automatically learn hierarchical representations of data, and they are particularly effective at tasks like image and speech recognition.\n",
    "\n",
    "Data Science (DS): DS is a multidisciplinary field that involves the use of statistical and computational methods to extract insights and knowledge from data. DS encompasses a wide range of techniques, including data visualization, data mining, and machine learning, to help organizations make data-driven decisions."
   ]
  },
  {
   "cell_type": "markdown",
   "id": "db147566",
   "metadata": {},
   "source": [
    "## Question 5"
   ]
  },
  {
   "cell_type": "markdown",
   "id": "7978946b",
   "metadata": {},
   "source": [
    "The main difference between supervised, unsupervised, and semi-supervised learning lies in the type of data and the amount of labeled data that is available for training the machine learning model.\n",
    "\n",
    "Supervised learning: In supervised learning, the machine learning model is trained on a labeled dataset, where the input data is accompanied by the corresponding output labels. The goal of the model is to learn a mapping between the input data and the output labels so that it can accurately predict the output label for new, unseen input data. Examples of supervised learning include classification and regression.\n",
    "\n",
    "Unsupervised learning: In unsupervised learning, the machine learning model is trained on an unlabeled dataset, where there are no predefined output labels. The goal of the model is to learn the underlying structure and patterns in the input data without any explicit guidance. Examples of unsupervised learning include clustering, dimensionality reduction, and anomaly detection.\n",
    "\n",
    "Semi-supervised learning: Semi-supervised learning lies between supervised and unsupervised learning. In semi-supervised learning, the machine learning model is trained on a partially labeled dataset, where only a small portion of the data is labeled, and the rest is unlabeled. The goal of the model is to leverage the small amount of labeled data to improve its performance on the much larger unlabeled data. Examples of semi-supervised learning include text classification and image classification."
   ]
  },
  {
   "cell_type": "markdown",
   "id": "6ad7a149",
   "metadata": {},
   "source": [
    "## Question 6"
   ]
  },
  {
   "cell_type": "markdown",
   "id": "336e6415",
   "metadata": {},
   "source": [
    "In machine learning, it is common practice to split a dataset into three subsets: a training set, a validation set, and a test set. The purpose of these splits is to evaluate the performance of the machine learning model on new, unseen data and prevent overfitting. Here's the importance of each subset:\n",
    "\n",
    "Training set: The training set is used to train the machine learning model. It is the portion of the dataset that the model uses to learn the patterns and relationships in the data. The model is optimized on the training set to minimize the difference between the predicted output and the actual output labels.\n",
    "\n",
    "Validation set: The validation set is used to evaluate the performance of the machine learning model during the training process. It is used to tune the hyperparameters of the model and prevent overfitting. Overfitting occurs when the model performs well on the training set but fails to generalize to new, unseen data. The validation set provides an estimate of the model's performance on new, unseen data.\n",
    "\n",
    "Test set: The test set is used to evaluate the final performance of the machine learning model. It is a completely independent set of data that the model has not seen before. The model's performance on the test set provides an estimate of how well it will perform on new, unseen data."
   ]
  },
  {
   "cell_type": "markdown",
   "id": "c035deb8",
   "metadata": {},
   "source": [
    "## Question 7"
   ]
  },
  {
   "cell_type": "markdown",
   "id": "a41c7df7",
   "metadata": {},
   "source": [
    "Unsupervised learning can be used for anomaly detection by identifying patterns and anomalies in the data without any prior knowledge of what constitutes an anomaly. Anomaly detection is the process of identifying instances in a dataset that deviate significantly from the normal behavior of the data.\n",
    "\n",
    "In unsupervised anomaly detection, the machine learning model is trained on an unlabeled dataset where there is no information about which instances are anomalous. The goal of the model is to identify any instances that do not conform to the patterns in the data. The model is trained to learn the underlying structure of the data and identify any data points that are significantly different from the majority of the data."
   ]
  },
  {
   "cell_type": "markdown",
   "id": "e80ac3e4",
   "metadata": {},
   "source": [
    "## Question 8"
   ]
  },
  {
   "cell_type": "markdown",
   "id": "2b650591",
   "metadata": {},
   "source": [
    "- Supervised Learning Algorithms:\n",
    "\n",
    "1. Linear Regression\n",
    "2. Logistic Regression\n",
    "3. Decision Trees\n",
    "4. Random Forest\n",
    "5. Support Vector Machines (SVM)  \n",
    "\n",
    "- Unsupervised Learning Algorithms:\n",
    "\n",
    "1. K-Means Clustering\n",
    "2. Hierarchical Clustering\n",
    "3. Principal Component Analysis (PCA)\n",
    "4. Independent Component Analysis (ICA)\n",
    "5. Association Rule Learning (Apriori Algorithm)"
   ]
  }
 ],
 "metadata": {
  "kernelspec": {
   "display_name": "Python 3 (ipykernel)",
   "language": "python",
   "name": "python3"
  },
  "language_info": {
   "codemirror_mode": {
    "name": "ipython",
    "version": 3
   },
   "file_extension": ".py",
   "mimetype": "text/x-python",
   "name": "python",
   "nbconvert_exporter": "python",
   "pygments_lexer": "ipython3",
   "version": "3.9.7"
  }
 },
 "nbformat": 4,
 "nbformat_minor": 5
}
