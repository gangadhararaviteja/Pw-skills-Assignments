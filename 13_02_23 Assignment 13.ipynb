{
 "cells": [
  {
   "cell_type": "markdown",
   "id": "cf572ee5",
   "metadata": {},
   "source": [
    "## Question 1"
   ]
  },
  {
   "cell_type": "markdown",
   "id": "be5e7dcd",
   "metadata": {},
   "source": [
    "- We can create a custom Exception class to define the new Exception.\n",
    "- Again, the idea behind using a Class is because Python treats everything as a Class. \n",
    "- So it doesn’t seem that outlandish that an Exception can be a class as well!\n",
    "- All Exceptions inherit the parent Exception Class, which we shall also inherit when creating our class"
   ]
  },
  {
   "cell_type": "markdown",
   "id": "3d0f1c2c",
   "metadata": {},
   "source": [
    "## Question 2"
   ]
  },
  {
   "cell_type": "code",
   "execution_count": 1,
   "id": "9d862d87",
   "metadata": {},
   "outputs": [
    {
     "data": {
      "text/plain": [
       "[TypeError,\n",
       " StopAsyncIteration,\n",
       " StopIteration,\n",
       " ImportError,\n",
       " OSError,\n",
       " EOFError,\n",
       " RuntimeError,\n",
       " NameError,\n",
       " AttributeError,\n",
       " SyntaxError,\n",
       " LookupError,\n",
       " ValueError,\n",
       " AssertionError,\n",
       " ArithmeticError,\n",
       " SystemError,\n",
       " ReferenceError,\n",
       " MemoryError,\n",
       " BufferError,\n",
       " Warning,\n",
       " locale.Error,\n",
       " warnings._OptionError,\n",
       " re.error,\n",
       " sre_parse.Verbose,\n",
       " runpy._Error,\n",
       " subprocess.SubprocessError,\n",
       " tokenize.TokenError,\n",
       " tokenize.StopTokenizing,\n",
       " inspect.ClassFoundException,\n",
       " inspect.EndOfBlock,\n",
       " traitlets.traitlets.TraitError,\n",
       " copy.Error,\n",
       " concurrent.futures._base.Error,\n",
       " socket._GiveupOnSendfile,\n",
       " struct.error,\n",
       " binascii.Incomplete,\n",
       " asyncio.exceptions.TimeoutError,\n",
       " asyncio.exceptions.InvalidStateError,\n",
       " asyncio.exceptions.LimitOverrunError,\n",
       " asyncio.queues.QueueEmpty,\n",
       " asyncio.queues.QueueFull,\n",
       " zlib.error,\n",
       " _lzma.LZMAError,\n",
       " shutil.RegistryError,\n",
       " shutil._GiveupOnFastCopy,\n",
       " _queue.Empty,\n",
       " queue.Full,\n",
       " zmq.error.ZMQBaseError,\n",
       " _pickle.PickleError,\n",
       " pickle._Stop,\n",
       " argparse.ArgumentError,\n",
       " argparse.ArgumentTypeError,\n",
       " traitlets.config.loader.ConfigError,\n",
       " traitlets.config.configurable.ConfigurableError,\n",
       " traitlets.config.application.ApplicationError,\n",
       " _ctypes.COMError,\n",
       " ctypes.ArgumentError,\n",
       " tornado.concurrent.ReturnValueIgnoredError,\n",
       " tornado.gen.KeyReuseError,\n",
       " tornado.gen.UnknownKeyError,\n",
       " tornado.gen.LeakedCallbackError,\n",
       " tornado.gen.BadYieldError,\n",
       " tornado.gen.ReturnValueIgnoredError,\n",
       " tornado.gen.Return,\n",
       " jupyter_client.channels.InvalidPortNumber,\n",
       " jupyter_client.localinterfaces.NoIPAddresses,\n",
       " zipfile.BadZipFile,\n",
       " zipfile.LargeZipFile,\n",
       " configparser.Error,\n",
       " entrypoints.BadEntryPoint,\n",
       " entrypoints.NoSuchEntryPoint,\n",
       " jupyter_client.multikernelmanager.DuplicateKernelError,\n",
       " pydoc.ErrorDuringImport,\n",
       " executing.executing.NotOneValueFound,\n",
       " pure_eval.utils.CannotEval,\n",
       " pygments.util.OptionError,\n",
       " bdb.BdbQuit,\n",
       " pdb.Restart,\n",
       " IPython.utils.process.FindCmdError,\n",
       " IPython.utils.path.HomeDirError,\n",
       " IPython.core.profiledir.ProfileDirError,\n",
       " IPython.core.error.IPythonCoreError,\n",
       " IPython.core.error.InputRejected,\n",
       " getopt.GetoptError,\n",
       " pygments.filters.ErrorToken,\n",
       " IPython.core.prefilter.PrefilterError,\n",
       " IPython.core.alias.AliasError,\n",
       " sqlite3.Error,\n",
       " sqlite3.Warning,\n",
       " IPython.core.interactiveshell.SpaceInInput,\n",
       " xml.dom.DOMException,\n",
       " prompt_toolkit.validation.ValidationError,\n",
       " prompt_toolkit.buffer.EditReadOnlyBuffer,\n",
       " prompt_toolkit.buffer._Retry,\n",
       " prompt_toolkit.layout.layout.InvalidLayoutError,\n",
       " prompt_toolkit.renderer.HeightIsUnknownError,\n",
       " parso.parser.ParserSyntaxError,\n",
       " parso.parser.InternalParseError,\n",
       " parso.python.diff._PositionUpdatingFinished,\n",
       " jedi.inference.helpers.SimpleGetItemNotFound,\n",
       " jedi.inference.utils.UncaughtAttributeError,\n",
       " jedi.inference.base_value.HasNoContext,\n",
       " jedi.inference.arguments.ParamIssue,\n",
       " jedi.api.exceptions._JediError,\n",
       " jedi.api.helpers.OnErrorLeaf,\n",
       " jedi.api.environment.InvalidPythonEnvironment,\n",
       " email.errors.MessageError,\n",
       " uu.Error,\n",
       " http.client.HTTPException,\n",
       " IPython.core.magics.code.InteractivelyDefined,\n",
       " IPython.terminal.embed.KillEmbedded,\n",
       " psutil.Error,\n",
       " _psutil_windows.Error,\n",
       " _psutil_windows.TimeoutExpired,\n",
       " _psutil_windows.TimeoutAbandoned,\n",
       " tornado.queues.QueueEmpty,\n",
       " tornado.queues.QueueFull,\n",
       " _pydev_bundle._pydev_saved_modules.DebuggerInitializationError,\n",
       " xml.parsers.expat.ExpatError,\n",
       " xmlrpc.client.Error,\n",
       " pywintypes.error,\n",
       " pywintypes.com_error,\n",
       " pythoncom.internal_error,\n",
       " pkg_resources._vendor.pyparsing.ParseBaseException,\n",
       " pkg_resources._vendor.pyparsing.RecursiveGrammarException,\n",
       " pkg_resources.ResolutionError,\n",
       " _pydevd_bundle.pydevd_runpy._Error,\n",
       " _pydevd_bundle.pydevd_resolver.UnableToResolveVariableException,\n",
       " _pydev_bundle.pydev_monkey.InvalidTypeInArgsException]"
      ]
     },
     "execution_count": 1,
     "metadata": {},
     "output_type": "execute_result"
    }
   ],
   "source": [
    "Exception.__subclasses__()"
   ]
  },
  {
   "cell_type": "markdown",
   "id": "6b9d1fb7",
   "metadata": {},
   "source": [
    "## Question 3 "
   ]
  },
  {
   "cell_type": "markdown",
   "id": "5f9b2065",
   "metadata": {},
   "source": [
    "Arithmetic errors are defined in ArthemeticError class\n",
    "- 'FloatingPointError'\n",
    "- 'OverflowError'\n",
    "- 'ZeroDivisionError'\n",
    "- 'decimal.DecimalException'"
   ]
  },
  {
   "cell_type": "code",
   "execution_count": 2,
   "id": "76e798e8",
   "metadata": {},
   "outputs": [
    {
     "name": "stdout",
     "output_type": "stream",
     "text": [
      "<class 'FloatingPointError'>\n",
      "<class 'OverflowError'>\n",
      "<class 'ZeroDivisionError'>\n",
      "<class 'decimal.DecimalException'>\n"
     ]
    }
   ],
   "source": [
    "for i in ArithmeticError.__subclasses__():\n",
    "    print(i)"
   ]
  },
  {
   "cell_type": "code",
   "execution_count": 3,
   "id": "0b5e50c7",
   "metadata": {},
   "outputs": [
    {
     "ename": "ZeroDivisionError",
     "evalue": "division by zero",
     "output_type": "error",
     "traceback": [
      "\u001b[1;31m---------------------------------------------------------------------------\u001b[0m",
      "\u001b[1;31mZeroDivisionError\u001b[0m                         Traceback (most recent call last)",
      "Cell \u001b[1;32mIn [3], line 2\u001b[0m\n\u001b[0;32m      1\u001b[0m \u001b[38;5;66;03m#ZeroDivisionError\u001b[39;00m\n\u001b[1;32m----> 2\u001b[0m \u001b[38;5;241;43m100\u001b[39;49m\u001b[38;5;241;43m/\u001b[39;49m\u001b[38;5;241;43m0\u001b[39;49m\n",
      "\u001b[1;31mZeroDivisionError\u001b[0m: division by zero"
     ]
    }
   ],
   "source": [
    "#ZeroDivisionError\n",
    "100/0"
   ]
  },
  {
   "cell_type": "markdown",
   "id": "49fa1be4",
   "metadata": {},
   "source": [
    "## Question 4"
   ]
  },
  {
   "cell_type": "markdown",
   "id": "278920d7",
   "metadata": {},
   "source": [
    " The LookupError exception in Python forms the base class for all exceptions that are raised when an index or a key is not found for a sequence or dictionary respectively.\n"
   ]
  },
  {
   "cell_type": "code",
   "execution_count": 4,
   "id": "fb03fe0d",
   "metadata": {},
   "outputs": [
    {
     "name": "stdout",
     "output_type": "stream",
     "text": [
      "<class 'IndexError'>\n",
      "<class 'KeyError'>\n",
      "<class 'encodings.CodecRegistryError'>\n"
     ]
    },
    {
     "ename": "KeyError",
     "evalue": "5",
     "output_type": "error",
     "traceback": [
      "\u001b[1;31m---------------------------------------------------------------------------\u001b[0m",
      "\u001b[1;31mKeyError\u001b[0m                                  Traceback (most recent call last)",
      "Cell \u001b[1;32mIn [4], line 6\u001b[0m\n\u001b[0;32m      4\u001b[0m \u001b[38;5;66;03m#key error\u001b[39;00m\n\u001b[0;32m      5\u001b[0m dict1\u001b[38;5;241m=\u001b[39m{\u001b[38;5;124m\"\u001b[39m\u001b[38;5;124mravi\u001b[39m\u001b[38;5;124m\"\u001b[39m:\u001b[38;5;241m1\u001b[39m,\u001b[38;5;124m\"\u001b[39m\u001b[38;5;124mteja\u001b[39m\u001b[38;5;124m\"\u001b[39m:\u001b[38;5;241m2\u001b[39m}\n\u001b[1;32m----> 6\u001b[0m \u001b[38;5;28mprint\u001b[39m(\u001b[43mdict1\u001b[49m\u001b[43m[\u001b[49m\u001b[38;5;241;43m5\u001b[39;49m\u001b[43m]\u001b[49m)\n",
      "\u001b[1;31mKeyError\u001b[0m: 5"
     ]
    }
   ],
   "source": [
    "for i in LookupError.__subclasses__():\n",
    "    print(i)\n",
    "    \n",
    "#key error\n",
    "dict1={\"ravi\":1,\"teja\":2}\n",
    "print(dict1[5])"
   ]
  },
  {
   "cell_type": "code",
   "execution_count": 5,
   "id": "6019c247",
   "metadata": {},
   "outputs": [
    {
     "ename": "IndexError",
     "evalue": "list index out of range",
     "output_type": "error",
     "traceback": [
      "\u001b[1;31m---------------------------------------------------------------------------\u001b[0m",
      "\u001b[1;31mIndexError\u001b[0m                                Traceback (most recent call last)",
      "Cell \u001b[1;32mIn [5], line 3\u001b[0m\n\u001b[0;32m      1\u001b[0m \u001b[38;5;66;03m#indexerror\u001b[39;00m\n\u001b[0;32m      2\u001b[0m list1\u001b[38;5;241m=\u001b[39m[\u001b[38;5;241m1\u001b[39m,\u001b[38;5;241m2\u001b[39m,\u001b[38;5;241m3\u001b[39m,\u001b[38;5;241m4\u001b[39m]\n\u001b[1;32m----> 3\u001b[0m \u001b[38;5;28mprint\u001b[39m(\u001b[43mlist1\u001b[49m\u001b[43m[\u001b[49m\u001b[38;5;241;43m5\u001b[39;49m\u001b[43m]\u001b[49m)\n",
      "\u001b[1;31mIndexError\u001b[0m: list index out of range"
     ]
    }
   ],
   "source": [
    "#indexerror\n",
    "list1=[1,2,3,4]\n",
    "print(list1[5])"
   ]
  },
  {
   "cell_type": "markdown",
   "id": "a1ba9034",
   "metadata": {},
   "source": [
    "## Question 5"
   ]
  },
  {
   "cell_type": "markdown",
   "id": "a863b17a",
   "metadata": {},
   "source": [
    "- ImportError-Import can't find module, or can't find name in module.\n",
    "- ModuleNotFoundError -When mentioned Module not found."
   ]
  },
  {
   "cell_type": "markdown",
   "id": "eb96ff3c",
   "metadata": {},
   "source": [
    "## Question 6"
   ]
  },
  {
   "cell_type": "markdown",
   "id": "2d0e5a24",
   "metadata": {},
   "source": [
    " - Not to use Exception instead use specific Exception\n",
    " - Use Logging and save Exceptions in Log files"
   ]
  }
 ],
 "metadata": {
  "kernelspec": {
   "display_name": "Python 3 (ipykernel)",
   "language": "python",
   "name": "python3"
  },
  "language_info": {
   "codemirror_mode": {
    "name": "ipython",
    "version": 3
   },
   "file_extension": ".py",
   "mimetype": "text/x-python",
   "name": "python",
   "nbconvert_exporter": "python",
   "pygments_lexer": "ipython3",
   "version": "3.9.7"
  }
 },
 "nbformat": 4,
 "nbformat_minor": 5
}
