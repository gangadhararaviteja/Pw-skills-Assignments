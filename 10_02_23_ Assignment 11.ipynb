{
 "cells": [
  {
   "cell_type": "markdown",
   "id": "4de8d73a",
   "metadata": {},
   "source": [
    "## Question 1"
   ]
  },
  {
   "cell_type": "markdown",
   "id": "5cebe1d7",
   "metadata": {},
   "source": [
    "Ans: open() function is used to open a file.  \n",
    "     the modes of opening a file are:  \n",
    "- r - open a file in read mode  \n",
    "- w - opens or create a text file in write mode  \n",
    "- a - opens a file in append mode  \n",
    "- r+ - opens a file in both read and write mode  \n",
    "- a+ - opens a file in both read and write mode  \n",
    "- w+ - opens a file in both read and write mode"
   ]
  },
  {
   "cell_type": "markdown",
   "id": "ca86dc02",
   "metadata": {},
   "source": [
    "## Question 2"
   ]
  },
  {
   "cell_type": "markdown",
   "id": "9273798d",
   "metadata": {},
   "source": [
    "Ans: close() function is used to close a file  \n",
    "         it is important to close the file,beacuse if not updates we made in the file do not update"
   ]
  },
  {
   "cell_type": "markdown",
   "id": "a2813a01",
   "metadata": {},
   "source": [
    "##  Question 3"
   ]
  },
  {
   "cell_type": "code",
   "execution_count": 1,
   "id": "c918b325",
   "metadata": {},
   "outputs": [
    {
     "name": "stdout",
     "output_type": "stream",
     "text": [
      "I want to become a Data Scientist\n"
     ]
    }
   ],
   "source": [
    "file=open(\"text1.txt\",\"w\")\n",
    "file.write(\"I want to become a Data Scientist\")\n",
    "file.close()\n",
    "file=open(\"text1.txt\",\"r\")\n",
    "data=file.read()\n",
    "print(data)"
   ]
  },
  {
   "cell_type": "markdown",
   "id": "3e27493f",
   "metadata": {},
   "source": [
    "##  Question 4"
   ]
  },
  {
   "cell_type": "markdown",
   "id": "7e84adb7",
   "metadata": {},
   "source": [
    "(i) Read"
   ]
  },
  {
   "cell_type": "code",
   "execution_count": 2,
   "id": "309418dc",
   "metadata": {},
   "outputs": [
    {
     "name": "stdout",
     "output_type": "stream",
     "text": [
      "hello guys \n",
      "this is data science masters \n",
      "thank you\n"
     ]
    }
   ],
   "source": [
    "file1=open(\"test.txt\",\"w\")\n",
    "file1.write(\"hello guys \\nthis is data science masters \\nthank you\")\n",
    "file1.close()\n",
    "\n",
    "file1=open(\"test.txt\",\"r\")\n",
    "d=file1.read()\n",
    "print(d)"
   ]
  },
  {
   "cell_type": "markdown",
   "id": "6d477693",
   "metadata": {},
   "source": [
    "(ii) Readline "
   ]
  },
  {
   "cell_type": "code",
   "execution_count": 3,
   "id": "5e39999b",
   "metadata": {},
   "outputs": [
    {
     "name": "stdout",
     "output_type": "stream",
     "text": [
      "hello guys \n",
      "\n"
     ]
    }
   ],
   "source": [
    "file2=open(\"test.txt\",\"r\")\n",
    "e=file2.readline()\n",
    "print(e)"
   ]
  },
  {
   "cell_type": "markdown",
   "id": "d75f1b42",
   "metadata": {},
   "source": [
    "(iii) Readlines "
   ]
  },
  {
   "cell_type": "code",
   "execution_count": 4,
   "id": "b65e0542",
   "metadata": {},
   "outputs": [
    {
     "name": "stdout",
     "output_type": "stream",
     "text": [
      "['hello guys \\n', 'this is data science masters \\n', 'thank you']\n"
     ]
    }
   ],
   "source": [
    "file3=open(\"test.txt\",\"r\")\n",
    "f=file3.readlines()\n",
    "print(f)"
   ]
  },
  {
   "cell_type": "markdown",
   "id": "3c3a140c",
   "metadata": {},
   "source": [
    "##  Question 5"
   ]
  },
  {
   "cell_type": "markdown",
   "id": "5a3d5138",
   "metadata": {},
   "source": [
    "- with statement is used to open a file\n",
    "- whenever we open a file,we need to close at end,but if we open a file using 'WITH' statement we need not to manually close the file"
   ]
  },
  {
   "cell_type": "markdown",
   "id": "e9db4fc5",
   "metadata": {},
   "source": [
    "## Question 6 "
   ]
  },
  {
   "cell_type": "markdown",
   "id": "143adb87",
   "metadata": {},
   "source": [
    "- write"
   ]
  },
  {
   "cell_type": "code",
   "execution_count": 5,
   "id": "3a4f75ed",
   "metadata": {},
   "outputs": [
    {
     "name": "stdout",
     "output_type": "stream",
     "text": [
      "hello guys.this is data science masters\n"
     ]
    }
   ],
   "source": [
    "file3=open(\"test1.txt\",\"w\")\n",
    "file3.write(\"hello guys.this is data science masters\")\n",
    "file3.close()\n",
    "\n",
    "file3=open(\"test1.txt\",\"r\")\n",
    "a=file3.read()\n",
    "print(a)"
   ]
  },
  {
   "cell_type": "markdown",
   "id": "636ca8b3",
   "metadata": {},
   "source": [
    "- WriteLines - used to write multiple lines"
   ]
  },
  {
   "cell_type": "code",
   "execution_count": 6,
   "id": "7f50f8ea",
   "metadata": {},
   "outputs": [
    {
     "name": "stdout",
     "output_type": "stream",
     "text": [
      "\n",
      "hello\n",
      "guys\n",
      "how\n",
      "do\n",
      "you\n",
      "do\n"
     ]
    }
   ],
   "source": [
    "file4=open(\"test2.txt\",\"w\")\n",
    "file4.writelines([\"\\nhello\",\"\\nguys\",\"\\nhow\",\"\\ndo\",\"\\nyou\",\"\\ndo\"])\n",
    "file4.close()\n",
    "\n",
    "file4=open(\"test2.txt\",\"r\")\n",
    "b=file4.read()\n",
    "print(b)"
   ]
  }
 ],
 "metadata": {
  "kernelspec": {
   "display_name": "Python 3 (ipykernel)",
   "language": "python",
   "name": "python3"
  },
  "language_info": {
   "codemirror_mode": {
    "name": "ipython",
    "version": 3
   },
   "file_extension": ".py",
   "mimetype": "text/x-python",
   "name": "python",
   "nbconvert_exporter": "python",
   "pygments_lexer": "ipython3",
   "version": "3.9.7"
  }
 },
 "nbformat": 4,
 "nbformat_minor": 5
}
