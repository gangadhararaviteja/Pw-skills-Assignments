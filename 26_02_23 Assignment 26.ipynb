{
 "cells": [
  {
   "cell_type": "markdown",
   "id": "8bd1eb91",
   "metadata": {},
   "source": [
    "## Question 1"
   ]
  },
  {
   "cell_type": "markdown",
   "id": "aafe957a",
   "metadata": {},
   "source": [
    "Yes, there is a difference in the data type of Python lists, arrays, and NumPy arrays.\n",
    "\n",
    "- list_ is a Python lists that can contain elements of different data types, and their size can be changed dynamically.\n",
    "\n",
    "- array_list is a NumPy arrays that are  homogeneous collections of elements of the same data type but offer more functionalities and optimizations compared to arrays in Python. They can be created using the numpy module in Python.\n",
    "\n"
   ]
  },
  {
   "cell_type": "code",
   "execution_count": 14,
   "id": "89a37e93",
   "metadata": {},
   "outputs": [
    {
     "name": "stdout",
     "output_type": "stream",
     "text": [
      "<class 'list'>\n",
      "<class 'numpy.ndarray'>\n"
     ]
    }
   ],
   "source": [
    "import numpy as np\n",
    "list_ = [\"1\",\"2\",\"3\",\"4\",\"5\"]\n",
    "array_list = np.array(object = list_)\n",
    "\n",
    "print(type(list_))\n",
    "print(type(array_list))"
   ]
  },
  {
   "cell_type": "markdown",
   "id": "2a9ef7c8",
   "metadata": {},
   "source": [
    "## Question 2"
   ]
  },
  {
   "cell_type": "code",
   "execution_count": 15,
   "id": "bedf294e",
   "metadata": {},
   "outputs": [
    {
     "name": "stdout",
     "output_type": "stream",
     "text": [
      "<class 'str'>\n",
      "<class 'str'>\n",
      "<class 'str'>\n",
      "<class 'str'>\n",
      "<class 'str'>\n",
      "********************\n",
      "<class 'numpy.str_'>\n",
      "<class 'numpy.str_'>\n",
      "<class 'numpy.str_'>\n",
      "<class 'numpy.str_'>\n",
      "<class 'numpy.str_'>\n"
     ]
    }
   ],
   "source": [
    "for element in list_:\n",
    "    print(type(element))\n",
    "\n",
    "print(\"********************\")\n",
    "for element in array_list:\n",
    "    print(type(element))"
   ]
  },
  {
   "cell_type": "markdown",
   "id": "f49ecdd4",
   "metadata": {},
   "source": [
    "## Question 3"
   ]
  },
  {
   "cell_type": "markdown",
   "id": "2d416136",
   "metadata": {},
   "source": [
    "Yes, there will be a difference in the data type of the elements present in both the variables 'list_' and 'array_list'.\n",
    "\n",
    "Before converting the list to a numpy array, the elements in the list were strings, and after converting to a numpy array with the default data type, the elements in the numpy array were also strings.\n",
    "\n",
    "However, when the 'dtype' parameter was specified as 'int' during the creation of the numpy array, the elements in the numpy array were converted from strings to integers."
   ]
  },
  {
   "cell_type": "code",
   "execution_count": 16,
   "id": "beec5862",
   "metadata": {},
   "outputs": [
    {
     "name": "stdout",
     "output_type": "stream",
     "text": [
      "Data type of elements in list_: [<class 'str'>, <class 'str'>, <class 'str'>, <class 'str'>, <class 'str'>]\n",
      "Data type of elements in array_list (after conversion): int32\n"
     ]
    }
   ],
   "source": [
    "array_list = np.array(object=list_,dtype=int)\n",
    "print(\"Data type of elements in list_:\", [type(x) for x in list_])\n",
    "print(\"Data type of elements in array_list (after conversion):\", array_list.dtype)"
   ]
  },
  {
   "cell_type": "markdown",
   "id": "9650856a",
   "metadata": {},
   "source": [
    "## Question 4"
   ]
  },
  {
   "cell_type": "code",
   "execution_count": 20,
   "id": "0a2e5375",
   "metadata": {},
   "outputs": [
    {
     "name": "stdout",
     "output_type": "stream",
     "text": [
      "the shape of num_list is : (2, 3)\n",
      "the size of num_list is : 6\n",
      "----------------------------------------------\n",
      "the shape of num_array is : (2, 3)\n",
      "the size of num_array is : 6\n"
     ]
    }
   ],
   "source": [
    "import numpy as np\n",
    "num_list = [ [ 1 , 2 , 3 ] , [ 4 , 5 , 6 ] ]\n",
    "num_array = np.array(object = num_list)\n",
    "\n",
    "print(\"the shape of num_list is :\",np.shape(num_list))\n",
    "print(\"the size of num_list is :\",np.size(num_list))\n",
    "print(\"----------------------------------------------\")\n",
    "print(\"the shape of num_array is :\",np.shape(num_array))\n",
    "print(\"the size of num_array is :\",np.size(num_array))"
   ]
  },
  {
   "cell_type": "markdown",
   "id": "478d4bf9",
   "metadata": {},
   "source": [
    "## Question 5"
   ]
  },
  {
   "cell_type": "code",
   "execution_count": 21,
   "id": "045bc298",
   "metadata": {},
   "outputs": [
    {
     "name": "stdout",
     "output_type": "stream",
     "text": [
      "[[0. 0. 0.]\n",
      " [0. 0. 0.]\n",
      " [0. 0. 0.]]\n"
     ]
    }
   ],
   "source": [
    "matrix=np.zeros((3,3))\n",
    "print(matrix)"
   ]
  },
  {
   "cell_type": "markdown",
   "id": "6e07a0cc",
   "metadata": {},
   "source": [
    "## Question 6"
   ]
  },
  {
   "cell_type": "code",
   "execution_count": 22,
   "id": "59f6f883",
   "metadata": {},
   "outputs": [
    {
     "name": "stdout",
     "output_type": "stream",
     "text": [
      "[[1. 0. 0. 0. 0.]\n",
      " [0. 1. 0. 0. 0.]\n",
      " [0. 0. 1. 0. 0.]\n",
      " [0. 0. 0. 1. 0.]\n",
      " [0. 0. 0. 0. 1.]]\n"
     ]
    }
   ],
   "source": [
    "ide=np.eye(5)\n",
    "print(ide)"
   ]
  }
 ],
 "metadata": {
  "kernelspec": {
   "display_name": "Python 3 (ipykernel)",
   "language": "python",
   "name": "python3"
  },
  "language_info": {
   "codemirror_mode": {
    "name": "ipython",
    "version": 3
   },
   "file_extension": ".py",
   "mimetype": "text/x-python",
   "name": "python",
   "nbconvert_exporter": "python",
   "pygments_lexer": "ipython3",
   "version": "3.9.7"
  }
 },
 "nbformat": 4,
 "nbformat_minor": 5
}
