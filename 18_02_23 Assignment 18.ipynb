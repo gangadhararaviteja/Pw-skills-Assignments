{
 "cells": [
  {
   "cell_type": "markdown",
   "id": "7154d3fb",
   "metadata": {},
   "source": [
    "## Question 1"
   ]
  },
  {
   "cell_type": "code",
   "execution_count": 1,
   "id": "4b38f979",
   "metadata": {},
   "outputs": [],
   "source": [
    "# API-Application Programming Interface\n",
    "# API enables two applications to communicate eachother\n",
    "#EXAMPLE-Gpay"
   ]
  },
  {
   "cell_type": "markdown",
   "id": "ffb1aeb7",
   "metadata": {},
   "source": [
    "## Question 2"
   ]
  },
  {
   "cell_type": "code",
   "execution_count": 2,
   "id": "6fa8fc47",
   "metadata": {},
   "outputs": [],
   "source": [
    "## ADVANTAGES\n",
    "# Improved collaboration.\n",
    "# Accelerated innovation.\n",
    "# Data monetization.\n",
    "# System security. \n",
    "# End-user security and privacy. \n",
    "## DISADVANTAGES\n",
    "# APIs are vulnerable to man-in-the-middle attacks, CSRF attacks, XSS attacks, SQL injection, and DDoS attacks.\n"
   ]
  },
  {
   "cell_type": "markdown",
   "id": "5986a1db",
   "metadata": {},
   "source": [
    "## Question 3"
   ]
  },
  {
   "cell_type": "code",
   "execution_count": 3,
   "id": "75afac20",
   "metadata": {},
   "outputs": [],
   "source": [
    "# WEB API-Open source and ships with .NET framework,Supports only HTTP protocol.\n",
    "# API-use TCP,SMTP,HTTP protocol.\n",
    "# WEB API-use only HTTP protocol"
   ]
  },
  {
   "cell_type": "markdown",
   "id": "74f4fbe8",
   "metadata": {},
   "source": [
    "## Question 4"
   ]
  },
  {
   "cell_type": "code",
   "execution_count": 4,
   "id": "9a1536da",
   "metadata": {},
   "outputs": [],
   "source": [
    "# REST-REpresentational State Transfer\n",
    "# SOAP-Simple Object Access Protocol\n",
    "## shortcomings of SOAP api\n",
    "# Compared to REST, a complex structure can make it harder to implement and maintain.\n",
    "# SOAP has a larger overhead compared to REST which requires more data to be transmitted for each request.\n",
    "# SOAP only supports XML as its data format, which can be limiting for applications that need to handle other data formats."
   ]
  },
  {
   "cell_type": "markdown",
   "id": "c9a51c04",
   "metadata": {},
   "source": [
    "## Question 5"
   ]
  },
  {
   "cell_type": "code",
   "execution_count": 5,
   "id": "aaa8cdd4",
   "metadata": {},
   "outputs": [],
   "source": [
    "## SOAP\n",
    "# use TCP,SMTP\n",
    "# use built-in protocols,WS security\n",
    "# Better for handling sensitive data\n",
    "## REST\n",
    "# use HTTP \n",
    "# Faster than SOAP APIs\n",
    "# use JSON format for transering data"
   ]
  }
 ],
 "metadata": {
  "kernelspec": {
   "display_name": "Python 3 (ipykernel)",
   "language": "python",
   "name": "python3"
  },
  "language_info": {
   "codemirror_mode": {
    "name": "ipython",
    "version": 3
   },
   "file_extension": ".py",
   "mimetype": "text/x-python",
   "name": "python",
   "nbconvert_exporter": "python",
   "pygments_lexer": "ipython3",
   "version": "3.9.7"
  }
 },
 "nbformat": 4,
 "nbformat_minor": 5
}
