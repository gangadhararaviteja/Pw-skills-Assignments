{
 "cells": [
  {
   "cell_type": "markdown",
   "id": "0e6b8041",
   "metadata": {},
   "source": [
    "## Question1"
   ]
  },
  {
   "cell_type": "markdown",
   "id": "45ba3a5e",
   "metadata": {},
   "source": [
    "Ans: The keyword used id \"def\"."
   ]
  },
  {
   "cell_type": "code",
   "execution_count": 9,
   "id": "b43f8e43",
   "metadata": {},
   "outputs": [
    {
     "name": "stdout",
     "output_type": "stream",
     "text": [
      "[1, 3, 5, 7, 9, 11, 13, 15, 17, 19, 21, 23, 25]\n"
     ]
    }
   ],
   "source": [
    "def odd_num():\n",
    "    list1=[]\n",
    "    for i in range(1,26):\n",
    "        if i%2!=0:\n",
    "            list1.append(i)\n",
    "    print(list1)\n",
    "\n",
    "odd_num()"
   ]
  },
  {
   "cell_type": "markdown",
   "id": "b9165b29",
   "metadata": {},
   "source": [
    "## Question2"
   ]
  },
  {
   "cell_type": "markdown",
   "id": "262205d7",
   "metadata": {},
   "source": [
    "Ans: when we are unsure about the number of arguments to\n",
    "pass in the functions we use *args,\n",
    "**kwargs take parameters in form of key,value pair."
   ]
  },
  {
   "cell_type": "code",
   "execution_count": 10,
   "id": "d111c238",
   "metadata": {},
   "outputs": [
    {
     "name": "stdout",
     "output_type": "stream",
     "text": [
      "36\n"
     ]
    }
   ],
   "source": [
    "def add(*args):\n",
    "    a=0\n",
    "    for i in args:\n",
    "        a=a+i\n",
    "    print(a)\n",
    "add(1,2,3,4,5,6,7,8)"
   ]
  },
  {
   "cell_type": "code",
   "execution_count": 12,
   "id": "994d273c",
   "metadata": {},
   "outputs": [
    {
     "name": "stdout",
     "output_type": "stream",
     "text": [
      "name : ravi\n",
      "regno : 41611049\n"
     ]
    }
   ],
   "source": [
    "def dict1(**kwargs):\n",
    "    for key,value in kwargs.items():\n",
    "        print(key,\":\",value)\n",
    "dict1(name=\"ravi\",regno=41611049)"
   ]
  },
  {
   "cell_type": "markdown",
   "id": "db661585",
   "metadata": {},
   "source": [
    "## Question 3"
   ]
  },
  {
   "cell_type": "markdown",
   "id": "3f01298e",
   "metadata": {},
   "source": [
    "Ans: An Iterator is an object that can be used to loop through collections,\n",
    "like List,Tuples..etc\n",
    "method used : iter()"
   ]
  },
  {
   "cell_type": "code",
   "execution_count": 14,
   "id": "b095c114",
   "metadata": {},
   "outputs": [
    {
     "name": "stdout",
     "output_type": "stream",
     "text": [
      "2\n",
      "4\n",
      "6\n",
      "8\n",
      "10\n"
     ]
    }
   ],
   "source": [
    "list1=[2, 4, 6, 8, 10, 12, 14, 16,18, 20]\n",
    "list2=iter(list1)\n",
    "c=0\n",
    "for i in list2:\n",
    "    if c<5:\n",
    "        print(i)\n",
    "        c+=1\n",
    "    "
   ]
  },
  {
   "cell_type": "markdown",
   "id": "11007de4",
   "metadata": {},
   "source": [
    "## Question 4"
   ]
  },
  {
   "cell_type": "markdown",
   "id": "ce9c1db8",
   "metadata": {},
   "source": [
    "Ans: Genreator is used to get return type of iterable object which avoid Space and Time consumption\n",
    "Yield is a return type of Generator Function.Stores ireable object"
   ]
  },
  {
   "cell_type": "code",
   "execution_count": 16,
   "id": "e9714cb5",
   "metadata": {},
   "outputs": [
    {
     "name": "stdout",
     "output_type": "stream",
     "text": [
      "1\n",
      "2\n",
      "3\n",
      "4\n",
      "5\n",
      "6\n",
      "7\n",
      "8\n",
      "9\n",
      "10\n",
      "11\n",
      "12\n",
      "13\n",
      "14\n",
      "15\n",
      "16\n",
      "17\n",
      "18\n",
      "19\n",
      "20\n"
     ]
    }
   ],
   "source": [
    "def natural_numbers(n):\n",
    "    for i in range(1,n+1):\n",
    "        yield i\n",
    "obj=natural_numbers(20)\n",
    "for i in obj:\n",
    "    print(i)"
   ]
  },
  {
   "cell_type": "markdown",
   "id": "4d6f772f",
   "metadata": {},
   "source": [
    "## Question 5"
   ]
  },
  {
   "cell_type": "code",
   "execution_count": 19,
   "id": "5b35ac10",
   "metadata": {},
   "outputs": [
    {
     "name": "stdout",
     "output_type": "stream",
     "text": [
      "[2, 3, 5, 7, 11, 13, 17, 19, 23, 29, 31, 37, 41, 43, 47, 53, 59, 61, 67, 71, 73, 79, 83, 89, 97, 101, 103, 107, 109, 113, 127, 131, 137, 139, 149, 151, 157, 163, 167, 173, 179, 181, 191, 193, 197, 199, 211, 223, 227, 229, 233, 239, 241, 251, 257, 263, 269, 271, 277, 281, 283, 293, 307, 311, 313, 317, 331, 337, 347, 349, 353, 359, 367, 373, 379, 383, 389, 397, 401, 409, 419, 421, 431, 433, 439, 443, 449, 457, 461, 463, 467, 479, 487, 491, 499, 503, 509, 521, 523, 541, 547, 557, 563, 569, 571, 577, 587, 593, 599, 601, 607, 613, 617, 619, 631, 641, 643, 647, 653, 659, 661, 673, 677, 683, 691, 701, 709, 719, 727, 733, 739, 743, 751, 757, 761, 769, 773, 787, 797, 809, 811, 821, 823, 827, 829, 839, 853, 857, 859, 863, 877, 881, 883, 887, 907, 911, 919, 929, 937, 941, 947, 953, 967, 971, 977, 983, 991, 997]\n"
     ]
    }
   ],
   "source": [
    "def prime_num(n):\n",
    "    prime=[]\n",
    "    for i in range(2,n):\n",
    "        for j in range(2,i):\n",
    "            if i%j==0:\n",
    "                break\n",
    "        else:\n",
    "            prime.append(i)\n",
    "    print(prime)\n",
    " \n",
    "prime_num(1000)"
   ]
  }
 ],
 "metadata": {
  "kernelspec": {
   "display_name": "Python 3 (ipykernel)",
   "language": "python",
   "name": "python3"
  },
  "language_info": {
   "codemirror_mode": {
    "name": "ipython",
    "version": 3
   },
   "file_extension": ".py",
   "mimetype": "text/x-python",
   "name": "python",
   "nbconvert_exporter": "python",
   "pygments_lexer": "ipython3",
   "version": "3.9.7"
  }
 },
 "nbformat": 4,
 "nbformat_minor": 5
}
