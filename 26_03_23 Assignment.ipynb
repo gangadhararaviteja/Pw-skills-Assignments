{
 "cells": [
  {
   "cell_type": "markdown",
   "id": "4fcc12cf",
   "metadata": {},
   "source": [
    "## Question 1"
   ]
  },
  {
   "cell_type": "markdown",
   "id": "7df02030",
   "metadata": {},
   "source": [
    "Simple linear regression and multiple linear regression are both statistical techniques used to study the relationship between one or more independent variables and a dependent variable.\n",
    "\n",
    "Simple linear regression involves only one independent variable, and the relationship between this variable and the dependent variable is modeled using a straight line. For example, a study may seek to investigate the relationship between the number of hours a person studies for an exam (independent variable) and the exam score (dependent variable). Here, simple linear regression can be used to model this relationship by fitting a straight line to the data.\n",
    "\n",
    "Multiple linear regression, on the other hand, involves two or more independent variables, and the relationship between these variables and the dependent variable is modeled using a linear equation with multiple predictors. For example, a study may investigate the relationship between a person's age, education level, and work experience (independent variables) and their salary (dependent variable). Here, multiple linear regression can be used to model this relationship by fitting a linear equation with age, education level, and work experience as predictors.\n",
    "\n",
    "In summary, the main difference between simple linear regression and multiple linear regression is the number of independent variables used to model the relationship with the dependent variable. Simple linear regression uses only one independent variable, while multiple linear regression uses two or more.\n",
    "\n",
    "Example of simple linear regression:\n",
    "Suppose you want to study the relationship between the amount of time a student spends studying and their final exam score. You collect data on the number of hours each student studied and their exam scores. You can use simple linear regression to model the relationship between the number of hours studied (independent variable) and the exam score (dependent variable).\n",
    "\n",
    "Example of multiple linear regression:\n",
    "Suppose you want to study the relationship between a person's weight, height, and age and their blood pressure. You collect data on the weight, height, age, and blood pressure of each participant. You can use multiple linear regression to model the relationship between the weight, height, and age (independent variables) and the blood pressure (dependent variable).\n",
    "\n",
    "\n",
    "\n",
    "\n",
    "\n"
   ]
  },
  {
   "cell_type": "markdown",
   "id": "04bab70b",
   "metadata": {},
   "source": [
    "## Question 2"
   ]
  },
  {
   "cell_type": "markdown",
   "id": "19cc1a37",
   "metadata": {},
   "source": [
    "Linear regression is a widely used statistical technique for modeling the relationship between a dependent variable and one or more independent variables. However, the validity of the results depends on certain assumptions being met. Violation of these assumptions can lead to biased and incorrect estimates of the parameters of the model. Here are the main assumptions of linear regression:\n",
    "\n",
    "1. Linearity: The relationship between the independent variables and the dependent variable is linear. This means that a straight line can adequately describe the relationship between them.\n",
    "\n",
    "2. Independence: The observations are independent of each other. There should be no systematic relationship between the residuals (the difference between the predicted and observed values) and any of the independent variables.\n",
    "\n",
    "3. Homoscedasticity: The variance of the residuals is constant across all levels of the independent variables. In other words, the variability of the residuals should be the same for all levels of the independent variables.\n",
    "\n",
    "4. Normality: The residuals follow a normal distribution. This means that the residuals should be normally distributed with a mean of 0.\n",
    "\n",
    "5. No multicollinearity: There should be no high correlation between the independent variables. Multicollinearity occurs when two or more independent variables are highly correlated with each other."
   ]
  },
  {
   "cell_type": "markdown",
   "id": "04274e8a",
   "metadata": {},
   "source": [
    "## Question 3\n"
   ]
  },
  {
   "cell_type": "markdown",
   "id": "c4ddc1b6",
   "metadata": {},
   "source": [
    "In a linear regression model, the slope and intercept are the coefficients that describe the relationship between the independent variable(s) and the dependent variable.\n",
    "\n",
    "The slope represents the change in the dependent variable for a one-unit increase in the independent variable. In other words, it shows how much the dependent variable changes for every unit increase in the independent variable. A positive slope indicates a positive relationship between the two variables, while a negative slope indicates a negative relationship.\n",
    "\n",
    "The intercept represents the value of the dependent variable when the independent variable is zero. It represents the baseline level of the dependent variable when the independent variable has no effect.\n",
    "\n",
    "Here is an example of how to interpret the slope and intercept in a real-world scenario:\n",
    "\n",
    "Suppose you are a sales manager for a company and you want to know how the amount of money spent on advertising affects sales. You collect data on the amount of money spent on advertising and the sales revenue for the past 12 months. You fit a linear regression model to the data and get the following equation:\n",
    "\n",
    "Sales = 1000 + 2 * Advertising\n",
    "\n",
    "In this equation, the intercept is 1000, which represents the baseline level of sales revenue when no money is spent on advertising. The slope is 2, which means that for every additional dollar spent on advertising, the sales revenue increases by $2.\n",
    "\n",
    "Therefore, if you increase your advertising budget by $100, you can expect your sales revenue to increase by $200 (2 * 100).\n",
    "\n",
    "It is important to note that the interpretation of the slope and intercept depends on the context of the problem and the units of the variables. Therefore, it is always important to provide a clear interpretation that is relevant to the problem at hand."
   ]
  },
  {
   "cell_type": "markdown",
   "id": "b3807126",
   "metadata": {},
   "source": [
    "## Question 4"
   ]
  },
  {
   "cell_type": "markdown",
   "id": "6e09e0eb",
   "metadata": {},
   "source": [
    "Gradient descent is an iterative optimization algorithm that is commonly used in machine learning to find the optimal values of the parameters of a model that minimize the error between the predicted and actual values.\n",
    "\n",
    "The basic idea of gradient descent is to start with an initial set of parameter values, and then iteratively update these values in the direction of the steepest descent of the cost function (i.e., the function that measures the difference between the predicted and actual values). This is done by computing the gradient of the cost function with respect to each parameter, which gives the direction of the steepest ascent of the function, and then moving in the opposite direction.\n",
    "\n",
    "In other words, gradient descent tries to find the local minimum of the cost function by repeatedly moving in the direction of the negative gradient. The size of each step is controlled by a learning rate, which determines how quickly the algorithm converges to the minimum.\n",
    "\n",
    "There are two main types of gradient descent: batch gradient descent and stochastic gradient descent. Batch gradient descent computes the gradient of the cost function for the entire dataset, while stochastic gradient descent computes the gradient for a randomly selected subset of the data (i.e., a mini-batch). Stochastic gradient descent is generally faster and more computationally efficient, especially for large datasets, but may be less stable than batch gradient descent.\n",
    "\n",
    "Gradient descent is used in many machine learning algorithms, such as linear regression, logistic regression, and neural networks. In these algorithms, the cost function is typically a measure of the difference between the predicted and actual values, and the goal is to minimize this difference by adjusting the values of the parameters. Gradient descent is an efficient and widely used optimization algorithm for finding the optimal values of the parameters in these models."
   ]
  },
  {
   "cell_type": "markdown",
   "id": "c9cd3da1",
   "metadata": {},
   "source": [
    "## Question 5"
   ]
  },
  {
   "cell_type": "markdown",
   "id": "a5cbb399",
   "metadata": {},
   "source": [
    "Multiple linear regression is an extension of simple linear regression, where we have more than one independent variable (also known as predictors or features) to predict a single dependent variable.\n",
    "\n",
    "In multiple linear regression, the goal is to find a linear relationship between the dependent variable and multiple independent variables. The multiple linear regression equation can be written as:\n",
    "\n",
    "Y = β0 + β1X1 + β2X2 + … + βp*Xp + ε\n",
    "\n",
    "where Y is the dependent variable, X1, X2, …, Xp are the independent variables, β0 is the intercept or constant term, β1, β2, …, βp are the regression coefficients that represent the change in Y for a one-unit increase in each respective independent variable, and ε is the error term.\n",
    "\n",
    "The difference between simple linear regression and multiple linear regression is that in simple linear regression, we have only one independent variable to predict the dependent variable, while in multiple linear regression, we have multiple independent variables.\n",
    "\n",
    "For example, in simple linear regression, we might use the price of a house to predict its size. In multiple linear regression, we might use the price of a house, the number of bedrooms, and the age of the house to predict its size.\n",
    "\n",
    "Multiple linear regression allows us to account for the effects of multiple independent variables simultaneously, and can provide more accurate and precise predictions when there are multiple factors that affect the dependent variable. However, it is important to note that multiple linear regression assumes that the independent variables are not highly correlated with each other, and that there is a linear relationship between the independent variables and the dependent variable."
   ]
  },
  {
   "cell_type": "markdown",
   "id": "71ed8bb0",
   "metadata": {},
   "source": [
    "## Question 6"
   ]
  },
  {
   "cell_type": "markdown",
   "id": "a0152f8d",
   "metadata": {},
   "source": [
    "Multicollinearity in multiple linear regression occurs when two or more independent variables are highly correlated with each other, which can cause problems in the regression analysis. When multicollinearity is present, it becomes difficult to determine the unique contribution of each independent variable to the dependent variable, and the estimated regression coefficients become unstable and unreliable.\n",
    "\n",
    "There are two types of multicollinearity: perfect multicollinearity and imperfect multicollinearity. Perfect multicollinearity occurs when two or more independent variables are perfectly linearly related to each other, while imperfect multicollinearity occurs when the independent variables are highly correlated but not perfectly linearly related.\n",
    "\n",
    "To detect multicollinearity, one can calculate the correlation matrix between the independent variables. If the correlation coefficients are high (e.g., greater than 0.7), then there may be multicollinearity present. Another method is to calculate the variance inflation factor (VIF) for each independent variable. VIF measures how much the variance of the estimated regression coefficient is increased due to multicollinearity. If the VIF for an independent variable is greater than 5, then there may be multicollinearity present.\n",
    "\n",
    "To address multicollinearity, one can take the following steps:\n",
    "\n",
    "Remove one or more of the highly correlated independent variables from the analysis. This can be done by either selecting the most important variable based on prior knowledge or using a statistical method such as stepwise regression.\n",
    "\n",
    "Collect more data to reduce the correlation between the independent variables.\n",
    "\n",
    "Use principal component analysis (PCA) to transform the independent variables into a new set of variables that are uncorrelated with each other.\n",
    "\n",
    "Use regularization techniques such as ridge regression or lasso regression, which can help to reduce the impact of multicollinearity on the estimated regression coefficients."
   ]
  },
  {
   "cell_type": "markdown",
   "id": "ce86b521",
   "metadata": {},
   "source": [
    "## Question 7"
   ]
  },
  {
   "cell_type": "markdown",
   "id": "6286eda2",
   "metadata": {},
   "source": [
    "Polynomial regression is a type of regression analysis where the relationship between the independent variable(s) and dependent variable is modeled as an nth degree polynomial. In polynomial regression, we fit a polynomial function to the data points that can capture non-linear relationships between the variables.\n",
    "\n",
    "Unlike linear regression, where the relationship between the independent variable and dependent variable is modeled as a linear function, polynomial regression can capture non-linear relationships between the variables. The general form of a polynomial regression equation with one independent variable is:\n",
    "\n",
    "y = b0 + b1x + b2x^2 + ... + bn*x^n + ε\n",
    "\n",
    "where y is the dependent variable, x is the independent variable, b0, b1, b2, ..., bn are the regression coefficients, n is the degree of the polynomial, and ε is the error term.\n",
    "\n",
    "In polynomial regression, we choose the degree of the polynomial based on the nature of the data and the relationships we want to capture. For example, if the data suggests a quadratic relationship between the variables, we might choose a second-degree polynomial (n = 2).\n",
    "\n",
    "Polynomial regression is different from linear regression in that it can capture non-linear relationships between the variables, whereas linear regression can only model linear relationships. Polynomial regression can be used to model a wide range of relationships, such as parabolic, cubic, and higher-order relationships.\n",
    "\n",
    "However, polynomial regression can also suffer from overfitting if the degree of the polynomial is too high. This means that the model can fit the noise in the data instead of the underlying pattern, resulting in poor performance on new data. Therefore, it is important to choose an appropriate degree of the polynomial to avoid overfitting."
   ]
  },
  {
   "cell_type": "markdown",
   "id": "4bdf55c9",
   "metadata": {},
   "source": [
    "## Question 8"
   ]
  },
  {
   "cell_type": "markdown",
   "id": "dd97bbd2",
   "metadata": {},
   "source": [
    "Advantages of polynomial regression over linear regression:\n",
    "\n",
    "Can capture non-linear relationships: Polynomial regression can model non-linear relationships between the independent and dependent variables, which linear regression cannot.\n",
    "Flexibility: Polynomial regression is more flexible than linear regression because it can fit a wider range of relationships between the variables.\n",
    "Improved fit: Polynomial regression can provide a better fit to the data than linear regression, especially when the relationship between the variables is non-linear.\n",
    "Disadvantages of polynomial regression compared to linear regression:\n",
    "\n",
    "Overfitting: If the degree of the polynomial is too high, the model may overfit the data and perform poorly on new data.\n",
    "Interpretation: The interpretation of the coefficients in polynomial regression can be more difficult than in linear regression, especially for higher-order polynomials.\n",
    "In situations where the relationship between the variables is non-linear, polynomial regression can be a useful alternative to linear regression. For example, if we have data that suggests a quadratic or cubic relationship between the variables, polynomial regression can be used to model this relationship. Additionally, if we want to capture complex relationships between the variables, polynomial regression can be a good choice. However, it is important to be careful when choosing the degree of the polynomial, as an overly complex model can lead to overfitting and poor performance on new data."
   ]
  }
 ],
 "metadata": {
  "kernelspec": {
   "display_name": "Python 3 (ipykernel)",
   "language": "python",
   "name": "python3"
  },
  "language_info": {
   "codemirror_mode": {
    "name": "ipython",
    "version": 3
   },
   "file_extension": ".py",
   "mimetype": "text/x-python",
   "name": "python",
   "nbconvert_exporter": "python",
   "pygments_lexer": "ipython3",
   "version": "3.9.7"
  }
 },
 "nbformat": 4,
 "nbformat_minor": 5
}
