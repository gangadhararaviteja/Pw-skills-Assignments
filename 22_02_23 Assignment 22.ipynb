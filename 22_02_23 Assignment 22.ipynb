{
 "cells": [
  {
   "cell_type": "code",
   "execution_count": 7,
   "id": "1e24ddd0",
   "metadata": {},
   "outputs": [
    {
     "name": "stderr",
     "output_type": "stream",
     "text": [
      "C:\\Users\\dodda\\AppData\\Local\\Temp\\ipykernel_11592\\3015882357.py:4: DeprecationWarning: executable_path has been deprecated, please pass in a Service object\n",
      "  driver = webdriver.Chrome(ChromeDriverManager().install())\n"
     ]
    }
   ],
   "source": [
    "from selenium import webdriver\n",
    "from selenium.webdriver.common.by import By\n",
    "from webdriver_manager.chrome import ChromeDriverManager\n",
    "driver = webdriver.Chrome(ChromeDriverManager().install())\n",
    "driver.get(\"https://www.youtube.com/@PW-Foundation/videos\")"
   ]
  },
  {
   "cell_type": "markdown",
   "id": "521b86f7",
   "metadata": {},
   "source": [
    "## Question 1"
   ]
  },
  {
   "cell_type": "code",
   "execution_count": 9,
   "id": "2f021b69",
   "metadata": {},
   "outputs": [
    {
     "name": "stdout",
     "output_type": "stream",
     "text": [
      "['https://www.youtube.com/watch?v=PI1obes98Zc', 'https://www.youtube.com/watch?v=PI1obes98Zc', 'https://www.youtube.com/watch?v=16fUsD0M1-I', 'https://www.youtube.com/watch?v=16fUsD0M1-I', 'https://www.youtube.com/watch?v=S0RySN5arvk']\n"
     ]
    }
   ],
   "source": [
    "links = driver.find_elements(By.TAG_NAME,\"a\")\n",
    "urls = []\n",
    "for link in links:\n",
    "    url = link.get_attribute(\"href\")\n",
    "    urls.append(url)\n",
    "first_5_links = []\n",
    "for url in urls[17:25]:\n",
    "    if url == None:\n",
    "        continue\n",
    "    else:\n",
    "        first_5_links.append(url)\n",
    "print(first_5_links)"
   ]
  },
  {
   "cell_type": "markdown",
   "id": "f92f0930",
   "metadata": {},
   "source": [
    "## Question 2"
   ]
  },
  {
   "cell_type": "code",
   "execution_count": 11,
   "id": "6e2e2af0",
   "metadata": {},
   "outputs": [
    {
     "name": "stdout",
     "output_type": "stream",
     "text": [
      "5\n",
      "https://i.ytimg.com/vi/PI1obes98Zc/hqdefault.jpg?sqp=-oaymwEcCNACELwBSFXyq4qpAw4IARUAAIhCGAFwAcABBg==&rs=AOn4CLDyWGBtPVQCXcUM1DiCpOeszoKAsQ\n",
      "https://i.ytimg.com/vi/16fUsD0M1-I/hqdefault.jpg?sqp=-oaymwEcCNACELwBSFXyq4qpAw4IARUAAIhCGAFwAcABBg==&rs=AOn4CLByRUwFQYHPXlsq0XinNUla0MZtNw\n",
      "https://i.ytimg.com/vi/S0RySN5arvk/hqdefault.jpg?sqp=-oaymwEcCNACELwBSFXyq4qpAw4IARUAAIhCGAFwAcABBg==&rs=AOn4CLBOhnoOmjXFZyCKcKSm5Q-ZERlrZQ\n",
      "https://i.ytimg.com/vi/HzBhwxMrt8A/hqdefault.jpg?sqp=-oaymwEcCNACELwBSFXyq4qpAw4IARUAAIhCGAFwAcABBg==&rs=AOn4CLDxv8xtxXYKf6Zn58zMFt2mqVTTZw\n",
      "https://i.ytimg.com/vi/60_B3haKADw/hqdefault.jpg?sqp=-oaymwEcCNACELwBSFXyq4qpAw4IARUAAIhCGAFwAcABBg==&rs=AOn4CLA9baY1YtDSZafi5-Ej4K4ehDrL_A\n"
     ]
    }
   ],
   "source": [
    "driver.get(\"https://www.youtube.com/@PW-Foundation/videos\")\n",
    "links = driver.find_elements(By.TAG_NAME,\"img\")\n",
    "thumbnails = []\n",
    "for thumbnail in links[8:18]:\n",
    "    thumbnail = thumbnail.get_attribute(\"src\")\n",
    "    if thumbnail == None:\n",
    "        continue\n",
    "    else:\n",
    "        thumbnails.append(thumbnail)\n",
    "print(len(thumbnails))\n",
    "for i in thumbnails:\n",
    "    print(i)"
   ]
  },
  {
   "cell_type": "markdown",
   "id": "83487a29",
   "metadata": {},
   "source": [
    "## Question 3"
   ]
  },
  {
   "cell_type": "code",
   "execution_count": 12,
   "id": "4e815861",
   "metadata": {},
   "outputs": [
    {
     "name": "stdout",
     "output_type": "stream",
     "text": [
      "['How to score 95%+ in class 10th? Complete year Powerful Strategy!!', 'Last 4 Days Left For SST Exam || How To Manage to Score 80/80 in Boards || Class-10th', 'Benefits of Choosing Commerce After 10th | Commerce क्यों लेना चाहिए? | CBSE | ICSE | State Boards', 'Complete 𝗖𝗔𝗥𝗕𝗢𝗡 𝗔𝗡𝗗 𝗜𝗧𝗦 𝗖𝗢𝗠𝗣𝗢𝗨𝗡𝗗𝗦 in 90 Minutes | Class 10th Board Exam', 'Complete 𝗠𝗘𝗧𝗔𝗟𝗦 & 𝗡𝗢𝗡 𝗠𝗘𝗧𝗔𝗟𝗦 in 120 Minutes | Class 10th Board Exam']\n"
     ]
    }
   ],
   "source": [
    "driver.get(\"https://www.youtube.com/@PW-Foundation/videos\")\n",
    "titles = driver.find_elements(By.TAG_NAME,\"yt-formatted-string\")\n",
    "titles_video = []\n",
    "# print(links)\n",
    "for i in titles[15:35:4]:\n",
    "    titles_video.append(i.text)\n",
    "print(titles_video)"
   ]
  },
  {
   "cell_type": "markdown",
   "id": "8da473f4",
   "metadata": {},
   "source": [
    "## Question 4"
   ]
  },
  {
   "cell_type": "code",
   "execution_count": 19,
   "id": "02e720c6",
   "metadata": {},
   "outputs": [
    {
     "name": "stdout",
     "output_type": "stream",
     "text": [
      "['26K views', '41K views', '22K views', '19K views', '28K views']\n"
     ]
    }
   ],
   "source": [
    "driver.get(\"https://www.youtube.com/@PW-Foundation/videos\")\n",
    "views = driver.find_elements(By.TAG_NAME,\"span\")\n",
    "video_views = []\n",
    "for i in views[23:48]:\n",
    "    if str(\"views\") in i.text:\n",
    "        video_views.append(i.text)\n",
    "print(video_views)"
   ]
  },
  {
   "cell_type": "markdown",
   "id": "f5b8f935",
   "metadata": {},
   "source": [
    "## Question 5"
   ]
  },
  {
   "cell_type": "code",
   "execution_count": 24,
   "id": "f0a45c03",
   "metadata": {},
   "outputs": [
    {
     "name": "stdout",
     "output_type": "stream",
     "text": [
      "['5 days ago', '6 days ago', '10 days ago', '12 days ago', '12 days ago']\n"
     ]
    }
   ],
   "source": [
    "driver.get(\"https://www.youtube.com/@PW-Foundation/videos\")\n",
    "times = driver.find_elements(By.TAG_NAME,\"span\")\n",
    "video_times = []\n",
    "for i in times[24:]:\n",
    "    if str(\"day\") in i.text:\n",
    "        video_times.append(i.text)\n",
    "print(video_times)"
   ]
  },
  {
   "cell_type": "code",
   "execution_count": 25,
   "id": "292f2f75",
   "metadata": {},
   "outputs": [
    {
     "name": "stdout",
     "output_type": "stream",
     "text": [
      "done\n"
     ]
    }
   ],
   "source": [
    "import csv\n",
    "for i in range(len(first_5_links)-1):\n",
    "    data_csv = str(first_5_links[i]),str(thumbnails[i]),str(titles_video[i]),str(video_views[i]),str(video_times[i])    \n",
    "\n",
    "    with open('video_details.csv', 'w',encoding='utf-8', newline='') as file:\n",
    "        writer = csv.writer(file)\n",
    "        writer.writerow(data_csv)\n",
    "print('done')"
   ]
  }
 ],
 "metadata": {
  "kernelspec": {
   "display_name": "Python 3 (ipykernel)",
   "language": "python",
   "name": "python3"
  },
  "language_info": {
   "codemirror_mode": {
    "name": "ipython",
    "version": 3
   },
   "file_extension": ".py",
   "mimetype": "text/x-python",
   "name": "python",
   "nbconvert_exporter": "python",
   "pygments_lexer": "ipython3",
   "version": "3.9.7"
  }
 },
 "nbformat": 4,
 "nbformat_minor": 5
}
