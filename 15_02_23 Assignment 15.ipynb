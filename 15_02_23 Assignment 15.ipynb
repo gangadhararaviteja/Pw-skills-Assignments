{
 "cells": [
  {
   "cell_type": "markdown",
   "id": "103d42c7",
   "metadata": {},
   "source": [
    "## Question 1 "
   ]
  },
  {
   "cell_type": "markdown",
   "id": "fb4f35a0",
   "metadata": {},
   "source": [
    "- multiprocessing-Multiprocessing refers to the ability of a system to support more than one processor at the same time.\n",
    "- Applications in a multiprocessing system are broken to smaller routines that run independently. The operating system allocates these threads to the processors"
   ]
  },
  {
   "cell_type": "markdown",
   "id": "705b4df0",
   "metadata": {},
   "source": [
    "## Question 2"
   ]
  },
  {
   "cell_type": "markdown",
   "id": "5735c9eb",
   "metadata": {},
   "source": [
    "- Multiprocessing-Many processes are executed simultaneously\n",
    "- Multithreading-Many threads of a process are executed simultaneously"
   ]
  },
  {
   "cell_type": "markdown",
   "id": "c6a46402",
   "metadata": {},
   "source": [
    "## Question 3"
   ]
  },
  {
   "cell_type": "code",
   "execution_count": null,
   "id": "2e79fc07",
   "metadata": {},
   "outputs": [],
   "source": [
    "import multiprocessing\n",
    "def test():\n",
    "    print(\"this is multiprocessing\")\n",
    "\n",
    "if __name__==\"__main__\":\n",
    "    m=multiprocessing.Process(target=test)\n",
    "    print(\"this is main program\")\n",
    "    m.start()\n",
    "    m.join()"
   ]
  },
  {
   "cell_type": "markdown",
   "id": "1349c655",
   "metadata": {},
   "source": [
    "## Question 4"
   ]
  },
  {
   "cell_type": "markdown",
   "id": "89a35303",
   "metadata": {},
   "source": [
    "- multiprocessing.Pool()-Returns a process pool object\n",
    "- It creates multiple Python processes in the background and spreads out your computations for you across multiple CPU cores so that they all happen in parallel"
   ]
  },
  {
   "cell_type": "markdown",
   "id": "1fc40407",
   "metadata": {},
   "source": [
    "## Question 5"
   ]
  },
  {
   "cell_type": "markdown",
   "id": "2559801f",
   "metadata": {},
   "source": [
    "The syntax to create a pool object is multiprocessing.Pool (processes, initializer, initargs, maxtasksperchild, context). All the arguments are optional."
   ]
  },
  {
   "cell_type": "markdown",
   "id": "692e089b",
   "metadata": {},
   "source": [
    "## Question 6"
   ]
  },
  {
   "cell_type": "code",
   "execution_count": null,
   "id": "74b4c948",
   "metadata": {},
   "outputs": [],
   "source": [
    "def test1(x):\n",
    "    return x\n",
    "if __name__==\"__main__\":\n",
    "    with multiprocessing.Pool(processes=4) as pool:\n",
    "        a=pool.map(test1,[1,3,2,6,3,7,0,4])\n",
    "        print(o)"
   ]
  },
  {
   "cell_type": "code",
   "execution_count": null,
   "id": "24b287b4",
   "metadata": {},
   "outputs": [],
   "source": []
  }
 ],
 "metadata": {
  "kernelspec": {
   "display_name": "Python 3 (ipykernel)",
   "language": "python",
   "name": "python3"
  },
  "language_info": {
   "codemirror_mode": {
    "name": "ipython",
    "version": 3
   },
   "file_extension": ".py",
   "mimetype": "text/x-python",
   "name": "python",
   "nbconvert_exporter": "python",
   "pygments_lexer": "ipython3",
   "version": "3.9.7"
  }
 },
 "nbformat": 4,
 "nbformat_minor": 5
}
