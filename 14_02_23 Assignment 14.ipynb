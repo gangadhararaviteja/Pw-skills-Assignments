{
 "cells": [
  {
   "cell_type": "markdown",
   "id": "5b1571bc",
   "metadata": {},
   "source": [
    "## Question 1"
   ]
  },
  {
   "cell_type": "markdown",
   "id": "eed86eb0",
   "metadata": {},
   "source": [
    "  - Multiple tasks can be done in one core\n",
    "  - Multithreading is used to performs multi tasks at a time\n",
    "  - MODULE - threading "
   ]
  },
  {
   "cell_type": "markdown",
   "id": "57f38f88",
   "metadata": {},
   "source": [
    "## Quetion 2 "
   ]
  },
  {
   "cell_type": "markdown",
   "id": "f3fd69a1",
   "metadata": {},
   "source": [
    "- threading module is used to import the multithreading\n",
    "- import threading\n",
    "- threading.active_count() - Return the number of Thread objects currently alive.\n",
    "- threading.current_thread() - Return the current Thread object, corresponding to the caller's thread of control.\n",
    "- threading.enumerate() - Return a list of all Thread objects currently alive."
   ]
  },
  {
   "cell_type": "markdown",
   "id": "a1024a23",
   "metadata": {},
   "source": [
    "## Question 3"
   ]
  },
  {
   "cell_type": "markdown",
   "id": "1a52b262",
   "metadata": {},
   "source": [
    "- run()-Method representing the thread's activity.\n",
    "- start()-Start the thread's activity.\n",
    "- join()-Wait until the thread terminates.\n",
    "- is_alive()-Return whether the thread is alive."
   ]
  },
  {
   "cell_type": "markdown",
   "id": "b5485871",
   "metadata": {},
   "source": [
    "## Question 4"
   ]
  },
  {
   "cell_type": "code",
   "execution_count": 1,
   "id": "4ae7fd93",
   "metadata": {},
   "outputs": [],
   "source": [
    "import threading\n",
    "def square(x):\n",
    "    print(x**2)\n",
    "def cube(x):\n",
    "    print(x**3)\n",
    "a=[threading.Thread(target=square,args=(i,)) for i in range(1,5)]\n",
    "b=[threading.Thread(target=cube,args=(i,)) for i in range(1,5)]"
   ]
  },
  {
   "cell_type": "code",
   "execution_count": 2,
   "id": "efa34744",
   "metadata": {},
   "outputs": [
    {
     "name": "stdout",
     "output_type": "stream",
     "text": [
      "1\n",
      "4\n",
      "9\n",
      "16\n",
      "1\n",
      "8\n",
      "27\n",
      "64\n"
     ]
    }
   ],
   "source": [
    "for i in a:\n",
    "    i.start()\n",
    "    i.join()\n",
    "for j in b:\n",
    "    j.start()\n",
    "    j.join()"
   ]
  },
  {
   "cell_type": "markdown",
   "id": "7769fbfa",
   "metadata": {},
   "source": [
    "## Question 5"
   ]
  },
  {
   "cell_type": "markdown",
   "id": "e08b1f61",
   "metadata": {},
   "source": [
    "### ADVANTAGES ###\n",
    "- Simultaneous and parallelized occurrence of tasks\n",
    "- Better use of CPU resource\n",
    "- Simplified and streamlined program coding\n",
    "- Enhanced performance by decreased development time\n",
    "### DISADVANTAGES ###\n",
    "- Complex debugging and testing processes\n",
    "- Overhead switching of context\n",
    "- Increased difficulty level in writing a program"
   ]
  },
  {
   "cell_type": "markdown",
   "id": "ed17375f",
   "metadata": {},
   "source": [
    "## Question 6"
   ]
  },
  {
   "cell_type": "markdown",
   "id": "a248eb88",
   "metadata": {},
   "source": [
    "- DEADLOCK - The program cannot continue to run because the lock of a thread is not released in time.\n",
    "- RACE-CONDITION - A race condition occurs when two threads try to access a shared variable simultaneously"
   ]
  }
 ],
 "metadata": {
  "kernelspec": {
   "display_name": "Python 3 (ipykernel)",
   "language": "python",
   "name": "python3"
  },
  "language_info": {
   "codemirror_mode": {
    "name": "ipython",
    "version": 3
   },
   "file_extension": ".py",
   "mimetype": "text/x-python",
   "name": "python",
   "nbconvert_exporter": "python",
   "pygments_lexer": "ipython3",
   "version": "3.9.7"
  }
 },
 "nbformat": 4,
 "nbformat_minor": 5
}
