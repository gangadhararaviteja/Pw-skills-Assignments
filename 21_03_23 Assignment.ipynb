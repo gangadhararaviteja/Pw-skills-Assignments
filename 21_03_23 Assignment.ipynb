{
  "cells": [
    {
      "cell_type": "markdown",
      "id": "a713943c",
      "metadata": {
        "id": "a713943c"
      },
      "source": [
        "## Question 1"
      ]
    },
    {
      "cell_type": "markdown",
      "source": [
        " Ordinal Encoding is a technique that assigns a unique integer value to each category, based on their ordinal relationship\n",
        "Label Encoding is a technique that assigns a unique integer value to each category, without any specific order or relationship between the values. \n",
        "\n",
        "For example, if we have a categorical feature \"color\" with the categories \"red\", \"green\", and \"blue\", we might assign the values 1, 2, and 3 i.e Label Encoding respectively. \n",
        "\n",
        "For example, if we have a categorical feature \"education level\" with the categories \"High School\", \"College\", and \"Graduate School\", we might assign the values 1, 2, and 3 i.e Ordinal Encoding respectively."
      ],
      "metadata": {
        "id": "AyXI8HMlzC2N"
      },
      "id": "AyXI8HMlzC2N"
    },
    {
      "cell_type": "markdown",
      "id": "ceeadd1c",
      "metadata": {
        "id": "ceeadd1c"
      },
      "source": [
        "## Question 2"
      ]
    },
    {
      "cell_type": "markdown",
      "source": [
        "Target Guided Ordinal Encoding is a technique used to transform categorical variables into numerical variables based on the target variable. This technique assigns a unique ordinal value to each category of the categorical variable, based on the mean of the target variable for each category.\n",
        "\n",
        "One example of when you might use Target Guided Ordinal Encoding in a machine learning project is when you have a categorical variable with a large number of categories, and you want to reduce the dimensionality of the data while preserving the relationship between the categories and the target variable"
      ],
      "metadata": {
        "id": "jV0MiaryzWjF"
      },
      "id": "jV0MiaryzWjF"
    },
    {
      "cell_type": "markdown",
      "id": "743105a3",
      "metadata": {
        "id": "743105a3"
      },
      "source": [
        "## Question 3"
      ]
    },
    {
      "cell_type": "markdown",
      "source": [
        "Covariance is a measure of the extent to which two variables are linearly related. It is a statistical concept that describes the degree to which two variables vary together. \n",
        "\n",
        "Covariance is important in statistical analysis because it provides insights into the relationship between two variables, which can help to understand the underlying patterns and trends in the data.\n",
        "\n",
        "covariance can be calculated by using following formula\n",
        "summation of i=1 to n ( ((xi-xmean)(yi-ymean))/(n-1) )"
      ],
      "metadata": {
        "id": "esEReFCTzb3s"
      },
      "id": "esEReFCTzb3s"
    },
    {
      "cell_type": "markdown",
      "id": "5f7bd022",
      "metadata": {
        "id": "5f7bd022"
      },
      "source": [
        "## Question 4"
      ]
    },
    {
      "cell_type": "code",
      "execution_count": null,
      "id": "869e92b4",
      "metadata": {
        "id": "869e92b4",
        "outputId": "5e36cd89-5c8a-4f4e-8de6-c6b8ea55fbdd"
      },
      "outputs": [
        {
          "data": {
            "text/html": [
              "<div>\n",
              "<style scoped>\n",
              "    .dataframe tbody tr th:only-of-type {\n",
              "        vertical-align: middle;\n",
              "    }\n",
              "\n",
              "    .dataframe tbody tr th {\n",
              "        vertical-align: top;\n",
              "    }\n",
              "\n",
              "    .dataframe thead th {\n",
              "        text-align: right;\n",
              "    }\n",
              "</style>\n",
              "<table border=\"1\" class=\"dataframe\">\n",
              "  <thead>\n",
              "    <tr style=\"text-align: right;\">\n",
              "      <th></th>\n",
              "      <th>color</th>\n",
              "      <th>size</th>\n",
              "      <th>material</th>\n",
              "    </tr>\n",
              "  </thead>\n",
              "  <tbody>\n",
              "    <tr>\n",
              "      <th>0</th>\n",
              "      <td>red</td>\n",
              "      <td>small</td>\n",
              "      <td>wood</td>\n",
              "    </tr>\n",
              "    <tr>\n",
              "      <th>1</th>\n",
              "      <td>green</td>\n",
              "      <td>large</td>\n",
              "      <td>plastic</td>\n",
              "    </tr>\n",
              "    <tr>\n",
              "      <th>2</th>\n",
              "      <td>blue</td>\n",
              "      <td>medium</td>\n",
              "      <td>metal</td>\n",
              "    </tr>\n",
              "    <tr>\n",
              "      <th>3</th>\n",
              "      <td>red</td>\n",
              "      <td>small</td>\n",
              "      <td>wood</td>\n",
              "    </tr>\n",
              "    <tr>\n",
              "      <th>4</th>\n",
              "      <td>red</td>\n",
              "      <td>large</td>\n",
              "      <td>plastic</td>\n",
              "    </tr>\n",
              "    <tr>\n",
              "      <th>5</th>\n",
              "      <td>blue</td>\n",
              "      <td>medium</td>\n",
              "      <td>wood</td>\n",
              "    </tr>\n",
              "  </tbody>\n",
              "</table>\n",
              "</div>"
            ],
            "text/plain": [
              "   color    size material\n",
              "0    red   small     wood\n",
              "1  green   large  plastic\n",
              "2   blue  medium    metal\n",
              "3    red   small     wood\n",
              "4    red   large  plastic\n",
              "5   blue  medium     wood"
            ]
          },
          "execution_count": 10,
          "metadata": {},
          "output_type": "execute_result"
        }
      ],
      "source": [
        "import pandas as pd\n",
        "df=pd.DataFrame({\n",
        "    'color':['red','green','blue','red','red','blue'],\n",
        "    'size':['small','large','medium','small','large','medium'],\n",
        "    'material':['wood','plastic','metal','wood','plastic','wood']\n",
        "})\n",
        "df"
      ]
    },
    {
      "cell_type": "code",
      "execution_count": null,
      "id": "0e60874b",
      "metadata": {
        "id": "0e60874b",
        "outputId": "e41f9608-0232-4bfb-c025-a3904789498b"
      },
      "outputs": [
        {
          "name": "stderr",
          "output_type": "stream",
          "text": [
            "C:\\Users\\dodda\\AppData\\Roaming\\Python\\Python310\\site-packages\\sklearn\\preprocessing\\_label.py:115: DataConversionWarning: A column-vector y was passed when a 1d array was expected. Please change the shape of y to (n_samples, ), for example using ravel().\n",
            "  y = column_or_1d(y, warn=True)\n",
            "C:\\Users\\dodda\\AppData\\Roaming\\Python\\Python310\\site-packages\\sklearn\\preprocessing\\_label.py:115: DataConversionWarning: A column-vector y was passed when a 1d array was expected. Please change the shape of y to (n_samples, ), for example using ravel().\n",
            "  y = column_or_1d(y, warn=True)\n",
            "C:\\Users\\dodda\\AppData\\Roaming\\Python\\Python310\\site-packages\\sklearn\\preprocessing\\_label.py:115: DataConversionWarning: A column-vector y was passed when a 1d array was expected. Please change the shape of y to (n_samples, ), for example using ravel().\n",
            "  y = column_or_1d(y, warn=True)\n"
          ]
        }
      ],
      "source": [
        "from sklearn.preprocessing import LabelEncoder\n",
        "encoder=LabelEncoder()\n",
        "df['encoded_color']=encoder.fit_transform(df[['color']])\n",
        "df['encoded_size']=encoder.fit_transform(df[['size']])\n",
        "df['encoded_material']=encoder.fit_transform(df[['material']])"
      ]
    },
    {
      "cell_type": "code",
      "execution_count": null,
      "id": "acd2f72a",
      "metadata": {
        "id": "acd2f72a",
        "outputId": "c0d78d00-8c2e-4cc2-d203-fbe2c81114f4"
      },
      "outputs": [
        {
          "data": {
            "text/html": [
              "<div>\n",
              "<style scoped>\n",
              "    .dataframe tbody tr th:only-of-type {\n",
              "        vertical-align: middle;\n",
              "    }\n",
              "\n",
              "    .dataframe tbody tr th {\n",
              "        vertical-align: top;\n",
              "    }\n",
              "\n",
              "    .dataframe thead th {\n",
              "        text-align: right;\n",
              "    }\n",
              "</style>\n",
              "<table border=\"1\" class=\"dataframe\">\n",
              "  <thead>\n",
              "    <tr style=\"text-align: right;\">\n",
              "      <th></th>\n",
              "      <th>color</th>\n",
              "      <th>size</th>\n",
              "      <th>material</th>\n",
              "      <th>encoded_color</th>\n",
              "      <th>encoded_size</th>\n",
              "      <th>encoded_material</th>\n",
              "    </tr>\n",
              "  </thead>\n",
              "  <tbody>\n",
              "    <tr>\n",
              "      <th>0</th>\n",
              "      <td>red</td>\n",
              "      <td>small</td>\n",
              "      <td>wood</td>\n",
              "      <td>2</td>\n",
              "      <td>2</td>\n",
              "      <td>2</td>\n",
              "    </tr>\n",
              "    <tr>\n",
              "      <th>1</th>\n",
              "      <td>green</td>\n",
              "      <td>large</td>\n",
              "      <td>plastic</td>\n",
              "      <td>1</td>\n",
              "      <td>0</td>\n",
              "      <td>1</td>\n",
              "    </tr>\n",
              "    <tr>\n",
              "      <th>2</th>\n",
              "      <td>blue</td>\n",
              "      <td>medium</td>\n",
              "      <td>metal</td>\n",
              "      <td>0</td>\n",
              "      <td>1</td>\n",
              "      <td>0</td>\n",
              "    </tr>\n",
              "    <tr>\n",
              "      <th>3</th>\n",
              "      <td>red</td>\n",
              "      <td>small</td>\n",
              "      <td>wood</td>\n",
              "      <td>2</td>\n",
              "      <td>2</td>\n",
              "      <td>2</td>\n",
              "    </tr>\n",
              "    <tr>\n",
              "      <th>4</th>\n",
              "      <td>red</td>\n",
              "      <td>large</td>\n",
              "      <td>plastic</td>\n",
              "      <td>2</td>\n",
              "      <td>0</td>\n",
              "      <td>1</td>\n",
              "    </tr>\n",
              "    <tr>\n",
              "      <th>5</th>\n",
              "      <td>blue</td>\n",
              "      <td>medium</td>\n",
              "      <td>wood</td>\n",
              "      <td>0</td>\n",
              "      <td>1</td>\n",
              "      <td>2</td>\n",
              "    </tr>\n",
              "  </tbody>\n",
              "</table>\n",
              "</div>"
            ],
            "text/plain": [
              "   color    size material  encoded_color  encoded_size  encoded_material\n",
              "0    red   small     wood              2             2                 2\n",
              "1  green   large  plastic              1             0                 1\n",
              "2   blue  medium    metal              0             1                 0\n",
              "3    red   small     wood              2             2                 2\n",
              "4    red   large  plastic              2             0                 1\n",
              "5   blue  medium     wood              0             1                 2"
            ]
          },
          "execution_count": 30,
          "metadata": {},
          "output_type": "execute_result"
        }
      ],
      "source": [
        "df"
      ]
    },
    {
      "cell_type": "markdown",
      "id": "b22c7993",
      "metadata": {
        "id": "b22c7993"
      },
      "source": [
        "## Question 5"
      ]
    },
    {
      "cell_type": "code",
      "execution_count": null,
      "id": "59f712e4",
      "metadata": {
        "id": "59f712e4",
        "outputId": "d3146151-07e0-4d94-a2ff-f91a270bdc6a"
      },
      "outputs": [
        {
          "data": {
            "text/html": [
              "<div>\n",
              "<style scoped>\n",
              "    .dataframe tbody tr th:only-of-type {\n",
              "        vertical-align: middle;\n",
              "    }\n",
              "\n",
              "    .dataframe tbody tr th {\n",
              "        vertical-align: top;\n",
              "    }\n",
              "\n",
              "    .dataframe thead th {\n",
              "        text-align: right;\n",
              "    }\n",
              "</style>\n",
              "<table border=\"1\" class=\"dataframe\">\n",
              "  <thead>\n",
              "    <tr style=\"text-align: right;\">\n",
              "      <th></th>\n",
              "      <th>age</th>\n",
              "      <th>income</th>\n",
              "      <th>ed_level</th>\n",
              "    </tr>\n",
              "  </thead>\n",
              "  <tbody>\n",
              "    <tr>\n",
              "      <th>0</th>\n",
              "      <td>25</td>\n",
              "      <td>25000</td>\n",
              "      <td>ms</td>\n",
              "    </tr>\n",
              "    <tr>\n",
              "      <th>1</th>\n",
              "      <td>26</td>\n",
              "      <td>26000</td>\n",
              "      <td>phd</td>\n",
              "    </tr>\n",
              "    <tr>\n",
              "      <th>2</th>\n",
              "      <td>27</td>\n",
              "      <td>27000</td>\n",
              "      <td>ms</td>\n",
              "    </tr>\n",
              "    <tr>\n",
              "      <th>3</th>\n",
              "      <td>28</td>\n",
              "      <td>28000</td>\n",
              "      <td>ms</td>\n",
              "    </tr>\n",
              "    <tr>\n",
              "      <th>4</th>\n",
              "      <td>29</td>\n",
              "      <td>29000</td>\n",
              "      <td>phd</td>\n",
              "    </tr>\n",
              "  </tbody>\n",
              "</table>\n",
              "</div>"
            ],
            "text/plain": [
              "   age  income ed_level\n",
              "0   25   25000       ms\n",
              "1   26   26000      phd\n",
              "2   27   27000       ms\n",
              "3   28   28000       ms\n",
              "4   29   29000      phd"
            ]
          },
          "execution_count": 33,
          "metadata": {},
          "output_type": "execute_result"
        }
      ],
      "source": [
        "# Age, Income, and Education level.\n",
        "df=pd.DataFrame({\n",
        "    'age':[25,26,27,28,29],\n",
        "    'income':[25000,26000,27000,28000,29000],\n",
        "    'ed_level':['ms','phd','ms','ms','phd']\n",
        "})\n",
        "df"
      ]
    },
    {
      "cell_type": "code",
      "execution_count": null,
      "id": "25828dd0",
      "metadata": {
        "id": "25828dd0",
        "outputId": "3797ab32-a2fc-4bcc-dada-80481c8766d2"
      },
      "outputs": [
        {
          "data": {
            "text/html": [
              "<div>\n",
              "<style scoped>\n",
              "    .dataframe tbody tr th:only-of-type {\n",
              "        vertical-align: middle;\n",
              "    }\n",
              "\n",
              "    .dataframe tbody tr th {\n",
              "        vertical-align: top;\n",
              "    }\n",
              "\n",
              "    .dataframe thead th {\n",
              "        text-align: right;\n",
              "    }\n",
              "</style>\n",
              "<table border=\"1\" class=\"dataframe\">\n",
              "  <thead>\n",
              "    <tr style=\"text-align: right;\">\n",
              "      <th></th>\n",
              "      <th>ed_level</th>\n",
              "    </tr>\n",
              "  </thead>\n",
              "  <tbody>\n",
              "    <tr>\n",
              "      <th>0</th>\n",
              "      <td>ms</td>\n",
              "    </tr>\n",
              "    <tr>\n",
              "      <th>1</th>\n",
              "      <td>phd</td>\n",
              "    </tr>\n",
              "    <tr>\n",
              "      <th>2</th>\n",
              "      <td>ms</td>\n",
              "    </tr>\n",
              "    <tr>\n",
              "      <th>3</th>\n",
              "      <td>ms</td>\n",
              "    </tr>\n",
              "    <tr>\n",
              "      <th>4</th>\n",
              "      <td>phd</td>\n",
              "    </tr>\n",
              "  </tbody>\n",
              "</table>\n",
              "</div>"
            ],
            "text/plain": [
              "  ed_level\n",
              "0       ms\n",
              "1      phd\n",
              "2       ms\n",
              "3       ms\n",
              "4      phd"
            ]
          },
          "execution_count": 38,
          "metadata": {},
          "output_type": "execute_result"
        }
      ],
      "source": [
        "df[['ed_level']]"
      ]
    },
    {
      "cell_type": "code",
      "execution_count": null,
      "id": "92df7ec8",
      "metadata": {
        "id": "92df7ec8",
        "outputId": "d72ea694-d1b1-4231-c4cb-8ab3eb5c3e20"
      },
      "outputs": [
        {
          "data": {
            "text/html": [
              "<div>\n",
              "<style scoped>\n",
              "    .dataframe tbody tr th:only-of-type {\n",
              "        vertical-align: middle;\n",
              "    }\n",
              "\n",
              "    .dataframe tbody tr th {\n",
              "        vertical-align: top;\n",
              "    }\n",
              "\n",
              "    .dataframe thead th {\n",
              "        text-align: right;\n",
              "    }\n",
              "</style>\n",
              "<table border=\"1\" class=\"dataframe\">\n",
              "  <thead>\n",
              "    <tr style=\"text-align: right;\">\n",
              "      <th></th>\n",
              "      <th>age</th>\n",
              "      <th>income</th>\n",
              "      <th>encoded_ed_level</th>\n",
              "    </tr>\n",
              "  </thead>\n",
              "  <tbody>\n",
              "    <tr>\n",
              "      <th>age</th>\n",
              "      <td>2.50</td>\n",
              "      <td>2500.0</td>\n",
              "      <td>0.25</td>\n",
              "    </tr>\n",
              "    <tr>\n",
              "      <th>income</th>\n",
              "      <td>2500.00</td>\n",
              "      <td>2500000.0</td>\n",
              "      <td>250.00</td>\n",
              "    </tr>\n",
              "    <tr>\n",
              "      <th>encoded_ed_level</th>\n",
              "      <td>0.25</td>\n",
              "      <td>250.0</td>\n",
              "      <td>0.30</td>\n",
              "    </tr>\n",
              "  </tbody>\n",
              "</table>\n",
              "</div>"
            ],
            "text/plain": [
              "                      age     income  encoded_ed_level\n",
              "age                  2.50     2500.0              0.25\n",
              "income            2500.00  2500000.0            250.00\n",
              "encoded_ed_level     0.25      250.0              0.30"
            ]
          },
          "execution_count": 46,
          "metadata": {},
          "output_type": "execute_result"
        }
      ],
      "source": [
        "from sklearn.preprocessing import OrdinalEncoder\n",
        "encoder=OrdinalEncoder(categories=[['ms','phd']])\n",
        "df['encoded_ed_level']=encoder.fit_transform(df[['ed_level']])\n",
        "df.cov()"
      ]
    },
    {
      "cell_type": "markdown",
      "id": "40839ec0",
      "metadata": {
        "id": "40839ec0"
      },
      "source": [
        "## Question 6"
      ]
    },
    {
      "cell_type": "markdown",
      "source": [
        "df containing features :  \n",
        "\"Gender\" (Male/Female)  \n",
        "\"Education Level\" (High School/Bachelor's/Master's/PhD)  \n",
        "\"Employment Status\" (Unemployed/Part-Time/Full-Time)\n",
        "\n",
        "for GENDER feature - LabelEncoder because we cannot rank for male/female  \n",
        "for EDUCATION_LEVEL - Ordinal Encoder because we can give rank  \n",
        "for EMPLOYED_STATUS - Label Encoder because we cannot give rank"
      ],
      "metadata": {
        "id": "JBbu9oJkzljy"
      },
      "id": "JBbu9oJkzljy"
    },
    {
      "cell_type": "markdown",
      "id": "3ec73a32",
      "metadata": {
        "id": "3ec73a32"
      },
      "source": [
        "## Question 7"
      ]
    },
    {
      "cell_type": "code",
      "execution_count": null,
      "id": "2ccbf08a",
      "metadata": {
        "id": "2ccbf08a"
      },
      "outputs": [],
      "source": [
        "df=pd.DataFrame({\n",
        "    'temp':[25,26,27,28,29,30],\n",
        "    'humidity':[16,17,18,19,20,21],\n",
        "    'weather':['sunny','cloudy','sunny','rainy','rainy','cloudy'],\n",
        "    'wind':['north','south','west','north','east','west']\n",
        "})"
      ]
    },
    {
      "cell_type": "code",
      "execution_count": null,
      "id": "8c18c8de",
      "metadata": {
        "id": "8c18c8de",
        "outputId": "72c5d594-37ba-497b-97ed-629877084599"
      },
      "outputs": [
        {
          "data": {
            "text/html": [
              "<div>\n",
              "<style scoped>\n",
              "    .dataframe tbody tr th:only-of-type {\n",
              "        vertical-align: middle;\n",
              "    }\n",
              "\n",
              "    .dataframe tbody tr th {\n",
              "        vertical-align: top;\n",
              "    }\n",
              "\n",
              "    .dataframe thead th {\n",
              "        text-align: right;\n",
              "    }\n",
              "</style>\n",
              "<table border=\"1\" class=\"dataframe\">\n",
              "  <thead>\n",
              "    <tr style=\"text-align: right;\">\n",
              "      <th></th>\n",
              "      <th>temp</th>\n",
              "      <th>humidity</th>\n",
              "      <th>weather</th>\n",
              "      <th>wind</th>\n",
              "    </tr>\n",
              "  </thead>\n",
              "  <tbody>\n",
              "    <tr>\n",
              "      <th>0</th>\n",
              "      <td>25</td>\n",
              "      <td>16</td>\n",
              "      <td>sunny</td>\n",
              "      <td>north</td>\n",
              "    </tr>\n",
              "    <tr>\n",
              "      <th>1</th>\n",
              "      <td>26</td>\n",
              "      <td>17</td>\n",
              "      <td>cloudy</td>\n",
              "      <td>south</td>\n",
              "    </tr>\n",
              "    <tr>\n",
              "      <th>2</th>\n",
              "      <td>27</td>\n",
              "      <td>18</td>\n",
              "      <td>sunny</td>\n",
              "      <td>west</td>\n",
              "    </tr>\n",
              "    <tr>\n",
              "      <th>3</th>\n",
              "      <td>28</td>\n",
              "      <td>19</td>\n",
              "      <td>rainy</td>\n",
              "      <td>north</td>\n",
              "    </tr>\n",
              "    <tr>\n",
              "      <th>4</th>\n",
              "      <td>29</td>\n",
              "      <td>20</td>\n",
              "      <td>rainy</td>\n",
              "      <td>east</td>\n",
              "    </tr>\n",
              "    <tr>\n",
              "      <th>5</th>\n",
              "      <td>30</td>\n",
              "      <td>21</td>\n",
              "      <td>cloudy</td>\n",
              "      <td>west</td>\n",
              "    </tr>\n",
              "  </tbody>\n",
              "</table>\n",
              "</div>"
            ],
            "text/plain": [
              "   temp  humidity weather   wind\n",
              "0    25        16   sunny  north\n",
              "1    26        17  cloudy  south\n",
              "2    27        18   sunny   west\n",
              "3    28        19   rainy  north\n",
              "4    29        20   rainy   east\n",
              "5    30        21  cloudy   west"
            ]
          },
          "execution_count": 75,
          "metadata": {},
          "output_type": "execute_result"
        }
      ],
      "source": [
        "df"
      ]
    },
    {
      "cell_type": "code",
      "execution_count": null,
      "id": "377e10e8",
      "metadata": {
        "id": "377e10e8",
        "outputId": "e202d01f-b052-4640-9b65-2f61ec17da7a"
      },
      "outputs": [
        {
          "name": "stderr",
          "output_type": "stream",
          "text": [
            "C:\\Users\\dodda\\AppData\\Roaming\\Python\\Python310\\site-packages\\sklearn\\preprocessing\\_label.py:115: DataConversionWarning: A column-vector y was passed when a 1d array was expected. Please change the shape of y to (n_samples, ), for example using ravel().\n",
            "  y = column_or_1d(y, warn=True)\n",
            "C:\\Users\\dodda\\AppData\\Roaming\\Python\\Python310\\site-packages\\sklearn\\preprocessing\\_label.py:115: DataConversionWarning: A column-vector y was passed when a 1d array was expected. Please change the shape of y to (n_samples, ), for example using ravel().\n",
            "  y = column_or_1d(y, warn=True)\n"
          ]
        },
        {
          "data": {
            "text/html": [
              "<div>\n",
              "<style scoped>\n",
              "    .dataframe tbody tr th:only-of-type {\n",
              "        vertical-align: middle;\n",
              "    }\n",
              "\n",
              "    .dataframe tbody tr th {\n",
              "        vertical-align: top;\n",
              "    }\n",
              "\n",
              "    .dataframe thead th {\n",
              "        text-align: right;\n",
              "    }\n",
              "</style>\n",
              "<table border=\"1\" class=\"dataframe\">\n",
              "  <thead>\n",
              "    <tr style=\"text-align: right;\">\n",
              "      <th></th>\n",
              "      <th>temp</th>\n",
              "      <th>humidity</th>\n",
              "      <th>weather</th>\n",
              "      <th>wind</th>\n",
              "      <th>weather_enc</th>\n",
              "      <th>wind_enc</th>\n",
              "    </tr>\n",
              "  </thead>\n",
              "  <tbody>\n",
              "    <tr>\n",
              "      <th>0</th>\n",
              "      <td>25</td>\n",
              "      <td>16</td>\n",
              "      <td>sunny</td>\n",
              "      <td>north</td>\n",
              "      <td>2</td>\n",
              "      <td>1</td>\n",
              "    </tr>\n",
              "    <tr>\n",
              "      <th>1</th>\n",
              "      <td>26</td>\n",
              "      <td>17</td>\n",
              "      <td>cloudy</td>\n",
              "      <td>south</td>\n",
              "      <td>0</td>\n",
              "      <td>2</td>\n",
              "    </tr>\n",
              "    <tr>\n",
              "      <th>2</th>\n",
              "      <td>27</td>\n",
              "      <td>18</td>\n",
              "      <td>sunny</td>\n",
              "      <td>west</td>\n",
              "      <td>2</td>\n",
              "      <td>3</td>\n",
              "    </tr>\n",
              "    <tr>\n",
              "      <th>3</th>\n",
              "      <td>28</td>\n",
              "      <td>19</td>\n",
              "      <td>rainy</td>\n",
              "      <td>north</td>\n",
              "      <td>1</td>\n",
              "      <td>1</td>\n",
              "    </tr>\n",
              "    <tr>\n",
              "      <th>4</th>\n",
              "      <td>29</td>\n",
              "      <td>20</td>\n",
              "      <td>rainy</td>\n",
              "      <td>east</td>\n",
              "      <td>1</td>\n",
              "      <td>0</td>\n",
              "    </tr>\n",
              "    <tr>\n",
              "      <th>5</th>\n",
              "      <td>30</td>\n",
              "      <td>21</td>\n",
              "      <td>cloudy</td>\n",
              "      <td>west</td>\n",
              "      <td>0</td>\n",
              "      <td>3</td>\n",
              "    </tr>\n",
              "  </tbody>\n",
              "</table>\n",
              "</div>"
            ],
            "text/plain": [
              "   temp  humidity weather   wind  weather_enc  wind_enc\n",
              "0    25        16   sunny  north            2         1\n",
              "1    26        17  cloudy  south            0         2\n",
              "2    27        18   sunny   west            2         3\n",
              "3    28        19   rainy  north            1         1\n",
              "4    29        20   rainy   east            1         0\n",
              "5    30        21  cloudy   west            0         3"
            ]
          },
          "execution_count": 76,
          "metadata": {},
          "output_type": "execute_result"
        }
      ],
      "source": [
        "from sklearn.preprocessing import LabelEncoder\n",
        "encoder=LabelEncoder()\n",
        "df['weather_enc']=encoder.fit_transform(df[['weather']])\n",
        "df['wind_enc']=encoder.fit_transform(df[['wind']])\n",
        "df"
      ]
    },
    {
      "cell_type": "code",
      "execution_count": null,
      "id": "54cfd07e",
      "metadata": {
        "id": "54cfd07e",
        "outputId": "8bfa69d6-2b28-4d5a-a612-910cad4b750e"
      },
      "outputs": [
        {
          "data": {
            "text/html": [
              "<div>\n",
              "<style scoped>\n",
              "    .dataframe tbody tr th:only-of-type {\n",
              "        vertical-align: middle;\n",
              "    }\n",
              "\n",
              "    .dataframe tbody tr th {\n",
              "        vertical-align: top;\n",
              "    }\n",
              "\n",
              "    .dataframe thead th {\n",
              "        text-align: right;\n",
              "    }\n",
              "</style>\n",
              "<table border=\"1\" class=\"dataframe\">\n",
              "  <thead>\n",
              "    <tr style=\"text-align: right;\">\n",
              "      <th></th>\n",
              "      <th>temp</th>\n",
              "      <th>humidity</th>\n",
              "      <th>weather_enc</th>\n",
              "      <th>wind_enc</th>\n",
              "    </tr>\n",
              "  </thead>\n",
              "  <tbody>\n",
              "    <tr>\n",
              "      <th>temp</th>\n",
              "      <td>3.5</td>\n",
              "      <td>3.5</td>\n",
              "      <td>-0.8</td>\n",
              "      <td>0.200000</td>\n",
              "    </tr>\n",
              "    <tr>\n",
              "      <th>humidity</th>\n",
              "      <td>3.5</td>\n",
              "      <td>3.5</td>\n",
              "      <td>-0.8</td>\n",
              "      <td>0.200000</td>\n",
              "    </tr>\n",
              "    <tr>\n",
              "      <th>weather_enc</th>\n",
              "      <td>-0.8</td>\n",
              "      <td>-0.8</td>\n",
              "      <td>0.8</td>\n",
              "      <td>-0.200000</td>\n",
              "    </tr>\n",
              "    <tr>\n",
              "      <th>wind_enc</th>\n",
              "      <td>0.2</td>\n",
              "      <td>0.2</td>\n",
              "      <td>-0.2</td>\n",
              "      <td>1.466667</td>\n",
              "    </tr>\n",
              "  </tbody>\n",
              "</table>\n",
              "</div>"
            ],
            "text/plain": [
              "             temp  humidity  weather_enc  wind_enc\n",
              "temp          3.5       3.5         -0.8  0.200000\n",
              "humidity      3.5       3.5         -0.8  0.200000\n",
              "weather_enc  -0.8      -0.8          0.8 -0.200000\n",
              "wind_enc      0.2       0.2         -0.2  1.466667"
            ]
          },
          "execution_count": 77,
          "metadata": {},
          "output_type": "execute_result"
        }
      ],
      "source": [
        "df.cov()"
      ]
    }
  ],
  "metadata": {
    "kernelspec": {
      "display_name": "Python 3 (ipykernel)",
      "language": "python",
      "name": "python3"
    },
    "language_info": {
      "codemirror_mode": {
        "name": "ipython",
        "version": 3
      },
      "file_extension": ".py",
      "mimetype": "text/x-python",
      "name": "python",
      "nbconvert_exporter": "python",
      "pygments_lexer": "ipython3",
      "version": "3.10.6"
    },
    "colab": {
      "provenance": []
    }
  },
  "nbformat": 4,
  "nbformat_minor": 5
}