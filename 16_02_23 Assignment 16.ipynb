{
 "cells": [
  {
   "cell_type": "markdown",
   "id": "ea839b37",
   "metadata": {},
   "source": [
    "## Question 1"
   ]
  },
  {
   "cell_type": "markdown",
   "id": "b4b25e15",
   "metadata": {},
   "source": [
    "- DataBase-an organized collection of data and information or interrelated data collected at one place.\n",
    "* SQL-Relational Database\n",
    "* NOSQL-Non Relational or Distributed Database"
   ]
  },
  {
   "cell_type": "markdown",
   "id": "0081cfa2",
   "metadata": {},
   "source": [
    "## Question 2"
   ]
  },
  {
   "cell_type": "markdown",
   "id": "c9486832",
   "metadata": {},
   "source": [
    "###### DDL-Data Definition Language\n",
    "****\n",
    "- CREATE-used to create Database,Table  \n",
    " CREATE DATABASE temp;\n",
    "*********\n",
    "- DROP-used to delete whole database or table  \n",
    "DROP DATABASE temp;\n",
    "****\n",
    "- ALTER-used to add, delete, or modify columns in an existing table.  \n",
    "ALTER TABLE Customers ADD Email varchar(255);\n",
    "****\n",
    "- TRUNCATE-Delete all data inside the table  \n",
    "TRUNCATE TABLE table1;"
   ]
  },
  {
   "cell_type": "markdown",
   "id": "9e455a0b",
   "metadata": {},
   "source": [
    "## Question 3"
   ]
  },
  {
   "cell_type": "markdown",
   "id": "f719295a",
   "metadata": {},
   "source": [
    "##### DML-Data Manipulation Language\n",
    "\n",
    "- INSERT-used to insert values into the table  \n",
    "INSERT INTO table1 VALUES(1,'ravi');\n",
    "*****\n",
    "- UPDATE-used to modify existing tables  \n",
    "UPDATE table1 SET name='sachin' WHERE age=19;\n",
    "****\n",
    "- DELETE-used to remove existing records from database tables  \n",
    "DELETE FROM table1 WHERE age=19;"
   ]
  },
  {
   "cell_type": "markdown",
   "id": "b9e57453",
   "metadata": {},
   "source": [
    "## Question 4 "
   ]
  },
  {
   "cell_type": "markdown",
   "id": "5fffd97b",
   "metadata": {},
   "source": [
    "###### DQL-Data Query Language\n",
    "*****\n",
    "- SELECT-used to display the records in tha table\n",
    "SELECT * FROM table1;"
   ]
  },
  {
   "cell_type": "markdown",
   "id": "37416516",
   "metadata": {},
   "source": [
    "## Question 5 "
   ]
  },
  {
   "cell_type": "markdown",
   "id": "9bd73e77",
   "metadata": {},
   "source": [
    "- PRIMARY KEY-identifies each record in the table\n",
    "- FOREIGN KEY-used to link two tables together"
   ]
  },
  {
   "cell_type": "markdown",
   "id": "92e2c1a5",
   "metadata": {},
   "source": [
    "## Question 6 "
   ]
  },
  {
   "cell_type": "code",
   "execution_count": 1,
   "id": "63019853",
   "metadata": {},
   "outputs": [
    {
     "ename": "ModuleNotFoundError",
     "evalue": "No module named 'mysql'",
     "output_type": "error",
     "traceback": [
      "\u001b[1;31m---------------------------------------------------------------------------\u001b[0m",
      "\u001b[1;31mModuleNotFoundError\u001b[0m                       Traceback (most recent call last)",
      "Cell \u001b[1;32mIn [1], line 1\u001b[0m\n\u001b[1;32m----> 1\u001b[0m \u001b[38;5;28;01mimport\u001b[39;00m \u001b[38;5;21;01mmysql\u001b[39;00m\u001b[38;5;21;01m.\u001b[39;00m\u001b[38;5;21;01mconnector\u001b[39;00m\n\u001b[0;32m      2\u001b[0m mydb\u001b[38;5;241m=\u001b[39mmysql\u001b[38;5;241m.\u001b[39mconnector\u001b[38;5;241m.\u001b[39mconnect(\n\u001b[0;32m      3\u001b[0m     host\u001b[38;5;241m=\u001b[39m\u001b[38;5;124m'\u001b[39m\u001b[38;5;124mlocalhost\u001b[39m\u001b[38;5;124m'\u001b[39m,\n\u001b[0;32m      4\u001b[0m     user\u001b[38;5;241m=\u001b[39m\u001b[38;5;124m'\u001b[39m\u001b[38;5;124msqluser\u001b[39m\u001b[38;5;124m'\u001b[39m,\n\u001b[0;32m      5\u001b[0m     password\u001b[38;5;241m=\u001b[39m\u001b[38;5;124m'\u001b[39m\u001b[38;5;124mpassword\u001b[39m\u001b[38;5;124m'\u001b[39m\n\u001b[0;32m      6\u001b[0m )\n\u001b[0;32m      7\u001b[0m \u001b[38;5;66;03m#cursor()-used to create object for database so that we can execute commands\u001b[39;00m\n",
      "\u001b[1;31mModuleNotFoundError\u001b[0m: No module named 'mysql'"
     ]
    }
   ],
   "source": [
    "import mysql.connector\n",
    "mydb=mysql.connector.connect(\n",
    "    host='localhost',\n",
    "    user='sqluser',\n",
    "    password='password'\n",
    ")\n",
    "#cursor()-used to create object for database so that we can execute commands\n",
    "cur=mydb.cursor()\n",
    "#execute()-used to execute SQL commands\n",
    "cur.execute('CREATE DATABASE temp1')\n",
    "cur.close()"
   ]
  },
  {
   "cell_type": "markdown",
   "id": "63956049",
   "metadata": {},
   "source": [
    "## Question 7"
   ]
  },
  {
   "cell_type": "markdown",
   "id": "24789d95",
   "metadata": {},
   "source": [
    "- 1.FROM clause\n",
    "- 2.ON clause\n",
    "- 3.OUTER clause\n",
    "- 4.WHERE clause\n",
    "- 5.GROUP BY clause\n",
    "- 6.HAVING clause\n",
    "- 7.SELECT clause\n",
    "- 8.DISTINCT clause\n",
    "- 9.ORDER BY clause\n",
    "- 10.TOP clause"
   ]
  },
  {
   "cell_type": "code",
   "execution_count": null,
   "id": "0bf677c1",
   "metadata": {},
   "outputs": [],
   "source": []
  }
 ],
 "metadata": {
  "kernelspec": {
   "display_name": "Python 3 (ipykernel)",
   "language": "python",
   "name": "python3"
  },
  "language_info": {
   "codemirror_mode": {
    "name": "ipython",
    "version": 3
   },
   "file_extension": ".py",
   "mimetype": "text/x-python",
   "name": "python",
   "nbconvert_exporter": "python",
   "pygments_lexer": "ipython3",
   "version": "3.9.7"
  }
 },
 "nbformat": 4,
 "nbformat_minor": 5
}
